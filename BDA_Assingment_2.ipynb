{
  "nbformat": 4,
  "nbformat_minor": 0,
  "metadata": {
    "colab": {
      "name": "BDA Assingment 2",
      "provenance": [],
      "collapsed_sections": [],
      "toc_visible": true,
      "authorship_tag": "ABX9TyPcpufsYdfKW3FMULUgQiVH",
      "include_colab_link": true
    },
    "kernelspec": {
      "name": "python3",
      "display_name": "Python 3"
    },
    "language_info": {
      "name": "python"
    }
  },
  "cells": [
    {
      "cell_type": "markdown",
      "metadata": {
        "id": "view-in-github",
        "colab_type": "text"
      },
      "source": [
        "<a href=\"https://colab.research.google.com/github/dtngx/BDA/blob/main/BDA_Assingment_2.ipynb\" target=\"_parent\"><img src=\"https://colab.research.google.com/assets/colab-badge.svg\" alt=\"Open In Colab\"/></a>"
      ]
    },
    {
      "cell_type": "markdown",
      "metadata": {
        "id": "9gKm68_A5mX6"
      },
      "source": [
        "# BDA Assignment 2"
      ]
    },
    {
      "cell_type": "markdown",
      "metadata": {
        "id": "itJ4j4n65qMq"
      },
      "source": [
        "## Preparation"
      ]
    },
    {
      "cell_type": "code",
      "metadata": {
        "colab": {
          "base_uri": "https://localhost:8080/"
        },
        "id": "ST8BgkmQ4ozE",
        "outputId": "30407bdb-1553-4985-f300-417825a1413c"
      },
      "source": [
        "#open the working directory by attaching a google drive\n",
        "from google.colab import drive\n",
        "drive.mount('/content/drive')"
      ],
      "execution_count": null,
      "outputs": [
        {
          "output_type": "stream",
          "text": [
            "Drive already mounted at /content/drive; to attempt to forcibly remount, call drive.mount(\"/content/drive\", force_remount=True).\n"
          ],
          "name": "stdout"
        }
      ]
    },
    {
      "cell_type": "code",
      "metadata": {
        "colab": {
          "base_uri": "https://localhost:8080/"
        },
        "id": "6wgF9L0C61Ix",
        "outputId": "d956c1ad-d330-4f35-9de4-5174bb972fa9"
      },
      "source": [
        "#installing jdk, spark and pyspark \n",
        "!apt-get install openjdk-8-jdk-headless -qq > /dev/null\n",
        "!wget -q https://downloads.apache.org/spark/spark-3.1.1/spark-3.1.1-bin-hadoop2.7.tgz\n",
        "!tar -xvf spark-3.1.1-bin-hadoop2.7.tgz\n",
        "!pip install -q findspark\n",
        "!pip install pyspark"
      ],
      "execution_count": null,
      "outputs": [
        {
          "output_type": "stream",
          "text": [
            "spark-3.1.1-bin-hadoop2.7/\n",
            "spark-3.1.1-bin-hadoop2.7/NOTICE\n",
            "spark-3.1.1-bin-hadoop2.7/kubernetes/\n",
            "spark-3.1.1-bin-hadoop2.7/kubernetes/tests/\n",
            "spark-3.1.1-bin-hadoop2.7/kubernetes/tests/python_executable_check.py\n",
            "spark-3.1.1-bin-hadoop2.7/kubernetes/tests/autoscale.py\n",
            "spark-3.1.1-bin-hadoop2.7/kubernetes/tests/worker_memory_check.py\n",
            "spark-3.1.1-bin-hadoop2.7/kubernetes/tests/py_container_checks.py\n",
            "spark-3.1.1-bin-hadoop2.7/kubernetes/tests/decommissioning.py\n",
            "spark-3.1.1-bin-hadoop2.7/kubernetes/tests/pyfiles.py\n",
            "spark-3.1.1-bin-hadoop2.7/kubernetes/tests/decommissioning_cleanup.py\n",
            "spark-3.1.1-bin-hadoop2.7/kubernetes/dockerfiles/\n",
            "spark-3.1.1-bin-hadoop2.7/kubernetes/dockerfiles/spark/\n",
            "spark-3.1.1-bin-hadoop2.7/kubernetes/dockerfiles/spark/decom.sh\n",
            "spark-3.1.1-bin-hadoop2.7/kubernetes/dockerfiles/spark/entrypoint.sh\n",
            "spark-3.1.1-bin-hadoop2.7/kubernetes/dockerfiles/spark/bindings/\n",
            "spark-3.1.1-bin-hadoop2.7/kubernetes/dockerfiles/spark/bindings/R/\n",
            "spark-3.1.1-bin-hadoop2.7/kubernetes/dockerfiles/spark/bindings/R/Dockerfile\n",
            "spark-3.1.1-bin-hadoop2.7/kubernetes/dockerfiles/spark/bindings/python/\n",
            "spark-3.1.1-bin-hadoop2.7/kubernetes/dockerfiles/spark/bindings/python/Dockerfile\n",
            "spark-3.1.1-bin-hadoop2.7/kubernetes/dockerfiles/spark/Dockerfile\n",
            "spark-3.1.1-bin-hadoop2.7/jars/\n",
            "spark-3.1.1-bin-hadoop2.7/jars/jackson-xc-1.9.13.jar\n",
            "spark-3.1.1-bin-hadoop2.7/jars/RoaringBitmap-0.9.0.jar\n",
            "spark-3.1.1-bin-hadoop2.7/jars/commons-digester-1.8.jar\n",
            "spark-3.1.1-bin-hadoop2.7/jars/api-util-1.0.0-M20.jar\n",
            "spark-3.1.1-bin-hadoop2.7/jars/hive-vector-code-gen-2.3.7.jar\n",
            "spark-3.1.1-bin-hadoop2.7/jars/derby-10.12.1.1.jar\n",
            "spark-3.1.1-bin-hadoop2.7/jars/commons-beanutils-1.9.4.jar\n",
            "spark-3.1.1-bin-hadoop2.7/jars/okhttp-3.12.12.jar\n",
            "spark-3.1.1-bin-hadoop2.7/jars/httpcore-4.4.12.jar\n",
            "spark-3.1.1-bin-hadoop2.7/jars/logging-interceptor-3.12.12.jar\n",
            "spark-3.1.1-bin-hadoop2.7/jars/hadoop-yarn-api-2.7.4.jar\n",
            "spark-3.1.1-bin-hadoop2.7/jars/scala-library-2.12.10.jar\n",
            "spark-3.1.1-bin-hadoop2.7/jars/spark-mllib-local_2.12-3.1.1.jar\n",
            "spark-3.1.1-bin-hadoop2.7/jars/parquet-format-2.4.0.jar\n",
            "spark-3.1.1-bin-hadoop2.7/jars/kryo-shaded-4.0.2.jar\n",
            "spark-3.1.1-bin-hadoop2.7/jars/xercesImpl-2.12.0.jar\n",
            "spark-3.1.1-bin-hadoop2.7/jars/commons-logging-1.1.3.jar\n",
            "spark-3.1.1-bin-hadoop2.7/jars/commons-compiler-3.0.16.jar\n",
            "spark-3.1.1-bin-hadoop2.7/jars/jdo-api-3.0.1.jar\n",
            "spark-3.1.1-bin-hadoop2.7/jars/spire-macros_2.12-0.17.0-M1.jar\n",
            "spark-3.1.1-bin-hadoop2.7/jars/json4s-core_2.12-3.7.0-M5.jar\n",
            "spark-3.1.1-bin-hadoop2.7/jars/JLargeArrays-1.5.jar\n",
            "spark-3.1.1-bin-hadoop2.7/jars/jsp-api-2.1.jar\n",
            "spark-3.1.1-bin-hadoop2.7/jars/kubernetes-model-autoscaling-4.12.0.jar\n",
            "spark-3.1.1-bin-hadoop2.7/jars/jcl-over-slf4j-1.7.30.jar\n",
            "spark-3.1.1-bin-hadoop2.7/jars/json4s-ast_2.12-3.7.0-M5.jar\n",
            "spark-3.1.1-bin-hadoop2.7/jars/hive-cli-2.3.7.jar\n",
            "spark-3.1.1-bin-hadoop2.7/jars/apacheds-i18n-2.0.0-M15.jar\n",
            "spark-3.1.1-bin-hadoop2.7/jars/parquet-common-1.10.1.jar\n",
            "spark-3.1.1-bin-hadoop2.7/jars/stax-api-1.0.1.jar\n",
            "spark-3.1.1-bin-hadoop2.7/jars/jackson-dataformat-yaml-2.10.0.jar\n",
            "spark-3.1.1-bin-hadoop2.7/jars/hive-storage-api-2.7.2.jar\n",
            "spark-3.1.1-bin-hadoop2.7/jars/algebra_2.12-2.0.0-M2.jar\n",
            "spark-3.1.1-bin-hadoop2.7/jars/hadoop-annotations-2.7.4.jar\n",
            "spark-3.1.1-bin-hadoop2.7/jars/guice-servlet-3.0.jar\n",
            "spark-3.1.1-bin-hadoop2.7/jars/spire-util_2.12-0.17.0-M1.jar\n",
            "spark-3.1.1-bin-hadoop2.7/jars/jakarta.activation-api-1.2.1.jar\n",
            "spark-3.1.1-bin-hadoop2.7/jars/jline-2.14.6.jar\n",
            "spark-3.1.1-bin-hadoop2.7/jars/breeze_2.12-1.0.jar\n",
            "spark-3.1.1-bin-hadoop2.7/jars/metrics-jvm-4.1.1.jar\n",
            "spark-3.1.1-bin-hadoop2.7/jars/dropwizard-metrics-hadoop-metrics2-reporter-0.1.2.jar\n",
            "spark-3.1.1-bin-hadoop2.7/jars/machinist_2.12-0.6.8.jar\n",
            "spark-3.1.1-bin-hadoop2.7/jars/scala-compiler-2.12.10.jar\n",
            "spark-3.1.1-bin-hadoop2.7/jars/commons-pool-1.5.4.jar\n",
            "spark-3.1.1-bin-hadoop2.7/jars/spark-network-shuffle_2.12-3.1.1.jar\n",
            "spark-3.1.1-bin-hadoop2.7/jars/spark-repl_2.12-3.1.1.jar\n",
            "spark-3.1.1-bin-hadoop2.7/jars/jta-1.1.jar\n",
            "spark-3.1.1-bin-hadoop2.7/jars/kubernetes-model-admissionregistration-4.12.0.jar\n",
            "spark-3.1.1-bin-hadoop2.7/jars/istack-commons-runtime-3.0.8.jar\n",
            "spark-3.1.1-bin-hadoop2.7/jars/metrics-graphite-4.1.1.jar\n",
            "spark-3.1.1-bin-hadoop2.7/jars/hadoop-hdfs-2.7.4.jar\n",
            "spark-3.1.1-bin-hadoop2.7/jars/spark-streaming_2.12-3.1.1.jar\n",
            "spark-3.1.1-bin-hadoop2.7/jars/spark-launcher_2.12-3.1.1.jar\n",
            "spark-3.1.1-bin-hadoop2.7/jars/objenesis-2.6.jar\n",
            "spark-3.1.1-bin-hadoop2.7/jars/commons-collections-3.2.2.jar\n",
            "spark-3.1.1-bin-hadoop2.7/jars/audience-annotations-0.5.0.jar\n",
            "spark-3.1.1-bin-hadoop2.7/jars/jpam-1.1.jar\n",
            "spark-3.1.1-bin-hadoop2.7/jars/jakarta.annotation-api-1.3.5.jar\n",
            "spark-3.1.1-bin-hadoop2.7/jars/xmlenc-0.52.jar\n",
            "spark-3.1.1-bin-hadoop2.7/jars/api-asn1-api-1.0.0-M20.jar\n",
            "spark-3.1.1-bin-hadoop2.7/jars/kubernetes-model-common-4.12.0.jar\n",
            "spark-3.1.1-bin-hadoop2.7/jars/kubernetes-model-extensions-4.12.0.jar\n",
            "spark-3.1.1-bin-hadoop2.7/jars/py4j-0.10.9.jar\n",
            "spark-3.1.1-bin-hadoop2.7/jars/hadoop-mapreduce-client-common-2.7.4.jar\n",
            "spark-3.1.1-bin-hadoop2.7/jars/spire-platform_2.12-0.17.0-M1.jar\n",
            "spark-3.1.1-bin-hadoop2.7/jars/avro-1.8.2.jar\n",
            "spark-3.1.1-bin-hadoop2.7/jars/curator-client-2.7.1.jar\n",
            "spark-3.1.1-bin-hadoop2.7/jars/javax.inject-1.jar\n",
            "spark-3.1.1-bin-hadoop2.7/jars/kubernetes-model-apiextensions-4.12.0.jar\n",
            "spark-3.1.1-bin-hadoop2.7/jars/jersey-media-jaxb-2.30.jar\n",
            "spark-3.1.1-bin-hadoop2.7/jars/javax.jdo-3.2.0-m3.jar\n",
            "spark-3.1.1-bin-hadoop2.7/jars/hadoop-auth-2.7.4.jar\n",
            "spark-3.1.1-bin-hadoop2.7/jars/commons-io-2.4.jar\n",
            "spark-3.1.1-bin-hadoop2.7/jars/json4s-jackson_2.12-3.7.0-M5.jar\n",
            "spark-3.1.1-bin-hadoop2.7/jars/paranamer-2.8.jar\n",
            "spark-3.1.1-bin-hadoop2.7/jars/cats-kernel_2.12-2.0.0-M4.jar\n",
            "spark-3.1.1-bin-hadoop2.7/jars/spark-mllib_2.12-3.1.1.jar\n",
            "spark-3.1.1-bin-hadoop2.7/jars/flatbuffers-java-1.9.0.jar\n",
            "spark-3.1.1-bin-hadoop2.7/jars/jersey-server-2.30.jar\n",
            "spark-3.1.1-bin-hadoop2.7/jars/stream-2.9.6.jar\n",
            "spark-3.1.1-bin-hadoop2.7/jars/datanucleus-api-jdo-4.2.4.jar\n",
            "spark-3.1.1-bin-hadoop2.7/jars/gson-2.2.4.jar\n",
            "spark-3.1.1-bin-hadoop2.7/jars/spark-hive-thriftserver_2.12-3.1.1.jar\n",
            "spark-3.1.1-bin-hadoop2.7/jars/xml-apis-1.4.01.jar\n",
            "spark-3.1.1-bin-hadoop2.7/jars/apacheds-kerberos-codec-2.0.0-M15.jar\n",
            "spark-3.1.1-bin-hadoop2.7/jars/antlr4-runtime-4.8-1.jar\n",
            "spark-3.1.1-bin-hadoop2.7/jars/hadoop-mapreduce-client-shuffle-2.7.4.jar\n",
            "spark-3.1.1-bin-hadoop2.7/jars/kubernetes-model-policy-4.12.0.jar\n",
            "spark-3.1.1-bin-hadoop2.7/jars/hive-jdbc-2.3.7.jar\n",
            "spark-3.1.1-bin-hadoop2.7/jars/hive-exec-2.3.7-core.jar\n",
            "spark-3.1.1-bin-hadoop2.7/jars/opencsv-2.3.jar\n",
            "spark-3.1.1-bin-hadoop2.7/jars/kubernetes-model-certificates-4.12.0.jar\n",
            "spark-3.1.1-bin-hadoop2.7/jars/avro-mapred-1.8.2-hadoop2.jar\n",
            "spark-3.1.1-bin-hadoop2.7/jars/jsr305-3.0.0.jar\n",
            "spark-3.1.1-bin-hadoop2.7/jars/macro-compat_2.12-1.1.1.jar\n",
            "spark-3.1.1-bin-hadoop2.7/jars/spark-sketch_2.12-3.1.1.jar\n",
            "spark-3.1.1-bin-hadoop2.7/jars/commons-dbcp-1.4.jar\n",
            "spark-3.1.1-bin-hadoop2.7/jars/jersey-container-servlet-core-2.30.jar\n",
            "spark-3.1.1-bin-hadoop2.7/jars/okio-1.14.0.jar\n",
            "spark-3.1.1-bin-hadoop2.7/jars/hk2-api-2.6.1.jar\n",
            "spark-3.1.1-bin-hadoop2.7/jars/parquet-jackson-1.10.1.jar\n",
            "spark-3.1.1-bin-hadoop2.7/jars/mesos-1.4.0-shaded-protobuf.jar\n",
            "spark-3.1.1-bin-hadoop2.7/jars/orc-mapreduce-1.5.12.jar\n",
            "spark-3.1.1-bin-hadoop2.7/jars/chill-java-0.9.5.jar\n",
            "spark-3.1.1-bin-hadoop2.7/jars/kubernetes-model-settings-4.12.0.jar\n",
            "spark-3.1.1-bin-hadoop2.7/jars/spark-tags_2.12-3.1.1.jar\n",
            "spark-3.1.1-bin-hadoop2.7/jars/jakarta.servlet-api-4.0.3.jar\n",
            "spark-3.1.1-bin-hadoop2.7/jars/spark-unsafe_2.12-3.1.1.jar\n",
            "spark-3.1.1-bin-hadoop2.7/jars/automaton-1.11-8.jar\n",
            "spark-3.1.1-bin-hadoop2.7/jars/commons-lang-2.6.jar\n",
            "spark-3.1.1-bin-hadoop2.7/jars/jackson-annotations-2.10.0.jar\n",
            "spark-3.1.1-bin-hadoop2.7/jars/hk2-utils-2.6.1.jar\n",
            "spark-3.1.1-bin-hadoop2.7/jars/velocity-1.5.jar\n",
            "spark-3.1.1-bin-hadoop2.7/jars/htrace-core-3.1.0-incubating.jar\n",
            "spark-3.1.1-bin-hadoop2.7/jars/jul-to-slf4j-1.7.30.jar\n",
            "spark-3.1.1-bin-hadoop2.7/jars/JTransforms-3.1.jar\n",
            "spark-3.1.1-bin-hadoop2.7/jars/jersey-client-2.30.jar\n",
            "spark-3.1.1-bin-hadoop2.7/jars/spark-catalyst_2.12-3.1.1.jar\n",
            "spark-3.1.1-bin-hadoop2.7/jars/httpclient-4.5.6.jar\n",
            "spark-3.1.1-bin-hadoop2.7/jars/kubernetes-model-discovery-4.12.0.jar\n",
            "spark-3.1.1-bin-hadoop2.7/jars/jetty-sslengine-6.1.26.jar\n",
            "spark-3.1.1-bin-hadoop2.7/jars/spire_2.12-0.17.0-M1.jar\n",
            "spark-3.1.1-bin-hadoop2.7/jars/jersey-hk2-2.30.jar\n",
            "spark-3.1.1-bin-hadoop2.7/jars/spark-sql_2.12-3.1.1.jar\n",
            "spark-3.1.1-bin-hadoop2.7/jars/commons-math3-3.4.1.jar\n",
            "spark-3.1.1-bin-hadoop2.7/jars/xbean-asm7-shaded-4.15.jar\n",
            "spark-3.1.1-bin-hadoop2.7/jars/spark-network-common_2.12-3.1.1.jar\n",
            "spark-3.1.1-bin-hadoop2.7/jars/jakarta.validation-api-2.0.2.jar\n",
            "spark-3.1.1-bin-hadoop2.7/jars/parquet-encoding-1.10.1.jar\n",
            "spark-3.1.1-bin-hadoop2.7/jars/snappy-java-1.1.8.2.jar\n",
            "spark-3.1.1-bin-hadoop2.7/jars/slf4j-log4j12-1.7.30.jar\n",
            "spark-3.1.1-bin-hadoop2.7/jars/hadoop-mapreduce-client-app-2.7.4.jar\n",
            "spark-3.1.1-bin-hadoop2.7/jars/slf4j-api-1.7.30.jar\n",
            "spark-3.1.1-bin-hadoop2.7/jars/hive-shims-0.23-2.3.7.jar\n",
            "spark-3.1.1-bin-hadoop2.7/jars/guava-14.0.1.jar\n",
            "spark-3.1.1-bin-hadoop2.7/jars/stax-api-1.0-2.jar\n",
            "spark-3.1.1-bin-hadoop2.7/jars/spark-kubernetes_2.12-3.1.1.jar\n",
            "spark-3.1.1-bin-hadoop2.7/jars/zjsonpatch-0.3.0.jar\n",
            "spark-3.1.1-bin-hadoop2.7/jars/hive-service-rpc-3.1.2.jar\n",
            "spark-3.1.1-bin-hadoop2.7/jars/shapeless_2.12-2.3.3.jar\n",
            "spark-3.1.1-bin-hadoop2.7/jars/spark-graphx_2.12-3.1.1.jar\n",
            "spark-3.1.1-bin-hadoop2.7/jars/oro-2.0.8.jar\n",
            "spark-3.1.1-bin-hadoop2.7/jars/arrow-memory-netty-2.0.0.jar\n",
            "spark-3.1.1-bin-hadoop2.7/jars/kubernetes-model-scheduling-4.12.0.jar\n",
            "spark-3.1.1-bin-hadoop2.7/jars/hadoop-yarn-client-2.7.4.jar\n",
            "spark-3.1.1-bin-hadoop2.7/jars/libfb303-0.9.3.jar\n",
            "spark-3.1.1-bin-hadoop2.7/jars/core-1.1.2.jar\n",
            "spark-3.1.1-bin-hadoop2.7/jars/jersey-container-servlet-2.30.jar\n",
            "spark-3.1.1-bin-hadoop2.7/jars/datanucleus-rdbms-4.1.19.jar\n",
            "spark-3.1.1-bin-hadoop2.7/jars/super-csv-2.2.0.jar\n",
            "spark-3.1.1-bin-hadoop2.7/jars/compress-lzf-1.0.3.jar\n",
            "spark-3.1.1-bin-hadoop2.7/jars/jackson-module-paranamer-2.10.0.jar\n",
            "spark-3.1.1-bin-hadoop2.7/jars/aopalliance-1.0.jar\n",
            "spark-3.1.1-bin-hadoop2.7/jars/osgi-resource-locator-1.0.3.jar\n",
            "spark-3.1.1-bin-hadoop2.7/jars/jackson-module-scala_2.12-2.10.0.jar\n",
            "spark-3.1.1-bin-hadoop2.7/jars/hive-shims-2.3.7.jar\n",
            "spark-3.1.1-bin-hadoop2.7/jars/hadoop-yarn-server-common-2.7.4.jar\n",
            "spark-3.1.1-bin-hadoop2.7/jars/json-1.8.jar\n",
            "spark-3.1.1-bin-hadoop2.7/jars/antlr-runtime-3.5.2.jar\n",
            "spark-3.1.1-bin-hadoop2.7/jars/threeten-extra-1.5.0.jar\n",
            "spark-3.1.1-bin-hadoop2.7/jars/orc-shims-1.5.12.jar\n",
            "spark-3.1.1-bin-hadoop2.7/jars/jetty-6.1.26.jar\n",
            "spark-3.1.1-bin-hadoop2.7/jars/arrow-vector-2.0.0.jar\n",
            "spark-3.1.1-bin-hadoop2.7/jars/jackson-module-jaxb-annotations-2.10.0.jar\n",
            "spark-3.1.1-bin-hadoop2.7/jars/jersey-common-2.30.jar\n",
            "spark-3.1.1-bin-hadoop2.7/jars/aircompressor-0.10.jar\n",
            "spark-3.1.1-bin-hadoop2.7/jars/lz4-java-1.7.1.jar\n",
            "spark-3.1.1-bin-hadoop2.7/jars/hadoop-client-2.7.4.jar\n",
            "spark-3.1.1-bin-hadoop2.7/jars/activation-1.1.1.jar\n",
            "spark-3.1.1-bin-hadoop2.7/jars/commons-crypto-1.1.0.jar\n",
            "spark-3.1.1-bin-hadoop2.7/jars/spark-tags_2.12-3.1.1-tests.jar\n",
            "spark-3.1.1-bin-hadoop2.7/jars/libthrift-0.12.0.jar\n",
            "spark-3.1.1-bin-hadoop2.7/jars/HikariCP-2.5.1.jar\n",
            "spark-3.1.1-bin-hadoop2.7/jars/generex-1.0.2.jar\n",
            "spark-3.1.1-bin-hadoop2.7/jars/breeze-macros_2.12-1.0.jar\n",
            "spark-3.1.1-bin-hadoop2.7/jars/leveldbjni-all-1.8.jar\n",
            "spark-3.1.1-bin-hadoop2.7/jars/jaxb-runtime-2.3.2.jar\n",
            "spark-3.1.1-bin-hadoop2.7/jars/json4s-scalap_2.12-3.7.0-M5.jar\n",
            "spark-3.1.1-bin-hadoop2.7/jars/kubernetes-model-events-4.12.0.jar\n",
            "spark-3.1.1-bin-hadoop2.7/jars/commons-lang3-3.10.jar\n",
            "spark-3.1.1-bin-hadoop2.7/jars/jackson-datatype-jsr310-2.11.2.jar\n",
            "spark-3.1.1-bin-hadoop2.7/jars/commons-httpclient-3.1.jar\n",
            "spark-3.1.1-bin-hadoop2.7/jars/kubernetes-client-4.12.0.jar\n",
            "spark-3.1.1-bin-hadoop2.7/jars/spark-hive_2.12-3.1.1.jar\n",
            "spark-3.1.1-bin-hadoop2.7/jars/shims-0.9.0.jar\n",
            "spark-3.1.1-bin-hadoop2.7/jars/jackson-core-asl-1.9.13.jar\n",
            "spark-3.1.1-bin-hadoop2.7/jars/scala-xml_2.12-1.2.0.jar\n",
            "spark-3.1.1-bin-hadoop2.7/jars/hk2-locator-2.6.1.jar\n",
            "spark-3.1.1-bin-hadoop2.7/jars/hadoop-common-2.7.4.jar\n",
            "spark-3.1.1-bin-hadoop2.7/jars/orc-core-1.5.12.jar\n",
            "spark-3.1.1-bin-hadoop2.7/jars/curator-recipes-2.7.1.jar\n",
            "spark-3.1.1-bin-hadoop2.7/jars/jackson-mapper-asl-1.9.13.jar\n",
            "spark-3.1.1-bin-hadoop2.7/jars/hive-common-2.3.7.jar\n",
            "spark-3.1.1-bin-hadoop2.7/jars/xz-1.5.jar\n",
            "spark-3.1.1-bin-hadoop2.7/jars/ST4-4.0.4.jar\n",
            "spark-3.1.1-bin-hadoop2.7/jars/hive-shims-scheduler-2.3.7.jar\n",
            "spark-3.1.1-bin-hadoop2.7/jars/spark-yarn_2.12-3.1.1.jar\n",
            "spark-3.1.1-bin-hadoop2.7/jars/kubernetes-model-batch-4.12.0.jar\n",
            "spark-3.1.1-bin-hadoop2.7/jars/netty-all-4.1.51.Final.jar\n",
            "spark-3.1.1-bin-hadoop2.7/jars/parquet-hadoop-1.10.1.jar\n",
            "spark-3.1.1-bin-hadoop2.7/jars/chill_2.12-0.9.5.jar\n",
            "spark-3.1.1-bin-hadoop2.7/jars/commons-configuration-1.6.jar\n",
            "spark-3.1.1-bin-hadoop2.7/jars/jackson-databind-2.10.0.jar\n",
            "spark-3.1.1-bin-hadoop2.7/jars/scala-reflect-2.12.10.jar\n",
            "spark-3.1.1-bin-hadoop2.7/jars/joda-time-2.10.5.jar\n",
            "spark-3.1.1-bin-hadoop2.7/jars/minlog-1.3.0.jar\n",
            "spark-3.1.1-bin-hadoop2.7/jars/jakarta.ws.rs-api-2.1.6.jar\n",
            "spark-3.1.1-bin-hadoop2.7/jars/aopalliance-repackaged-2.6.1.jar\n",
            "spark-3.1.1-bin-hadoop2.7/jars/commons-compress-1.20.jar\n",
            "spark-3.1.1-bin-hadoop2.7/jars/spark-core_2.12-3.1.1.jar\n",
            "spark-3.1.1-bin-hadoop2.7/jars/bonecp-0.8.0.RELEASE.jar\n",
            "spark-3.1.1-bin-hadoop2.7/jars/jodd-core-3.5.2.jar\n",
            "spark-3.1.1-bin-hadoop2.7/jars/kubernetes-model-storageclass-4.12.0.jar\n",
            "spark-3.1.1-bin-hadoop2.7/jars/hadoop-yarn-server-web-proxy-2.7.4.jar\n",
            "spark-3.1.1-bin-hadoop2.7/jars/jackson-core-2.10.0.jar\n",
            "spark-3.1.1-bin-hadoop2.7/jars/kubernetes-model-core-4.12.0.jar\n",
            "spark-3.1.1-bin-hadoop2.7/jars/protobuf-java-2.5.0.jar\n",
            "spark-3.1.1-bin-hadoop2.7/jars/commons-net-3.1.jar\n",
            "spark-3.1.1-bin-hadoop2.7/jars/hadoop-mapreduce-client-jobclient-2.7.4.jar\n",
            "spark-3.1.1-bin-hadoop2.7/jars/datanucleus-core-4.1.17.jar\n",
            "spark-3.1.1-bin-hadoop2.7/jars/jackson-jaxrs-1.9.13.jar\n",
            "spark-3.1.1-bin-hadoop2.7/jars/janino-3.0.16.jar\n",
            "spark-3.1.1-bin-hadoop2.7/jars/hive-shims-common-2.3.7.jar\n",
            "spark-3.1.1-bin-hadoop2.7/jars/javolution-5.5.1.jar\n",
            "spark-3.1.1-bin-hadoop2.7/jars/kubernetes-model-rbac-4.12.0.jar\n",
            "spark-3.1.1-bin-hadoop2.7/jars/transaction-api-1.1.jar\n",
            "spark-3.1.1-bin-hadoop2.7/jars/kubernetes-model-metrics-4.12.0.jar\n",
            "spark-3.1.1-bin-hadoop2.7/jars/jaxb-api-2.2.2.jar\n",
            "spark-3.1.1-bin-hadoop2.7/jars/commons-cli-1.2.jar\n",
            "spark-3.1.1-bin-hadoop2.7/jars/jakarta.inject-2.6.1.jar\n",
            "spark-3.1.1-bin-hadoop2.7/jars/metrics-jmx-4.1.1.jar\n",
            "spark-3.1.1-bin-hadoop2.7/jars/zstd-jni-1.4.8-1.jar\n",
            "spark-3.1.1-bin-hadoop2.7/jars/jakarta.xml.bind-api-2.3.2.jar\n",
            "spark-3.1.1-bin-hadoop2.7/jars/commons-codec-1.10.jar\n",
            "spark-3.1.1-bin-hadoop2.7/jars/hadoop-yarn-common-2.7.4.jar\n",
            "spark-3.1.1-bin-hadoop2.7/jars/curator-framework-2.7.1.jar\n",
            "spark-3.1.1-bin-hadoop2.7/jars/arpack_combined_all-0.1.jar\n",
            "spark-3.1.1-bin-hadoop2.7/jars/hive-metastore-2.3.7.jar\n",
            "spark-3.1.1-bin-hadoop2.7/jars/hive-beeline-2.3.7.jar\n",
            "spark-3.1.1-bin-hadoop2.7/jars/metrics-core-4.1.1.jar\n",
            "spark-3.1.1-bin-hadoop2.7/jars/hive-llap-common-2.3.7.jar\n",
            "spark-3.1.1-bin-hadoop2.7/jars/arrow-format-2.0.0.jar\n",
            "spark-3.1.1-bin-hadoop2.7/jars/spark-kvstore_2.12-3.1.1.jar\n",
            "spark-3.1.1-bin-hadoop2.7/jars/javassist-3.25.0-GA.jar\n",
            "spark-3.1.1-bin-hadoop2.7/jars/scala-collection-compat_2.12-2.1.1.jar\n",
            "spark-3.1.1-bin-hadoop2.7/jars/arrow-memory-core-2.0.0.jar\n",
            "spark-3.1.1-bin-hadoop2.7/jars/parquet-column-1.10.1.jar\n",
            "spark-3.1.1-bin-hadoop2.7/jars/jetty-util-6.1.26.jar\n",
            "spark-3.1.1-bin-hadoop2.7/jars/kubernetes-model-coordination-4.12.0.jar\n",
            "spark-3.1.1-bin-hadoop2.7/jars/avro-ipc-1.8.2.jar\n",
            "spark-3.1.1-bin-hadoop2.7/jars/guice-3.0.jar\n",
            "spark-3.1.1-bin-hadoop2.7/jars/commons-text-1.6.jar\n",
            "spark-3.1.1-bin-hadoop2.7/jars/kubernetes-model-apps-4.12.0.jar\n",
            "spark-3.1.1-bin-hadoop2.7/jars/metrics-json-4.1.1.jar\n",
            "spark-3.1.1-bin-hadoop2.7/jars/snakeyaml-1.24.jar\n",
            "spark-3.1.1-bin-hadoop2.7/jars/ivy-2.4.0.jar\n",
            "spark-3.1.1-bin-hadoop2.7/jars/hadoop-mapreduce-client-core-2.7.4.jar\n",
            "spark-3.1.1-bin-hadoop2.7/jars/univocity-parsers-2.9.1.jar\n",
            "spark-3.1.1-bin-hadoop2.7/jars/pyrolite-4.30.jar\n",
            "spark-3.1.1-bin-hadoop2.7/jars/spark-mesos_2.12-3.1.1.jar\n",
            "spark-3.1.1-bin-hadoop2.7/jars/log4j-1.2.17.jar\n",
            "spark-3.1.1-bin-hadoop2.7/jars/hive-serde-2.3.7.jar\n",
            "spark-3.1.1-bin-hadoop2.7/jars/scala-parser-combinators_2.12-1.1.2.jar\n",
            "spark-3.1.1-bin-hadoop2.7/jars/kubernetes-model-networking-4.12.0.jar\n",
            "spark-3.1.1-bin-hadoop2.7/jars/zookeeper-3.4.14.jar\n",
            "spark-3.1.1-bin-hadoop2.7/data/\n",
            "spark-3.1.1-bin-hadoop2.7/data/mllib/\n",
            "spark-3.1.1-bin-hadoop2.7/data/mllib/sample_lda_data.txt\n",
            "spark-3.1.1-bin-hadoop2.7/data/mllib/sample_libsvm_data.txt\n",
            "spark-3.1.1-bin-hadoop2.7/data/mllib/sample_svm_data.txt\n",
            "spark-3.1.1-bin-hadoop2.7/data/mllib/sample_multiclass_classification_data.txt\n",
            "spark-3.1.1-bin-hadoop2.7/data/mllib/sample_linear_regression_data.txt\n",
            "spark-3.1.1-bin-hadoop2.7/data/mllib/sample_lda_libsvm_data.txt\n",
            "spark-3.1.1-bin-hadoop2.7/data/mllib/sample_fpgrowth.txt\n",
            "spark-3.1.1-bin-hadoop2.7/data/mllib/sample_binary_classification_data.txt\n",
            "spark-3.1.1-bin-hadoop2.7/data/mllib/sample_isotonic_regression_libsvm_data.txt\n",
            "spark-3.1.1-bin-hadoop2.7/data/mllib/iris_libsvm.txt\n",
            "spark-3.1.1-bin-hadoop2.7/data/mllib/sample_movielens_data.txt\n",
            "spark-3.1.1-bin-hadoop2.7/data/mllib/als/\n",
            "spark-3.1.1-bin-hadoop2.7/data/mllib/als/test.data\n",
            "spark-3.1.1-bin-hadoop2.7/data/mllib/als/sample_movielens_ratings.txt\n",
            "spark-3.1.1-bin-hadoop2.7/data/mllib/sample_kmeans_data.txt\n",
            "spark-3.1.1-bin-hadoop2.7/data/mllib/pic_data.txt\n",
            "spark-3.1.1-bin-hadoop2.7/data/mllib/images/\n",
            "spark-3.1.1-bin-hadoop2.7/data/mllib/images/origin/\n",
            "spark-3.1.1-bin-hadoop2.7/data/mllib/images/origin/kittens/\n",
            "spark-3.1.1-bin-hadoop2.7/data/mllib/images/origin/kittens/54893.jpg\n",
            "spark-3.1.1-bin-hadoop2.7/data/mllib/images/origin/kittens/not-image.txt\n",
            "spark-3.1.1-bin-hadoop2.7/data/mllib/images/origin/kittens/DP802813.jpg\n",
            "spark-3.1.1-bin-hadoop2.7/data/mllib/images/origin/kittens/29.5.a_b_EGDP022204.jpg\n",
            "spark-3.1.1-bin-hadoop2.7/data/mllib/images/origin/kittens/DP153539.jpg\n",
            "spark-3.1.1-bin-hadoop2.7/data/mllib/images/origin/license.txt\n",
            "spark-3.1.1-bin-hadoop2.7/data/mllib/images/origin/multi-channel/\n",
            "spark-3.1.1-bin-hadoop2.7/data/mllib/images/origin/multi-channel/BGRA.png\n",
            "spark-3.1.1-bin-hadoop2.7/data/mllib/images/origin/multi-channel/BGRA_alpha_60.png\n",
            "spark-3.1.1-bin-hadoop2.7/data/mllib/images/origin/multi-channel/grayscale.jpg\n",
            "spark-3.1.1-bin-hadoop2.7/data/mllib/images/origin/multi-channel/chr30.4.184.jpg\n",
            "spark-3.1.1-bin-hadoop2.7/data/mllib/images/partitioned/\n",
            "spark-3.1.1-bin-hadoop2.7/data/mllib/images/partitioned/cls=multichannel/\n",
            "spark-3.1.1-bin-hadoop2.7/data/mllib/images/partitioned/cls=multichannel/date=2018-01/\n",
            "spark-3.1.1-bin-hadoop2.7/data/mllib/images/partitioned/cls=multichannel/date=2018-01/BGRA.png\n",
            "spark-3.1.1-bin-hadoop2.7/data/mllib/images/partitioned/cls=multichannel/date=2018-01/BGRA_alpha_60.png\n",
            "spark-3.1.1-bin-hadoop2.7/data/mllib/images/partitioned/cls=multichannel/date=2018-02/\n",
            "spark-3.1.1-bin-hadoop2.7/data/mllib/images/partitioned/cls=multichannel/date=2018-02/grayscale.jpg\n",
            "spark-3.1.1-bin-hadoop2.7/data/mllib/images/partitioned/cls=multichannel/date=2018-02/chr30.4.184.jpg\n",
            "spark-3.1.1-bin-hadoop2.7/data/mllib/images/partitioned/cls=kittens/\n",
            "spark-3.1.1-bin-hadoop2.7/data/mllib/images/partitioned/cls=kittens/date=2018-01/\n",
            "spark-3.1.1-bin-hadoop2.7/data/mllib/images/partitioned/cls=kittens/date=2018-01/not-image.txt\n",
            "spark-3.1.1-bin-hadoop2.7/data/mllib/images/partitioned/cls=kittens/date=2018-01/29.5.a_b_EGDP022204.jpg\n",
            "spark-3.1.1-bin-hadoop2.7/data/mllib/images/partitioned/cls=kittens/date=2018-02/\n",
            "spark-3.1.1-bin-hadoop2.7/data/mllib/images/partitioned/cls=kittens/date=2018-02/54893.jpg\n",
            "spark-3.1.1-bin-hadoop2.7/data/mllib/images/partitioned/cls=kittens/date=2018-02/DP802813.jpg\n",
            "spark-3.1.1-bin-hadoop2.7/data/mllib/images/partitioned/cls=kittens/date=2018-02/DP153539.jpg\n",
            "spark-3.1.1-bin-hadoop2.7/data/mllib/images/license.txt\n",
            "spark-3.1.1-bin-hadoop2.7/data/mllib/ridge-data/\n",
            "spark-3.1.1-bin-hadoop2.7/data/mllib/ridge-data/lpsa.data\n",
            "spark-3.1.1-bin-hadoop2.7/data/mllib/kmeans_data.txt\n",
            "spark-3.1.1-bin-hadoop2.7/data/mllib/streaming_kmeans_data_test.txt\n",
            "spark-3.1.1-bin-hadoop2.7/data/mllib/pagerank_data.txt\n",
            "spark-3.1.1-bin-hadoop2.7/data/mllib/gmm_data.txt\n",
            "spark-3.1.1-bin-hadoop2.7/data/graphx/\n",
            "spark-3.1.1-bin-hadoop2.7/data/graphx/users.txt\n",
            "spark-3.1.1-bin-hadoop2.7/data/graphx/followers.txt\n",
            "spark-3.1.1-bin-hadoop2.7/data/streaming/\n",
            "spark-3.1.1-bin-hadoop2.7/data/streaming/AFINN-111.txt\n",
            "spark-3.1.1-bin-hadoop2.7/R/\n",
            "spark-3.1.1-bin-hadoop2.7/R/lib/\n",
            "spark-3.1.1-bin-hadoop2.7/R/lib/sparkr.zip\n",
            "spark-3.1.1-bin-hadoop2.7/R/lib/SparkR/\n",
            "spark-3.1.1-bin-hadoop2.7/R/lib/SparkR/tests/\n",
            "spark-3.1.1-bin-hadoop2.7/R/lib/SparkR/tests/testthat/\n",
            "spark-3.1.1-bin-hadoop2.7/R/lib/SparkR/tests/testthat/test_basic.R\n",
            "spark-3.1.1-bin-hadoop2.7/R/lib/SparkR/DESCRIPTION\n",
            "spark-3.1.1-bin-hadoop2.7/R/lib/SparkR/profile/\n",
            "spark-3.1.1-bin-hadoop2.7/R/lib/SparkR/profile/shell.R\n",
            "spark-3.1.1-bin-hadoop2.7/R/lib/SparkR/profile/general.R\n",
            "spark-3.1.1-bin-hadoop2.7/R/lib/SparkR/INDEX\n",
            "spark-3.1.1-bin-hadoop2.7/R/lib/SparkR/Meta/\n",
            "spark-3.1.1-bin-hadoop2.7/R/lib/SparkR/Meta/features.rds\n",
            "spark-3.1.1-bin-hadoop2.7/R/lib/SparkR/Meta/links.rds\n",
            "spark-3.1.1-bin-hadoop2.7/R/lib/SparkR/Meta/nsInfo.rds\n",
            "spark-3.1.1-bin-hadoop2.7/R/lib/SparkR/Meta/package.rds\n",
            "spark-3.1.1-bin-hadoop2.7/R/lib/SparkR/Meta/Rd.rds\n",
            "spark-3.1.1-bin-hadoop2.7/R/lib/SparkR/Meta/hsearch.rds\n",
            "spark-3.1.1-bin-hadoop2.7/R/lib/SparkR/help/\n",
            "spark-3.1.1-bin-hadoop2.7/R/lib/SparkR/help/SparkR.rdb\n",
            "spark-3.1.1-bin-hadoop2.7/R/lib/SparkR/help/aliases.rds\n",
            "spark-3.1.1-bin-hadoop2.7/R/lib/SparkR/help/SparkR.rdx\n",
            "spark-3.1.1-bin-hadoop2.7/R/lib/SparkR/help/AnIndex\n",
            "spark-3.1.1-bin-hadoop2.7/R/lib/SparkR/help/paths.rds\n",
            "spark-3.1.1-bin-hadoop2.7/R/lib/SparkR/R/\n",
            "spark-3.1.1-bin-hadoop2.7/R/lib/SparkR/R/SparkR.rdb\n",
            "spark-3.1.1-bin-hadoop2.7/R/lib/SparkR/R/SparkR.rdx\n",
            "spark-3.1.1-bin-hadoop2.7/R/lib/SparkR/R/SparkR\n",
            "spark-3.1.1-bin-hadoop2.7/R/lib/SparkR/NAMESPACE\n",
            "spark-3.1.1-bin-hadoop2.7/R/lib/SparkR/html/\n",
            "spark-3.1.1-bin-hadoop2.7/R/lib/SparkR/html/00Index.html\n",
            "spark-3.1.1-bin-hadoop2.7/R/lib/SparkR/html/R.css\n",
            "spark-3.1.1-bin-hadoop2.7/R/lib/SparkR/worker/\n",
            "spark-3.1.1-bin-hadoop2.7/R/lib/SparkR/worker/worker.R\n",
            "spark-3.1.1-bin-hadoop2.7/R/lib/SparkR/worker/daemon.R\n",
            "spark-3.1.1-bin-hadoop2.7/README.md\n",
            "spark-3.1.1-bin-hadoop2.7/RELEASE\n",
            "spark-3.1.1-bin-hadoop2.7/yarn/\n",
            "spark-3.1.1-bin-hadoop2.7/yarn/spark-3.1.1-yarn-shuffle.jar\n",
            "spark-3.1.1-bin-hadoop2.7/LICENSE\n",
            "spark-3.1.1-bin-hadoop2.7/sbin/\n",
            "spark-3.1.1-bin-hadoop2.7/sbin/start-workers.sh\n",
            "spark-3.1.1-bin-hadoop2.7/sbin/stop-mesos-shuffle-service.sh\n",
            "spark-3.1.1-bin-hadoop2.7/sbin/start-master.sh\n",
            "spark-3.1.1-bin-hadoop2.7/sbin/workers.sh\n",
            "spark-3.1.1-bin-hadoop2.7/sbin/start-worker.sh\n",
            "spark-3.1.1-bin-hadoop2.7/sbin/spark-config.sh\n",
            "spark-3.1.1-bin-hadoop2.7/sbin/start-history-server.sh\n",
            "spark-3.1.1-bin-hadoop2.7/sbin/start-slaves.sh\n",
            "spark-3.1.1-bin-hadoop2.7/sbin/spark-daemon.sh\n",
            "spark-3.1.1-bin-hadoop2.7/sbin/stop-worker.sh\n",
            "spark-3.1.1-bin-hadoop2.7/sbin/stop-mesos-dispatcher.sh\n",
            "spark-3.1.1-bin-hadoop2.7/sbin/decommission-worker.sh\n",
            "spark-3.1.1-bin-hadoop2.7/sbin/start-mesos-shuffle-service.sh\n",
            "spark-3.1.1-bin-hadoop2.7/sbin/decommission-slave.sh\n",
            "spark-3.1.1-bin-hadoop2.7/sbin/slaves.sh\n",
            "spark-3.1.1-bin-hadoop2.7/sbin/stop-history-server.sh\n",
            "spark-3.1.1-bin-hadoop2.7/sbin/start-thriftserver.sh\n",
            "spark-3.1.1-bin-hadoop2.7/sbin/stop-thriftserver.sh\n",
            "spark-3.1.1-bin-hadoop2.7/sbin/start-slave.sh\n",
            "spark-3.1.1-bin-hadoop2.7/sbin/start-all.sh\n",
            "spark-3.1.1-bin-hadoop2.7/sbin/stop-slave.sh\n",
            "spark-3.1.1-bin-hadoop2.7/sbin/spark-daemons.sh\n",
            "spark-3.1.1-bin-hadoop2.7/sbin/stop-workers.sh\n",
            "spark-3.1.1-bin-hadoop2.7/sbin/stop-slaves.sh\n",
            "spark-3.1.1-bin-hadoop2.7/sbin/stop-all.sh\n",
            "spark-3.1.1-bin-hadoop2.7/sbin/start-mesos-dispatcher.sh\n",
            "spark-3.1.1-bin-hadoop2.7/sbin/stop-master.sh\n",
            "spark-3.1.1-bin-hadoop2.7/examples/\n",
            "spark-3.1.1-bin-hadoop2.7/examples/src/\n",
            "spark-3.1.1-bin-hadoop2.7/examples/src/main/\n",
            "spark-3.1.1-bin-hadoop2.7/examples/src/main/r/\n",
            "spark-3.1.1-bin-hadoop2.7/examples/src/main/r/ml/\n",
            "spark-3.1.1-bin-hadoop2.7/examples/src/main/r/ml/survreg.R\n",
            "spark-3.1.1-bin-hadoop2.7/examples/src/main/r/ml/glm.R\n",
            "spark-3.1.1-bin-hadoop2.7/examples/src/main/r/ml/prefixSpan.R\n",
            "spark-3.1.1-bin-hadoop2.7/examples/src/main/r/ml/lm_with_elastic_net.R\n",
            "spark-3.1.1-bin-hadoop2.7/examples/src/main/r/ml/powerIterationClustering.R\n",
            "spark-3.1.1-bin-hadoop2.7/examples/src/main/r/ml/lda.R\n",
            "spark-3.1.1-bin-hadoop2.7/examples/src/main/r/ml/kstest.R\n",
            "spark-3.1.1-bin-hadoop2.7/examples/src/main/r/ml/isoreg.R\n",
            "spark-3.1.1-bin-hadoop2.7/examples/src/main/r/ml/ml.R\n",
            "spark-3.1.1-bin-hadoop2.7/examples/src/main/r/ml/naiveBayes.R\n",
            "spark-3.1.1-bin-hadoop2.7/examples/src/main/r/ml/fmRegressor.R\n",
            "spark-3.1.1-bin-hadoop2.7/examples/src/main/r/ml/mlp.R\n",
            "spark-3.1.1-bin-hadoop2.7/examples/src/main/r/ml/als.R\n",
            "spark-3.1.1-bin-hadoop2.7/examples/src/main/r/ml/kmeans.R\n",
            "spark-3.1.1-bin-hadoop2.7/examples/src/main/r/ml/svmLinear.R\n",
            "spark-3.1.1-bin-hadoop2.7/examples/src/main/r/ml/fmClassifier.R\n",
            "spark-3.1.1-bin-hadoop2.7/examples/src/main/r/ml/logit.R\n",
            "spark-3.1.1-bin-hadoop2.7/examples/src/main/r/ml/randomForest.R\n",
            "spark-3.1.1-bin-hadoop2.7/examples/src/main/r/ml/gbt.R\n",
            "spark-3.1.1-bin-hadoop2.7/examples/src/main/r/ml/decisionTree.R\n",
            "spark-3.1.1-bin-hadoop2.7/examples/src/main/r/ml/gaussianMixture.R\n",
            "spark-3.1.1-bin-hadoop2.7/examples/src/main/r/ml/bisectingKmeans.R\n",
            "spark-3.1.1-bin-hadoop2.7/examples/src/main/r/ml/fpm.R\n",
            "spark-3.1.1-bin-hadoop2.7/examples/src/main/r/dataframe.R\n",
            "spark-3.1.1-bin-hadoop2.7/examples/src/main/r/RSparkSQLExample.R\n",
            "spark-3.1.1-bin-hadoop2.7/examples/src/main/r/data-manipulation.R\n",
            "spark-3.1.1-bin-hadoop2.7/examples/src/main/r/streaming/\n",
            "spark-3.1.1-bin-hadoop2.7/examples/src/main/r/streaming/structured_network_wordcount.R\n",
            "spark-3.1.1-bin-hadoop2.7/examples/src/main/scala/\n",
            "spark-3.1.1-bin-hadoop2.7/examples/src/main/scala/org/\n",
            "spark-3.1.1-bin-hadoop2.7/examples/src/main/scala/org/apache/\n",
            "spark-3.1.1-bin-hadoop2.7/examples/src/main/scala/org/apache/spark/\n",
            "spark-3.1.1-bin-hadoop2.7/examples/src/main/scala/org/apache/spark/examples/\n",
            "spark-3.1.1-bin-hadoop2.7/examples/src/main/scala/org/apache/spark/examples/SparkPageRank.scala\n",
            "spark-3.1.1-bin-hadoop2.7/examples/src/main/scala/org/apache/spark/examples/SkewedGroupByTest.scala\n",
            "spark-3.1.1-bin-hadoop2.7/examples/src/main/scala/org/apache/spark/examples/AccumulatorMetricsTest.scala\n",
            "spark-3.1.1-bin-hadoop2.7/examples/src/main/scala/org/apache/spark/examples/HdfsTest.scala\n",
            "spark-3.1.1-bin-hadoop2.7/examples/src/main/scala/org/apache/spark/examples/ml/\n",
            "spark-3.1.1-bin-hadoop2.7/examples/src/main/scala/org/apache/spark/examples/ml/Word2VecExample.scala\n",
            "spark-3.1.1-bin-hadoop2.7/examples/src/main/scala/org/apache/spark/examples/ml/DeveloperApiExample.scala\n",
            "spark-3.1.1-bin-hadoop2.7/examples/src/main/scala/org/apache/spark/examples/ml/MinHashLSHExample.scala\n",
            "spark-3.1.1-bin-hadoop2.7/examples/src/main/scala/org/apache/spark/examples/ml/IndexToStringExample.scala\n",
            "spark-3.1.1-bin-hadoop2.7/examples/src/main/scala/org/apache/spark/examples/ml/BisectingKMeansExample.scala\n",
            "spark-3.1.1-bin-hadoop2.7/examples/src/main/scala/org/apache/spark/examples/ml/CorrelationExample.scala\n",
            "spark-3.1.1-bin-hadoop2.7/examples/src/main/scala/org/apache/spark/examples/ml/MulticlassLogisticRegressionWithElasticNetExample.scala\n",
            "spark-3.1.1-bin-hadoop2.7/examples/src/main/scala/org/apache/spark/examples/ml/VectorSizeHintExample.scala\n",
            "spark-3.1.1-bin-hadoop2.7/examples/src/main/scala/org/apache/spark/examples/ml/NGramExample.scala\n",
            "spark-3.1.1-bin-hadoop2.7/examples/src/main/scala/org/apache/spark/examples/ml/BucketedRandomProjectionLSHExample.scala\n",
            "spark-3.1.1-bin-hadoop2.7/examples/src/main/scala/org/apache/spark/examples/ml/BinarizerExample.scala\n",
            "spark-3.1.1-bin-hadoop2.7/examples/src/main/scala/org/apache/spark/examples/ml/RandomForestExample.scala\n",
            "spark-3.1.1-bin-hadoop2.7/examples/src/main/scala/org/apache/spark/examples/ml/StandardScalerExample.scala\n",
            "spark-3.1.1-bin-hadoop2.7/examples/src/main/scala/org/apache/spark/examples/ml/LogisticRegressionExample.scala\n",
            "spark-3.1.1-bin-hadoop2.7/examples/src/main/scala/org/apache/spark/examples/ml/FeatureHasherExample.scala\n",
            "spark-3.1.1-bin-hadoop2.7/examples/src/main/scala/org/apache/spark/examples/ml/OneVsRestExample.scala\n",
            "spark-3.1.1-bin-hadoop2.7/examples/src/main/scala/org/apache/spark/examples/ml/StopWordsRemoverExample.scala\n",
            "spark-3.1.1-bin-hadoop2.7/examples/src/main/scala/org/apache/spark/examples/ml/LinearSVCExample.scala\n",
            "spark-3.1.1-bin-hadoop2.7/examples/src/main/scala/org/apache/spark/examples/ml/GaussianMixtureExample.scala\n",
            "spark-3.1.1-bin-hadoop2.7/examples/src/main/scala/org/apache/spark/examples/ml/MaxAbsScalerExample.scala\n",
            "spark-3.1.1-bin-hadoop2.7/examples/src/main/scala/org/apache/spark/examples/ml/VarianceThresholdSelectorExample.scala\n",
            "spark-3.1.1-bin-hadoop2.7/examples/src/main/scala/org/apache/spark/examples/ml/GBTExample.scala\n",
            "spark-3.1.1-bin-hadoop2.7/examples/src/main/scala/org/apache/spark/examples/ml/IsotonicRegressionExample.scala\n",
            "spark-3.1.1-bin-hadoop2.7/examples/src/main/scala/org/apache/spark/examples/ml/ModelSelectionViaCrossValidationExample.scala\n",
            "spark-3.1.1-bin-hadoop2.7/examples/src/main/scala/org/apache/spark/examples/ml/EstimatorTransformerParamExample.scala\n",
            "spark-3.1.1-bin-hadoop2.7/examples/src/main/scala/org/apache/spark/examples/ml/DecisionTreeRegressionExample.scala\n",
            "spark-3.1.1-bin-hadoop2.7/examples/src/main/scala/org/apache/spark/examples/ml/RandomForestRegressorExample.scala\n",
            "spark-3.1.1-bin-hadoop2.7/examples/src/main/scala/org/apache/spark/examples/ml/PrefixSpanExample.scala\n",
            "spark-3.1.1-bin-hadoop2.7/examples/src/main/scala/org/apache/spark/examples/ml/KMeansExample.scala\n",
            "spark-3.1.1-bin-hadoop2.7/examples/src/main/scala/org/apache/spark/examples/ml/ModelSelectionViaTrainValidationSplitExample.scala\n",
            "spark-3.1.1-bin-hadoop2.7/examples/src/main/scala/org/apache/spark/examples/ml/LogisticRegressionSummaryExample.scala\n",
            "spark-3.1.1-bin-hadoop2.7/examples/src/main/scala/org/apache/spark/examples/ml/MultilayerPerceptronClassifierExample.scala\n",
            "spark-3.1.1-bin-hadoop2.7/examples/src/main/scala/org/apache/spark/examples/ml/PCAExample.scala\n",
            "spark-3.1.1-bin-hadoop2.7/examples/src/main/scala/org/apache/spark/examples/ml/DCTExample.scala\n",
            "spark-3.1.1-bin-hadoop2.7/examples/src/main/scala/org/apache/spark/examples/ml/FPGrowthExample.scala\n",
            "spark-3.1.1-bin-hadoop2.7/examples/src/main/scala/org/apache/spark/examples/ml/ElementwiseProductExample.scala\n",
            "spark-3.1.1-bin-hadoop2.7/examples/src/main/scala/org/apache/spark/examples/ml/GeneralizedLinearRegressionExample.scala\n",
            "spark-3.1.1-bin-hadoop2.7/examples/src/main/scala/org/apache/spark/examples/ml/UnivariateFeatureSelectorExample.scala\n",
            "spark-3.1.1-bin-hadoop2.7/examples/src/main/scala/org/apache/spark/examples/ml/CountVectorizerExample.scala\n",
            "spark-3.1.1-bin-hadoop2.7/examples/src/main/scala/org/apache/spark/examples/ml/MinMaxScalerExample.scala\n",
            "spark-3.1.1-bin-hadoop2.7/examples/src/main/scala/org/apache/spark/examples/ml/ChiSquareTestExample.scala\n",
            "spark-3.1.1-bin-hadoop2.7/examples/src/main/scala/org/apache/spark/examples/ml/LogisticRegressionWithElasticNetExample.scala\n",
            "spark-3.1.1-bin-hadoop2.7/examples/src/main/scala/org/apache/spark/examples/ml/FMRegressorExample.scala\n",
            "spark-3.1.1-bin-hadoop2.7/examples/src/main/scala/org/apache/spark/examples/ml/VectorSlicerExample.scala\n",
            "spark-3.1.1-bin-hadoop2.7/examples/src/main/scala/org/apache/spark/examples/ml/LinearRegressionExample.scala\n",
            "spark-3.1.1-bin-hadoop2.7/examples/src/main/scala/org/apache/spark/examples/ml/StringIndexerExample.scala\n",
            "spark-3.1.1-bin-hadoop2.7/examples/src/main/scala/org/apache/spark/examples/ml/GradientBoostedTreeRegressorExample.scala\n",
            "spark-3.1.1-bin-hadoop2.7/examples/src/main/scala/org/apache/spark/examples/ml/ALSExample.scala\n",
            "spark-3.1.1-bin-hadoop2.7/examples/src/main/scala/org/apache/spark/examples/ml/DecisionTreeClassificationExample.scala\n",
            "spark-3.1.1-bin-hadoop2.7/examples/src/main/scala/org/apache/spark/examples/ml/PolynomialExpansionExample.scala\n",
            "spark-3.1.1-bin-hadoop2.7/examples/src/main/scala/org/apache/spark/examples/ml/FMClassifierExample.scala\n",
            "spark-3.1.1-bin-hadoop2.7/examples/src/main/scala/org/apache/spark/examples/ml/UnaryTransformerExample.scala\n",
            "spark-3.1.1-bin-hadoop2.7/examples/src/main/scala/org/apache/spark/examples/ml/ImputerExample.scala\n",
            "spark-3.1.1-bin-hadoop2.7/examples/src/main/scala/org/apache/spark/examples/ml/TokenizerExample.scala\n",
            "spark-3.1.1-bin-hadoop2.7/examples/src/main/scala/org/apache/spark/examples/ml/DecisionTreeExample.scala\n",
            "spark-3.1.1-bin-hadoop2.7/examples/src/main/scala/org/apache/spark/examples/ml/GradientBoostedTreeClassifierExample.scala\n",
            "spark-3.1.1-bin-hadoop2.7/examples/src/main/scala/org/apache/spark/examples/ml/PowerIterationClusteringExample.scala\n",
            "spark-3.1.1-bin-hadoop2.7/examples/src/main/scala/org/apache/spark/examples/ml/SQLTransformerExample.scala\n",
            "spark-3.1.1-bin-hadoop2.7/examples/src/main/scala/org/apache/spark/examples/ml/SummarizerExample.scala\n",
            "spark-3.1.1-bin-hadoop2.7/examples/src/main/scala/org/apache/spark/examples/ml/DataFrameExample.scala\n",
            "spark-3.1.1-bin-hadoop2.7/examples/src/main/scala/org/apache/spark/examples/ml/BucketizerExample.scala\n",
            "spark-3.1.1-bin-hadoop2.7/examples/src/main/scala/org/apache/spark/examples/ml/TfIdfExample.scala\n",
            "spark-3.1.1-bin-hadoop2.7/examples/src/main/scala/org/apache/spark/examples/ml/AFTSurvivalRegressionExample.scala\n",
            "spark-3.1.1-bin-hadoop2.7/examples/src/main/scala/org/apache/spark/examples/ml/QuantileDiscretizerExample.scala\n",
            "spark-3.1.1-bin-hadoop2.7/examples/src/main/scala/org/apache/spark/examples/ml/OneHotEncoderExample.scala\n",
            "spark-3.1.1-bin-hadoop2.7/examples/src/main/scala/org/apache/spark/examples/ml/PipelineExample.scala\n",
            "spark-3.1.1-bin-hadoop2.7/examples/src/main/scala/org/apache/spark/examples/ml/InteractionExample.scala\n",
            "spark-3.1.1-bin-hadoop2.7/examples/src/main/scala/org/apache/spark/examples/ml/LDAExample.scala\n",
            "spark-3.1.1-bin-hadoop2.7/examples/src/main/scala/org/apache/spark/examples/ml/RFormulaExample.scala\n",
            "spark-3.1.1-bin-hadoop2.7/examples/src/main/scala/org/apache/spark/examples/ml/VectorIndexerExample.scala\n",
            "spark-3.1.1-bin-hadoop2.7/examples/src/main/scala/org/apache/spark/examples/ml/VectorAssemblerExample.scala\n",
            "spark-3.1.1-bin-hadoop2.7/examples/src/main/scala/org/apache/spark/examples/ml/NormalizerExample.scala\n",
            "spark-3.1.1-bin-hadoop2.7/examples/src/main/scala/org/apache/spark/examples/ml/ChiSqSelectorExample.scala\n",
            "spark-3.1.1-bin-hadoop2.7/examples/src/main/scala/org/apache/spark/examples/ml/NaiveBayesExample.scala\n",
            "spark-3.1.1-bin-hadoop2.7/examples/src/main/scala/org/apache/spark/examples/ml/RandomForestClassifierExample.scala\n",
            "spark-3.1.1-bin-hadoop2.7/examples/src/main/scala/org/apache/spark/examples/ml/LinearRegressionWithElasticNetExample.scala\n",
            "spark-3.1.1-bin-hadoop2.7/examples/src/main/scala/org/apache/spark/examples/ml/RobustScalerExample.scala\n",
            "spark-3.1.1-bin-hadoop2.7/examples/src/main/scala/org/apache/spark/examples/LogQuery.scala\n",
            "spark-3.1.1-bin-hadoop2.7/examples/src/main/scala/org/apache/spark/examples/SparkRemoteFileTest.scala\n",
            "spark-3.1.1-bin-hadoop2.7/examples/src/main/scala/org/apache/spark/examples/ExceptionHandlingTest.scala\n",
            "spark-3.1.1-bin-hadoop2.7/examples/src/main/scala/org/apache/spark/examples/pythonconverters/\n",
            "spark-3.1.1-bin-hadoop2.7/examples/src/main/scala/org/apache/spark/examples/pythonconverters/AvroConverters.scala\n",
            "spark-3.1.1-bin-hadoop2.7/examples/src/main/scala/org/apache/spark/examples/BroadcastTest.scala\n",
            "spark-3.1.1-bin-hadoop2.7/examples/src/main/scala/org/apache/spark/examples/SparkHdfsLR.scala\n",
            "spark-3.1.1-bin-hadoop2.7/examples/src/main/scala/org/apache/spark/examples/mllib/\n",
            "spark-3.1.1-bin-hadoop2.7/examples/src/main/scala/org/apache/spark/examples/mllib/Word2VecExample.scala\n",
            "spark-3.1.1-bin-hadoop2.7/examples/src/main/scala/org/apache/spark/examples/mllib/GradientBoostedTreesRunner.scala\n",
            "spark-3.1.1-bin-hadoop2.7/examples/src/main/scala/org/apache/spark/examples/mllib/RandomRDDGeneration.scala\n",
            "spark-3.1.1-bin-hadoop2.7/examples/src/main/scala/org/apache/spark/examples/mllib/PMMLModelExportExample.scala\n",
            "spark-3.1.1-bin-hadoop2.7/examples/src/main/scala/org/apache/spark/examples/mllib/BisectingKMeansExample.scala\n",
            "spark-3.1.1-bin-hadoop2.7/examples/src/main/scala/org/apache/spark/examples/mllib/DecisionTreeRunner.scala\n",
            "spark-3.1.1-bin-hadoop2.7/examples/src/main/scala/org/apache/spark/examples/mllib/MultiLabelMetricsExample.scala\n",
            "spark-3.1.1-bin-hadoop2.7/examples/src/main/scala/org/apache/spark/examples/mllib/CorrelationsExample.scala\n",
            "spark-3.1.1-bin-hadoop2.7/examples/src/main/scala/org/apache/spark/examples/mllib/LBFGSExample.scala\n",
            "spark-3.1.1-bin-hadoop2.7/examples/src/main/scala/org/apache/spark/examples/mllib/TFIDFExample.scala\n",
            "spark-3.1.1-bin-hadoop2.7/examples/src/main/scala/org/apache/spark/examples/mllib/StandardScalerExample.scala\n",
            "spark-3.1.1-bin-hadoop2.7/examples/src/main/scala/org/apache/spark/examples/mllib/LogisticRegressionWithLBFGSExample.scala\n",
            "spark-3.1.1-bin-hadoop2.7/examples/src/main/scala/org/apache/spark/examples/mllib/StreamingTestExample.scala\n",
            "spark-3.1.1-bin-hadoop2.7/examples/src/main/scala/org/apache/spark/examples/mllib/BinaryClassification.scala\n",
            "spark-3.1.1-bin-hadoop2.7/examples/src/main/scala/org/apache/spark/examples/mllib/DenseKMeans.scala\n",
            "spark-3.1.1-bin-hadoop2.7/examples/src/main/scala/org/apache/spark/examples/mllib/GradientBoostingClassificationExample.scala\n",
            "spark-3.1.1-bin-hadoop2.7/examples/src/main/scala/org/apache/spark/examples/mllib/RankingMetricsExample.scala\n",
            "spark-3.1.1-bin-hadoop2.7/examples/src/main/scala/org/apache/spark/examples/mllib/GaussianMixtureExample.scala\n",
            "spark-3.1.1-bin-hadoop2.7/examples/src/main/scala/org/apache/spark/examples/mllib/MultivariateSummarizer.scala\n",
            "spark-3.1.1-bin-hadoop2.7/examples/src/main/scala/org/apache/spark/examples/mllib/IsotonicRegressionExample.scala\n",
            "spark-3.1.1-bin-hadoop2.7/examples/src/main/scala/org/apache/spark/examples/mllib/PCAOnSourceVectorExample.scala\n",
            "spark-3.1.1-bin-hadoop2.7/examples/src/main/scala/org/apache/spark/examples/mllib/Correlations.scala\n",
            "spark-3.1.1-bin-hadoop2.7/examples/src/main/scala/org/apache/spark/examples/mllib/HypothesisTestingExample.scala\n",
            "spark-3.1.1-bin-hadoop2.7/examples/src/main/scala/org/apache/spark/examples/mllib/DecisionTreeRegressionExample.scala\n",
            "spark-3.1.1-bin-hadoop2.7/examples/src/main/scala/org/apache/spark/examples/mllib/AssociationRulesExample.scala\n",
            "spark-3.1.1-bin-hadoop2.7/examples/src/main/scala/org/apache/spark/examples/mllib/StreamingLogisticRegression.scala\n",
            "spark-3.1.1-bin-hadoop2.7/examples/src/main/scala/org/apache/spark/examples/mllib/SVDExample.scala\n",
            "spark-3.1.1-bin-hadoop2.7/examples/src/main/scala/org/apache/spark/examples/mllib/PrefixSpanExample.scala\n",
            "spark-3.1.1-bin-hadoop2.7/examples/src/main/scala/org/apache/spark/examples/mllib/KMeansExample.scala\n",
            "spark-3.1.1-bin-hadoop2.7/examples/src/main/scala/org/apache/spark/examples/mllib/SparseNaiveBayes.scala\n",
            "spark-3.1.1-bin-hadoop2.7/examples/src/main/scala/org/apache/spark/examples/mllib/AbstractParams.scala\n",
            "spark-3.1.1-bin-hadoop2.7/examples/src/main/scala/org/apache/spark/examples/mllib/BinaryClassificationMetricsExample.scala\n",
            "spark-3.1.1-bin-hadoop2.7/examples/src/main/scala/org/apache/spark/examples/mllib/SampledRDDs.scala\n",
            "spark-3.1.1-bin-hadoop2.7/examples/src/main/scala/org/apache/spark/examples/mllib/FPGrowthExample.scala\n",
            "spark-3.1.1-bin-hadoop2.7/examples/src/main/scala/org/apache/spark/examples/mllib/ElementwiseProductExample.scala\n",
            "spark-3.1.1-bin-hadoop2.7/examples/src/main/scala/org/apache/spark/examples/mllib/RecommendationExample.scala\n",
            "spark-3.1.1-bin-hadoop2.7/examples/src/main/scala/org/apache/spark/examples/mllib/TallSkinnySVD.scala\n",
            "spark-3.1.1-bin-hadoop2.7/examples/src/main/scala/org/apache/spark/examples/mllib/HypothesisTestingKolmogorovSmirnovTestExample.scala\n",
            "spark-3.1.1-bin-hadoop2.7/examples/src/main/scala/org/apache/spark/examples/mllib/GradientBoostingRegressionExample.scala\n",
            "spark-3.1.1-bin-hadoop2.7/examples/src/main/scala/org/apache/spark/examples/mllib/StreamingKMeansExample.scala\n",
            "spark-3.1.1-bin-hadoop2.7/examples/src/main/scala/org/apache/spark/examples/mllib/CosineSimilarity.scala\n",
            "spark-3.1.1-bin-hadoop2.7/examples/src/main/scala/org/apache/spark/examples/mllib/RandomForestRegressionExample.scala\n",
            "spark-3.1.1-bin-hadoop2.7/examples/src/main/scala/org/apache/spark/examples/mllib/StreamingLinearRegressionExample.scala\n",
            "spark-3.1.1-bin-hadoop2.7/examples/src/main/scala/org/apache/spark/examples/mllib/StratifiedSamplingExample.scala\n",
            "spark-3.1.1-bin-hadoop2.7/examples/src/main/scala/org/apache/spark/examples/mllib/DecisionTreeClassificationExample.scala\n",
            "spark-3.1.1-bin-hadoop2.7/examples/src/main/scala/org/apache/spark/examples/mllib/TallSkinnyPCA.scala\n",
            "spark-3.1.1-bin-hadoop2.7/examples/src/main/scala/org/apache/spark/examples/mllib/RandomForestClassificationExample.scala\n",
            "spark-3.1.1-bin-hadoop2.7/examples/src/main/scala/org/apache/spark/examples/mllib/SimpleFPGrowth.scala\n",
            "spark-3.1.1-bin-hadoop2.7/examples/src/main/scala/org/apache/spark/examples/mllib/LatentDirichletAllocationExample.scala\n",
            "spark-3.1.1-bin-hadoop2.7/examples/src/main/scala/org/apache/spark/examples/mllib/KernelDensityEstimationExample.scala\n",
            "spark-3.1.1-bin-hadoop2.7/examples/src/main/scala/org/apache/spark/examples/mllib/PowerIterationClusteringExample.scala\n",
            "spark-3.1.1-bin-hadoop2.7/examples/src/main/scala/org/apache/spark/examples/mllib/SVMWithSGDExample.scala\n",
            "spark-3.1.1-bin-hadoop2.7/examples/src/main/scala/org/apache/spark/examples/mllib/LDAExample.scala\n",
            "spark-3.1.1-bin-hadoop2.7/examples/src/main/scala/org/apache/spark/examples/mllib/MovieLensALS.scala\n",
            "spark-3.1.1-bin-hadoop2.7/examples/src/main/scala/org/apache/spark/examples/mllib/NormalizerExample.scala\n",
            "spark-3.1.1-bin-hadoop2.7/examples/src/main/scala/org/apache/spark/examples/mllib/MulticlassMetricsExample.scala\n",
            "spark-3.1.1-bin-hadoop2.7/examples/src/main/scala/org/apache/spark/examples/mllib/ChiSqSelectorExample.scala\n",
            "spark-3.1.1-bin-hadoop2.7/examples/src/main/scala/org/apache/spark/examples/mllib/SummaryStatisticsExample.scala\n",
            "spark-3.1.1-bin-hadoop2.7/examples/src/main/scala/org/apache/spark/examples/mllib/PCAOnRowMatrixExample.scala\n",
            "spark-3.1.1-bin-hadoop2.7/examples/src/main/scala/org/apache/spark/examples/mllib/NaiveBayesExample.scala\n",
            "spark-3.1.1-bin-hadoop2.7/examples/src/main/scala/org/apache/spark/examples/SparkTC.scala\n",
            "spark-3.1.1-bin-hadoop2.7/examples/src/main/scala/org/apache/spark/examples/DriverSubmissionTest.scala\n",
            "spark-3.1.1-bin-hadoop2.7/examples/src/main/scala/org/apache/spark/examples/MultiBroadcastTest.scala\n",
            "spark-3.1.1-bin-hadoop2.7/examples/src/main/scala/org/apache/spark/examples/SparkLR.scala\n",
            "spark-3.1.1-bin-hadoop2.7/examples/src/main/scala/org/apache/spark/examples/SparkPi.scala\n",
            "spark-3.1.1-bin-hadoop2.7/examples/src/main/scala/org/apache/spark/examples/graphx/\n",
            "spark-3.1.1-bin-hadoop2.7/examples/src/main/scala/org/apache/spark/examples/graphx/ConnectedComponentsExample.scala\n",
            "spark-3.1.1-bin-hadoop2.7/examples/src/main/scala/org/apache/spark/examples/graphx/LiveJournalPageRank.scala\n",
            "spark-3.1.1-bin-hadoop2.7/examples/src/main/scala/org/apache/spark/examples/graphx/AggregateMessagesExample.scala\n",
            "spark-3.1.1-bin-hadoop2.7/examples/src/main/scala/org/apache/spark/examples/graphx/SSSPExample.scala\n",
            "spark-3.1.1-bin-hadoop2.7/examples/src/main/scala/org/apache/spark/examples/graphx/SynthBenchmark.scala\n",
            "spark-3.1.1-bin-hadoop2.7/examples/src/main/scala/org/apache/spark/examples/graphx/TriangleCountingExample.scala\n",
            "spark-3.1.1-bin-hadoop2.7/examples/src/main/scala/org/apache/spark/examples/graphx/PageRankExample.scala\n",
            "spark-3.1.1-bin-hadoop2.7/examples/src/main/scala/org/apache/spark/examples/graphx/ComprehensiveExample.scala\n",
            "spark-3.1.1-bin-hadoop2.7/examples/src/main/scala/org/apache/spark/examples/graphx/Analytics.scala\n",
            "spark-3.1.1-bin-hadoop2.7/examples/src/main/scala/org/apache/spark/examples/SparkKMeans.scala\n",
            "spark-3.1.1-bin-hadoop2.7/examples/src/main/scala/org/apache/spark/examples/streaming/\n",
            "spark-3.1.1-bin-hadoop2.7/examples/src/main/scala/org/apache/spark/examples/streaming/clickstream/\n",
            "spark-3.1.1-bin-hadoop2.7/examples/src/main/scala/org/apache/spark/examples/streaming/clickstream/PageViewGenerator.scala\n",
            "spark-3.1.1-bin-hadoop2.7/examples/src/main/scala/org/apache/spark/examples/streaming/clickstream/PageViewStream.scala\n",
            "spark-3.1.1-bin-hadoop2.7/examples/src/main/scala/org/apache/spark/examples/streaming/DirectKafkaWordCount.scala\n",
            "spark-3.1.1-bin-hadoop2.7/examples/src/main/scala/org/apache/spark/examples/streaming/HdfsWordCount.scala\n",
            "spark-3.1.1-bin-hadoop2.7/examples/src/main/scala/org/apache/spark/examples/streaming/DirectKerberizedKafkaWordCount.scala\n",
            "spark-3.1.1-bin-hadoop2.7/examples/src/main/scala/org/apache/spark/examples/streaming/RecoverableNetworkWordCount.scala\n",
            "spark-3.1.1-bin-hadoop2.7/examples/src/main/scala/org/apache/spark/examples/streaming/NetworkWordCount.scala\n",
            "spark-3.1.1-bin-hadoop2.7/examples/src/main/scala/org/apache/spark/examples/streaming/QueueStream.scala\n",
            "spark-3.1.1-bin-hadoop2.7/examples/src/main/scala/org/apache/spark/examples/streaming/SqlNetworkWordCount.scala\n",
            "spark-3.1.1-bin-hadoop2.7/examples/src/main/scala/org/apache/spark/examples/streaming/CustomReceiver.scala\n",
            "spark-3.1.1-bin-hadoop2.7/examples/src/main/scala/org/apache/spark/examples/streaming/RawNetworkGrep.scala\n",
            "spark-3.1.1-bin-hadoop2.7/examples/src/main/scala/org/apache/spark/examples/streaming/StatefulNetworkWordCount.scala\n",
            "spark-3.1.1-bin-hadoop2.7/examples/src/main/scala/org/apache/spark/examples/streaming/StreamingExamples.scala\n",
            "spark-3.1.1-bin-hadoop2.7/examples/src/main/scala/org/apache/spark/examples/LocalLR.scala\n",
            "spark-3.1.1-bin-hadoop2.7/examples/src/main/scala/org/apache/spark/examples/LocalKMeans.scala\n",
            "spark-3.1.1-bin-hadoop2.7/examples/src/main/scala/org/apache/spark/examples/GroupByTest.scala\n",
            "spark-3.1.1-bin-hadoop2.7/examples/src/main/scala/org/apache/spark/examples/LocalALS.scala\n",
            "spark-3.1.1-bin-hadoop2.7/examples/src/main/scala/org/apache/spark/examples/sql/\n",
            "spark-3.1.1-bin-hadoop2.7/examples/src/main/scala/org/apache/spark/examples/sql/SimpleTypedAggregator.scala\n",
            "spark-3.1.1-bin-hadoop2.7/examples/src/main/scala/org/apache/spark/examples/sql/UserDefinedUntypedAggregation.scala\n",
            "spark-3.1.1-bin-hadoop2.7/examples/src/main/scala/org/apache/spark/examples/sql/hive/\n",
            "spark-3.1.1-bin-hadoop2.7/examples/src/main/scala/org/apache/spark/examples/sql/hive/SparkHiveExample.scala\n",
            "spark-3.1.1-bin-hadoop2.7/examples/src/main/scala/org/apache/spark/examples/sql/RDDRelation.scala\n",
            "spark-3.1.1-bin-hadoop2.7/examples/src/main/scala/org/apache/spark/examples/sql/SparkSQLExample.scala\n",
            "spark-3.1.1-bin-hadoop2.7/examples/src/main/scala/org/apache/spark/examples/sql/SQLDataSourceExample.scala\n",
            "spark-3.1.1-bin-hadoop2.7/examples/src/main/scala/org/apache/spark/examples/sql/streaming/\n",
            "spark-3.1.1-bin-hadoop2.7/examples/src/main/scala/org/apache/spark/examples/sql/streaming/StructuredKerberizedKafkaWordCount.scala\n",
            "spark-3.1.1-bin-hadoop2.7/examples/src/main/scala/org/apache/spark/examples/sql/streaming/StructuredNetworkWordCount.scala\n",
            "spark-3.1.1-bin-hadoop2.7/examples/src/main/scala/org/apache/spark/examples/sql/streaming/StructuredNetworkWordCountWindowed.scala\n",
            "spark-3.1.1-bin-hadoop2.7/examples/src/main/scala/org/apache/spark/examples/sql/streaming/StructuredKafkaWordCount.scala\n",
            "spark-3.1.1-bin-hadoop2.7/examples/src/main/scala/org/apache/spark/examples/sql/streaming/StructuredSessionization.scala\n",
            "spark-3.1.1-bin-hadoop2.7/examples/src/main/scala/org/apache/spark/examples/sql/UserDefinedTypedAggregation.scala\n",
            "spark-3.1.1-bin-hadoop2.7/examples/src/main/scala/org/apache/spark/examples/sql/UserDefinedScalar.scala\n",
            "spark-3.1.1-bin-hadoop2.7/examples/src/main/scala/org/apache/spark/examples/SimpleSkewedGroupByTest.scala\n",
            "spark-3.1.1-bin-hadoop2.7/examples/src/main/scala/org/apache/spark/examples/LocalFileLR.scala\n",
            "spark-3.1.1-bin-hadoop2.7/examples/src/main/scala/org/apache/spark/examples/LocalPi.scala\n",
            "spark-3.1.1-bin-hadoop2.7/examples/src/main/scala/org/apache/spark/examples/DFSReadWriteTest.scala\n",
            "spark-3.1.1-bin-hadoop2.7/examples/src/main/scala/org/apache/spark/examples/SparkALS.scala\n",
            "spark-3.1.1-bin-hadoop2.7/examples/src/main/resources/\n",
            "spark-3.1.1-bin-hadoop2.7/examples/src/main/resources/people.json\n",
            "spark-3.1.1-bin-hadoop2.7/examples/src/main/resources/users.avro\n",
            "spark-3.1.1-bin-hadoop2.7/examples/src/main/resources/people.csv\n",
            "spark-3.1.1-bin-hadoop2.7/examples/src/main/resources/users.parquet\n",
            "spark-3.1.1-bin-hadoop2.7/examples/src/main/resources/users.orc\n",
            "spark-3.1.1-bin-hadoop2.7/examples/src/main/resources/dir1/\n",
            "spark-3.1.1-bin-hadoop2.7/examples/src/main/resources/dir1/file1.parquet\n",
            "spark-3.1.1-bin-hadoop2.7/examples/src/main/resources/dir1/dir2/\n",
            "spark-3.1.1-bin-hadoop2.7/examples/src/main/resources/dir1/dir2/file2.parquet\n",
            "spark-3.1.1-bin-hadoop2.7/examples/src/main/resources/dir1/file3.json\n",
            "spark-3.1.1-bin-hadoop2.7/examples/src/main/resources/user.avsc\n",
            "spark-3.1.1-bin-hadoop2.7/examples/src/main/resources/full_user.avsc\n",
            "spark-3.1.1-bin-hadoop2.7/examples/src/main/resources/kv1.txt\n",
            "spark-3.1.1-bin-hadoop2.7/examples/src/main/resources/people.txt\n",
            "spark-3.1.1-bin-hadoop2.7/examples/src/main/resources/employees.json\n",
            "spark-3.1.1-bin-hadoop2.7/examples/src/main/java/\n",
            "spark-3.1.1-bin-hadoop2.7/examples/src/main/java/org/\n",
            "spark-3.1.1-bin-hadoop2.7/examples/src/main/java/org/apache/\n",
            "spark-3.1.1-bin-hadoop2.7/examples/src/main/java/org/apache/spark/\n",
            "spark-3.1.1-bin-hadoop2.7/examples/src/main/java/org/apache/spark/examples/\n",
            "spark-3.1.1-bin-hadoop2.7/examples/src/main/java/org/apache/spark/examples/ml/\n",
            "spark-3.1.1-bin-hadoop2.7/examples/src/main/java/org/apache/spark/examples/ml/JavaStringIndexerExample.java\n",
            "spark-3.1.1-bin-hadoop2.7/examples/src/main/java/org/apache/spark/examples/ml/JavaChiSqSelectorExample.java\n",
            "spark-3.1.1-bin-hadoop2.7/examples/src/main/java/org/apache/spark/examples/ml/JavaLabeledDocument.java\n",
            "spark-3.1.1-bin-hadoop2.7/examples/src/main/java/org/apache/spark/examples/ml/JavaLogisticRegressionWithElasticNetExample.java\n",
            "spark-3.1.1-bin-hadoop2.7/examples/src/main/java/org/apache/spark/examples/ml/JavaPolynomialExpansionExample.java\n",
            "spark-3.1.1-bin-hadoop2.7/examples/src/main/java/org/apache/spark/examples/ml/JavaTfIdfExample.java\n",
            "spark-3.1.1-bin-hadoop2.7/examples/src/main/java/org/apache/spark/examples/ml/JavaBucketizerExample.java\n",
            "spark-3.1.1-bin-hadoop2.7/examples/src/main/java/org/apache/spark/examples/ml/JavaLogisticRegressionSummaryExample.java\n",
            "spark-3.1.1-bin-hadoop2.7/examples/src/main/java/org/apache/spark/examples/ml/JavaSummarizerExample.java\n",
            "spark-3.1.1-bin-hadoop2.7/examples/src/main/java/org/apache/spark/examples/ml/JavaQuantileDiscretizerExample.java\n",
            "spark-3.1.1-bin-hadoop2.7/examples/src/main/java/org/apache/spark/examples/ml/JavaBinarizerExample.java\n",
            "spark-3.1.1-bin-hadoop2.7/examples/src/main/java/org/apache/spark/examples/ml/JavaOneHotEncoderExample.java\n",
            "spark-3.1.1-bin-hadoop2.7/examples/src/main/java/org/apache/spark/examples/ml/JavaStandardScalerExample.java\n",
            "spark-3.1.1-bin-hadoop2.7/examples/src/main/java/org/apache/spark/examples/ml/JavaDCTExample.java\n",
            "spark-3.1.1-bin-hadoop2.7/examples/src/main/java/org/apache/spark/examples/ml/JavaDecisionTreeRegressionExample.java\n",
            "spark-3.1.1-bin-hadoop2.7/examples/src/main/java/org/apache/spark/examples/ml/JavaRandomForestClassifierExample.java\n",
            "spark-3.1.1-bin-hadoop2.7/examples/src/main/java/org/apache/spark/examples/ml/JavaOneVsRestExample.java\n",
            "spark-3.1.1-bin-hadoop2.7/examples/src/main/java/org/apache/spark/examples/ml/JavaGeneralizedLinearRegressionExample.java\n",
            "spark-3.1.1-bin-hadoop2.7/examples/src/main/java/org/apache/spark/examples/ml/JavaGaussianMixtureExample.java\n",
            "spark-3.1.1-bin-hadoop2.7/examples/src/main/java/org/apache/spark/examples/ml/JavaWord2VecExample.java\n",
            "spark-3.1.1-bin-hadoop2.7/examples/src/main/java/org/apache/spark/examples/ml/JavaNormalizerExample.java\n",
            "spark-3.1.1-bin-hadoop2.7/examples/src/main/java/org/apache/spark/examples/ml/JavaLDAExample.java\n",
            "spark-3.1.1-bin-hadoop2.7/examples/src/main/java/org/apache/spark/examples/ml/JavaCountVectorizerExample.java\n",
            "spark-3.1.1-bin-hadoop2.7/examples/src/main/java/org/apache/spark/examples/ml/JavaMultilayerPerceptronClassifierExample.java\n",
            "spark-3.1.1-bin-hadoop2.7/examples/src/main/java/org/apache/spark/examples/ml/JavaMinMaxScalerExample.java\n",
            "spark-3.1.1-bin-hadoop2.7/examples/src/main/java/org/apache/spark/examples/ml/JavaCorrelationExample.java\n",
            "spark-3.1.1-bin-hadoop2.7/examples/src/main/java/org/apache/spark/examples/ml/JavaNGramExample.java\n",
            "spark-3.1.1-bin-hadoop2.7/examples/src/main/java/org/apache/spark/examples/ml/JavaImputerExample.java\n",
            "spark-3.1.1-bin-hadoop2.7/examples/src/main/java/org/apache/spark/examples/ml/JavaMinHashLSHExample.java\n",
            "spark-3.1.1-bin-hadoop2.7/examples/src/main/java/org/apache/spark/examples/ml/JavaVectorSizeHintExample.java\n",
            "spark-3.1.1-bin-hadoop2.7/examples/src/main/java/org/apache/spark/examples/ml/JavaFMClassifierExample.java\n",
            "spark-3.1.1-bin-hadoop2.7/examples/src/main/java/org/apache/spark/examples/ml/JavaFeatureHasherExample.java\n",
            "spark-3.1.1-bin-hadoop2.7/examples/src/main/java/org/apache/spark/examples/ml/JavaModelSelectionViaTrainValidationSplitExample.java\n",
            "spark-3.1.1-bin-hadoop2.7/examples/src/main/java/org/apache/spark/examples/ml/JavaSQLTransformerExample.java\n",
            "spark-3.1.1-bin-hadoop2.7/examples/src/main/java/org/apache/spark/examples/ml/JavaKMeansExample.java\n",
            "spark-3.1.1-bin-hadoop2.7/examples/src/main/java/org/apache/spark/examples/ml/JavaVectorAssemblerExample.java\n",
            "spark-3.1.1-bin-hadoop2.7/examples/src/main/java/org/apache/spark/examples/ml/JavaGradientBoostedTreeRegressorExample.java\n",
            "spark-3.1.1-bin-hadoop2.7/examples/src/main/java/org/apache/spark/examples/ml/JavaPrefixSpanExample.java\n",
            "spark-3.1.1-bin-hadoop2.7/examples/src/main/java/org/apache/spark/examples/ml/JavaFMRegressorExample.java\n",
            "spark-3.1.1-bin-hadoop2.7/examples/src/main/java/org/apache/spark/examples/ml/JavaNaiveBayesExample.java\n",
            "spark-3.1.1-bin-hadoop2.7/examples/src/main/java/org/apache/spark/examples/ml/JavaMulticlassLogisticRegressionWithElasticNetExample.java\n",
            "spark-3.1.1-bin-hadoop2.7/examples/src/main/java/org/apache/spark/examples/ml/JavaModelSelectionViaCrossValidationExample.java\n",
            "spark-3.1.1-bin-hadoop2.7/examples/src/main/java/org/apache/spark/examples/ml/JavaDocument.java\n",
            "spark-3.1.1-bin-hadoop2.7/examples/src/main/java/org/apache/spark/examples/ml/JavaUnivariateFeatureSelectorExample.java\n",
            "spark-3.1.1-bin-hadoop2.7/examples/src/main/java/org/apache/spark/examples/ml/JavaGradientBoostedTreeClassifierExample.java\n",
            "spark-3.1.1-bin-hadoop2.7/examples/src/main/java/org/apache/spark/examples/ml/JavaRandomForestRegressorExample.java\n",
            "spark-3.1.1-bin-hadoop2.7/examples/src/main/java/org/apache/spark/examples/ml/JavaAFTSurvivalRegressionExample.java\n",
            "spark-3.1.1-bin-hadoop2.7/examples/src/main/java/org/apache/spark/examples/ml/JavaIsotonicRegressionExample.java\n",
            "spark-3.1.1-bin-hadoop2.7/examples/src/main/java/org/apache/spark/examples/ml/JavaElementwiseProductExample.java\n",
            "spark-3.1.1-bin-hadoop2.7/examples/src/main/java/org/apache/spark/examples/ml/JavaALSExample.java\n",
            "spark-3.1.1-bin-hadoop2.7/examples/src/main/java/org/apache/spark/examples/ml/JavaBucketedRandomProjectionLSHExample.java\n",
            "spark-3.1.1-bin-hadoop2.7/examples/src/main/java/org/apache/spark/examples/ml/JavaVarianceThresholdSelectorExample.java\n",
            "spark-3.1.1-bin-hadoop2.7/examples/src/main/java/org/apache/spark/examples/ml/JavaVectorSlicerExample.java\n",
            "spark-3.1.1-bin-hadoop2.7/examples/src/main/java/org/apache/spark/examples/ml/JavaTokenizerExample.java\n",
            "spark-3.1.1-bin-hadoop2.7/examples/src/main/java/org/apache/spark/examples/ml/JavaRFormulaExample.java\n",
            "spark-3.1.1-bin-hadoop2.7/examples/src/main/java/org/apache/spark/examples/ml/JavaEstimatorTransformerParamExample.java\n",
            "spark-3.1.1-bin-hadoop2.7/examples/src/main/java/org/apache/spark/examples/ml/JavaPowerIterationClusteringExample.java\n",
            "spark-3.1.1-bin-hadoop2.7/examples/src/main/java/org/apache/spark/examples/ml/JavaBisectingKMeansExample.java\n",
            "spark-3.1.1-bin-hadoop2.7/examples/src/main/java/org/apache/spark/examples/ml/JavaMaxAbsScalerExample.java\n",
            "spark-3.1.1-bin-hadoop2.7/examples/src/main/java/org/apache/spark/examples/ml/JavaDecisionTreeClassificationExample.java\n",
            "spark-3.1.1-bin-hadoop2.7/examples/src/main/java/org/apache/spark/examples/ml/JavaPCAExample.java\n",
            "spark-3.1.1-bin-hadoop2.7/examples/src/main/java/org/apache/spark/examples/ml/JavaPipelineExample.java\n",
            "spark-3.1.1-bin-hadoop2.7/examples/src/main/java/org/apache/spark/examples/ml/JavaStopWordsRemoverExample.java\n",
            "spark-3.1.1-bin-hadoop2.7/examples/src/main/java/org/apache/spark/examples/ml/JavaIndexToStringExample.java\n",
            "spark-3.1.1-bin-hadoop2.7/examples/src/main/java/org/apache/spark/examples/ml/JavaFPGrowthExample.java\n",
            "spark-3.1.1-bin-hadoop2.7/examples/src/main/java/org/apache/spark/examples/ml/JavaVectorIndexerExample.java\n",
            "spark-3.1.1-bin-hadoop2.7/examples/src/main/java/org/apache/spark/examples/ml/JavaInteractionExample.java\n",
            "spark-3.1.1-bin-hadoop2.7/examples/src/main/java/org/apache/spark/examples/ml/JavaChiSquareTestExample.java\n",
            "spark-3.1.1-bin-hadoop2.7/examples/src/main/java/org/apache/spark/examples/ml/JavaRobustScalerExample.java\n",
            "spark-3.1.1-bin-hadoop2.7/examples/src/main/java/org/apache/spark/examples/ml/JavaLinearRegressionWithElasticNetExample.java\n",
            "spark-3.1.1-bin-hadoop2.7/examples/src/main/java/org/apache/spark/examples/ml/JavaLinearSVCExample.java\n",
            "spark-3.1.1-bin-hadoop2.7/examples/src/main/java/org/apache/spark/examples/JavaWordCount.java\n",
            "spark-3.1.1-bin-hadoop2.7/examples/src/main/java/org/apache/spark/examples/JavaHdfsLR.java\n",
            "spark-3.1.1-bin-hadoop2.7/examples/src/main/java/org/apache/spark/examples/JavaStatusTrackerDemo.java\n",
            "spark-3.1.1-bin-hadoop2.7/examples/src/main/java/org/apache/spark/examples/mllib/\n",
            "spark-3.1.1-bin-hadoop2.7/examples/src/main/java/org/apache/spark/examples/mllib/JavaChiSqSelectorExample.java\n",
            "spark-3.1.1-bin-hadoop2.7/examples/src/main/java/org/apache/spark/examples/mllib/JavaHypothesisTestingKolmogorovSmirnovTestExample.java\n",
            "spark-3.1.1-bin-hadoop2.7/examples/src/main/java/org/apache/spark/examples/mllib/JavaRandomForestRegressionExample.java\n",
            "spark-3.1.1-bin-hadoop2.7/examples/src/main/java/org/apache/spark/examples/mllib/JavaSimpleFPGrowth.java\n",
            "spark-3.1.1-bin-hadoop2.7/examples/src/main/java/org/apache/spark/examples/mllib/JavaRandomForestClassificationExample.java\n",
            "spark-3.1.1-bin-hadoop2.7/examples/src/main/java/org/apache/spark/examples/mllib/JavaMulticlassClassificationMetricsExample.java\n",
            "spark-3.1.1-bin-hadoop2.7/examples/src/main/java/org/apache/spark/examples/mllib/JavaKernelDensityEstimationExample.java\n",
            "spark-3.1.1-bin-hadoop2.7/examples/src/main/java/org/apache/spark/examples/mllib/JavaSummaryStatisticsExample.java\n",
            "spark-3.1.1-bin-hadoop2.7/examples/src/main/java/org/apache/spark/examples/mllib/JavaDecisionTreeRegressionExample.java\n",
            "spark-3.1.1-bin-hadoop2.7/examples/src/main/java/org/apache/spark/examples/mllib/JavaGradientBoostingClassificationExample.java\n",
            "spark-3.1.1-bin-hadoop2.7/examples/src/main/java/org/apache/spark/examples/mllib/JavaGaussianMixtureExample.java\n",
            "spark-3.1.1-bin-hadoop2.7/examples/src/main/java/org/apache/spark/examples/mllib/JavaStratifiedSamplingExample.java\n",
            "spark-3.1.1-bin-hadoop2.7/examples/src/main/java/org/apache/spark/examples/mllib/JavaSVDExample.java\n",
            "spark-3.1.1-bin-hadoop2.7/examples/src/main/java/org/apache/spark/examples/mllib/JavaAssociationRulesExample.java\n",
            "spark-3.1.1-bin-hadoop2.7/examples/src/main/java/org/apache/spark/examples/mllib/JavaALS.java\n",
            "spark-3.1.1-bin-hadoop2.7/examples/src/main/java/org/apache/spark/examples/mllib/JavaKMeansExample.java\n",
            "spark-3.1.1-bin-hadoop2.7/examples/src/main/java/org/apache/spark/examples/mllib/JavaSVMWithSGDExample.java\n",
            "spark-3.1.1-bin-hadoop2.7/examples/src/main/java/org/apache/spark/examples/mllib/JavaPrefixSpanExample.java\n",
            "spark-3.1.1-bin-hadoop2.7/examples/src/main/java/org/apache/spark/examples/mllib/JavaNaiveBayesExample.java\n",
            "spark-3.1.1-bin-hadoop2.7/examples/src/main/java/org/apache/spark/examples/mllib/JavaLogisticRegressionWithLBFGSExample.java\n",
            "spark-3.1.1-bin-hadoop2.7/examples/src/main/java/org/apache/spark/examples/mllib/JavaLBFGSExample.java\n",
            "spark-3.1.1-bin-hadoop2.7/examples/src/main/java/org/apache/spark/examples/mllib/JavaGradientBoostingRegressionExample.java\n",
            "spark-3.1.1-bin-hadoop2.7/examples/src/main/java/org/apache/spark/examples/mllib/JavaRankingMetricsExample.java\n",
            "spark-3.1.1-bin-hadoop2.7/examples/src/main/java/org/apache/spark/examples/mllib/JavaIsotonicRegressionExample.java\n",
            "spark-3.1.1-bin-hadoop2.7/examples/src/main/java/org/apache/spark/examples/mllib/JavaElementwiseProductExample.java\n",
            "spark-3.1.1-bin-hadoop2.7/examples/src/main/java/org/apache/spark/examples/mllib/JavaCorrelationsExample.java\n",
            "spark-3.1.1-bin-hadoop2.7/examples/src/main/java/org/apache/spark/examples/mllib/JavaPowerIterationClusteringExample.java\n",
            "spark-3.1.1-bin-hadoop2.7/examples/src/main/java/org/apache/spark/examples/mllib/JavaBisectingKMeansExample.java\n",
            "spark-3.1.1-bin-hadoop2.7/examples/src/main/java/org/apache/spark/examples/mllib/JavaDecisionTreeClassificationExample.java\n",
            "spark-3.1.1-bin-hadoop2.7/examples/src/main/java/org/apache/spark/examples/mllib/JavaPCAExample.java\n",
            "spark-3.1.1-bin-hadoop2.7/examples/src/main/java/org/apache/spark/examples/mllib/JavaRecommendationExample.java\n",
            "spark-3.1.1-bin-hadoop2.7/examples/src/main/java/org/apache/spark/examples/mllib/JavaLatentDirichletAllocationExample.java\n",
            "spark-3.1.1-bin-hadoop2.7/examples/src/main/java/org/apache/spark/examples/mllib/JavaHypothesisTestingExample.java\n",
            "spark-3.1.1-bin-hadoop2.7/examples/src/main/java/org/apache/spark/examples/mllib/JavaMultiLabelClassificationMetricsExample.java\n",
            "spark-3.1.1-bin-hadoop2.7/examples/src/main/java/org/apache/spark/examples/mllib/JavaBinaryClassificationMetricsExample.java\n",
            "spark-3.1.1-bin-hadoop2.7/examples/src/main/java/org/apache/spark/examples/mllib/JavaStreamingTestExample.java\n",
            "spark-3.1.1-bin-hadoop2.7/examples/src/main/java/org/apache/spark/examples/JavaPageRank.java\n",
            "spark-3.1.1-bin-hadoop2.7/examples/src/main/java/org/apache/spark/examples/JavaLogQuery.java\n",
            "spark-3.1.1-bin-hadoop2.7/examples/src/main/java/org/apache/spark/examples/streaming/\n",
            "spark-3.1.1-bin-hadoop2.7/examples/src/main/java/org/apache/spark/examples/streaming/JavaStatefulNetworkWordCount.java\n",
            "spark-3.1.1-bin-hadoop2.7/examples/src/main/java/org/apache/spark/examples/streaming/JavaCustomReceiver.java\n",
            "spark-3.1.1-bin-hadoop2.7/examples/src/main/java/org/apache/spark/examples/streaming/JavaRecord.java\n",
            "spark-3.1.1-bin-hadoop2.7/examples/src/main/java/org/apache/spark/examples/streaming/JavaNetworkWordCount.java\n",
            "spark-3.1.1-bin-hadoop2.7/examples/src/main/java/org/apache/spark/examples/streaming/JavaDirectKerberizedKafkaWordCount.java\n",
            "spark-3.1.1-bin-hadoop2.7/examples/src/main/java/org/apache/spark/examples/streaming/JavaDirectKafkaWordCount.java\n",
            "spark-3.1.1-bin-hadoop2.7/examples/src/main/java/org/apache/spark/examples/streaming/JavaSqlNetworkWordCount.java\n",
            "spark-3.1.1-bin-hadoop2.7/examples/src/main/java/org/apache/spark/examples/streaming/JavaRecoverableNetworkWordCount.java\n",
            "spark-3.1.1-bin-hadoop2.7/examples/src/main/java/org/apache/spark/examples/streaming/JavaQueueStream.java\n",
            "spark-3.1.1-bin-hadoop2.7/examples/src/main/java/org/apache/spark/examples/JavaSparkPi.java\n",
            "spark-3.1.1-bin-hadoop2.7/examples/src/main/java/org/apache/spark/examples/sql/\n",
            "spark-3.1.1-bin-hadoop2.7/examples/src/main/java/org/apache/spark/examples/sql/JavaUserDefinedScalar.java\n",
            "spark-3.1.1-bin-hadoop2.7/examples/src/main/java/org/apache/spark/examples/sql/hive/\n",
            "spark-3.1.1-bin-hadoop2.7/examples/src/main/java/org/apache/spark/examples/sql/hive/JavaSparkHiveExample.java\n",
            "spark-3.1.1-bin-hadoop2.7/examples/src/main/java/org/apache/spark/examples/sql/JavaUserDefinedTypedAggregation.java\n",
            "spark-3.1.1-bin-hadoop2.7/examples/src/main/java/org/apache/spark/examples/sql/JavaSQLDataSourceExample.java\n",
            "spark-3.1.1-bin-hadoop2.7/examples/src/main/java/org/apache/spark/examples/sql/JavaSparkSQLExample.java\n",
            "spark-3.1.1-bin-hadoop2.7/examples/src/main/java/org/apache/spark/examples/sql/JavaUserDefinedUntypedAggregation.java\n",
            "spark-3.1.1-bin-hadoop2.7/examples/src/main/java/org/apache/spark/examples/sql/streaming/\n",
            "spark-3.1.1-bin-hadoop2.7/examples/src/main/java/org/apache/spark/examples/sql/streaming/JavaStructuredKafkaWordCount.java\n",
            "spark-3.1.1-bin-hadoop2.7/examples/src/main/java/org/apache/spark/examples/sql/streaming/JavaStructuredNetworkWordCountWindowed.java\n",
            "spark-3.1.1-bin-hadoop2.7/examples/src/main/java/org/apache/spark/examples/sql/streaming/JavaStructuredSessionization.java\n",
            "spark-3.1.1-bin-hadoop2.7/examples/src/main/java/org/apache/spark/examples/sql/streaming/JavaStructuredNetworkWordCount.java\n",
            "spark-3.1.1-bin-hadoop2.7/examples/src/main/java/org/apache/spark/examples/sql/streaming/JavaStructuredKerberizedKafkaWordCount.java\n",
            "spark-3.1.1-bin-hadoop2.7/examples/src/main/java/org/apache/spark/examples/JavaTC.java\n",
            "spark-3.1.1-bin-hadoop2.7/examples/src/main/scripts/\n",
            "spark-3.1.1-bin-hadoop2.7/examples/src/main/scripts/getGpusResources.sh\n",
            "spark-3.1.1-bin-hadoop2.7/examples/src/main/python/\n",
            "spark-3.1.1-bin-hadoop2.7/examples/src/main/python/kmeans.py\n",
            "spark-3.1.1-bin-hadoop2.7/examples/src/main/python/ml/\n",
            "spark-3.1.1-bin-hadoop2.7/examples/src/main/python/ml/dct_example.py\n",
            "spark-3.1.1-bin-hadoop2.7/examples/src/main/python/ml/count_vectorizer_example.py\n",
            "spark-3.1.1-bin-hadoop2.7/examples/src/main/python/ml/chisq_selector_example.py\n",
            "spark-3.1.1-bin-hadoop2.7/examples/src/main/python/ml/gradient_boosted_tree_regressor_example.py\n",
            "spark-3.1.1-bin-hadoop2.7/examples/src/main/python/ml/tf_idf_example.py\n",
            "spark-3.1.1-bin-hadoop2.7/examples/src/main/python/ml/cross_validator.py\n",
            "spark-3.1.1-bin-hadoop2.7/examples/src/main/python/ml/linear_regression_with_elastic_net.py\n",
            "spark-3.1.1-bin-hadoop2.7/examples/src/main/python/ml/normalizer_example.py\n",
            "spark-3.1.1-bin-hadoop2.7/examples/src/main/python/ml/fm_regressor_example.py\n",
            "spark-3.1.1-bin-hadoop2.7/examples/src/main/python/ml/univariate_feature_selector_example.py\n",
            "spark-3.1.1-bin-hadoop2.7/examples/src/main/python/ml/polynomial_expansion_example.py\n",
            "spark-3.1.1-bin-hadoop2.7/examples/src/main/python/ml/pipeline_example.py\n",
            "spark-3.1.1-bin-hadoop2.7/examples/src/main/python/ml/generalized_linear_regression_example.py\n",
            "spark-3.1.1-bin-hadoop2.7/examples/src/main/python/ml/multilayer_perceptron_classification.py\n",
            "spark-3.1.1-bin-hadoop2.7/examples/src/main/python/ml/bisecting_k_means_example.py\n",
            "spark-3.1.1-bin-hadoop2.7/examples/src/main/python/ml/chi_square_test_example.py\n",
            "spark-3.1.1-bin-hadoop2.7/examples/src/main/python/ml/train_validation_split.py\n",
            "spark-3.1.1-bin-hadoop2.7/examples/src/main/python/ml/stopwords_remover_example.py\n",
            "spark-3.1.1-bin-hadoop2.7/examples/src/main/python/ml/linearsvc.py\n",
            "spark-3.1.1-bin-hadoop2.7/examples/src/main/python/ml/lda_example.py\n",
            "spark-3.1.1-bin-hadoop2.7/examples/src/main/python/ml/random_forest_regressor_example.py\n",
            "spark-3.1.1-bin-hadoop2.7/examples/src/main/python/ml/vector_assembler_example.py\n",
            "spark-3.1.1-bin-hadoop2.7/examples/src/main/python/ml/word2vec_example.py\n",
            "spark-3.1.1-bin-hadoop2.7/examples/src/main/python/ml/string_indexer_example.py\n",
            "spark-3.1.1-bin-hadoop2.7/examples/src/main/python/ml/decision_tree_classification_example.py\n",
            "spark-3.1.1-bin-hadoop2.7/examples/src/main/python/ml/index_to_string_example.py\n",
            "spark-3.1.1-bin-hadoop2.7/examples/src/main/python/ml/bucketizer_example.py\n",
            "spark-3.1.1-bin-hadoop2.7/examples/src/main/python/ml/vector_size_hint_example.py\n",
            "spark-3.1.1-bin-hadoop2.7/examples/src/main/python/ml/vector_indexer_example.py\n",
            "spark-3.1.1-bin-hadoop2.7/examples/src/main/python/ml/tokenizer_example.py\n",
            "spark-3.1.1-bin-hadoop2.7/examples/src/main/python/ml/robust_scaler_example.py\n",
            "spark-3.1.1-bin-hadoop2.7/examples/src/main/python/ml/standard_scaler_example.py\n",
            "spark-3.1.1-bin-hadoop2.7/examples/src/main/python/ml/kmeans_example.py\n",
            "spark-3.1.1-bin-hadoop2.7/examples/src/main/python/ml/power_iteration_clustering_example.py\n",
            "spark-3.1.1-bin-hadoop2.7/examples/src/main/python/ml/naive_bayes_example.py\n",
            "spark-3.1.1-bin-hadoop2.7/examples/src/main/python/ml/pca_example.py\n",
            "spark-3.1.1-bin-hadoop2.7/examples/src/main/python/ml/aft_survival_regression.py\n",
            "spark-3.1.1-bin-hadoop2.7/examples/src/main/python/ml/min_max_scaler_example.py\n",
            "spark-3.1.1-bin-hadoop2.7/examples/src/main/python/ml/elementwise_product_example.py\n",
            "spark-3.1.1-bin-hadoop2.7/examples/src/main/python/ml/dataframe_example.py\n",
            "spark-3.1.1-bin-hadoop2.7/examples/src/main/python/ml/n_gram_example.py\n",
            "spark-3.1.1-bin-hadoop2.7/examples/src/main/python/ml/rformula_example.py\n",
            "spark-3.1.1-bin-hadoop2.7/examples/src/main/python/ml/one_vs_rest_example.py\n",
            "spark-3.1.1-bin-hadoop2.7/examples/src/main/python/ml/als_example.py\n",
            "spark-3.1.1-bin-hadoop2.7/examples/src/main/python/ml/onehot_encoder_example.py\n",
            "spark-3.1.1-bin-hadoop2.7/examples/src/main/python/ml/vector_slicer_example.py\n",
            "spark-3.1.1-bin-hadoop2.7/examples/src/main/python/ml/logistic_regression_with_elastic_net.py\n",
            "spark-3.1.1-bin-hadoop2.7/examples/src/main/python/ml/sql_transformer.py\n",
            "spark-3.1.1-bin-hadoop2.7/examples/src/main/python/ml/multiclass_logistic_regression_with_elastic_net.py\n",
            "spark-3.1.1-bin-hadoop2.7/examples/src/main/python/ml/summarizer_example.py\n",
            "spark-3.1.1-bin-hadoop2.7/examples/src/main/python/ml/quantile_discretizer_example.py\n",
            "spark-3.1.1-bin-hadoop2.7/examples/src/main/python/ml/feature_hasher_example.py\n",
            "spark-3.1.1-bin-hadoop2.7/examples/src/main/python/ml/imputer_example.py\n",
            "spark-3.1.1-bin-hadoop2.7/examples/src/main/python/ml/bucketed_random_projection_lsh_example.py\n",
            "spark-3.1.1-bin-hadoop2.7/examples/src/main/python/ml/estimator_transformer_param_example.py\n",
            "spark-3.1.1-bin-hadoop2.7/examples/src/main/python/ml/gradient_boosted_tree_classifier_example.py\n",
            "spark-3.1.1-bin-hadoop2.7/examples/src/main/python/ml/logistic_regression_summary_example.py\n",
            "spark-3.1.1-bin-hadoop2.7/examples/src/main/python/ml/decision_tree_regression_example.py\n",
            "spark-3.1.1-bin-hadoop2.7/examples/src/main/python/ml/fm_classifier_example.py\n",
            "spark-3.1.1-bin-hadoop2.7/examples/src/main/python/ml/gaussian_mixture_example.py\n",
            "spark-3.1.1-bin-hadoop2.7/examples/src/main/python/ml/fpgrowth_example.py\n",
            "spark-3.1.1-bin-hadoop2.7/examples/src/main/python/ml/variance_threshold_selector_example.py\n",
            "spark-3.1.1-bin-hadoop2.7/examples/src/main/python/ml/random_forest_classifier_example.py\n",
            "spark-3.1.1-bin-hadoop2.7/examples/src/main/python/ml/correlation_example.py\n",
            "spark-3.1.1-bin-hadoop2.7/examples/src/main/python/ml/min_hash_lsh_example.py\n",
            "spark-3.1.1-bin-hadoop2.7/examples/src/main/python/ml/binarizer_example.py\n",
            "spark-3.1.1-bin-hadoop2.7/examples/src/main/python/ml/prefixspan_example.py\n",
            "spark-3.1.1-bin-hadoop2.7/examples/src/main/python/ml/max_abs_scaler_example.py\n",
            "spark-3.1.1-bin-hadoop2.7/examples/src/main/python/ml/isotonic_regression_example.py\n",
            "spark-3.1.1-bin-hadoop2.7/examples/src/main/python/ml/interaction_example.py\n",
            "spark-3.1.1-bin-hadoop2.7/examples/src/main/python/logistic_regression.py\n",
            "spark-3.1.1-bin-hadoop2.7/examples/src/main/python/als.py\n",
            "spark-3.1.1-bin-hadoop2.7/examples/src/main/python/mllib/\n",
            "spark-3.1.1-bin-hadoop2.7/examples/src/main/python/mllib/word2vec.py\n",
            "spark-3.1.1-bin-hadoop2.7/examples/src/main/python/mllib/correlations_example.py\n",
            "spark-3.1.1-bin-hadoop2.7/examples/src/main/python/mllib/gradient_boosting_classification_example.py\n",
            "spark-3.1.1-bin-hadoop2.7/examples/src/main/python/mllib/kernel_density_estimation_example.py\n",
            "spark-3.1.1-bin-hadoop2.7/examples/src/main/python/mllib/hypothesis_testing_example.py\n",
            "spark-3.1.1-bin-hadoop2.7/examples/src/main/python/mllib/svd_example.py\n",
            "spark-3.1.1-bin-hadoop2.7/examples/src/main/python/mllib/kmeans.py\n",
            "spark-3.1.1-bin-hadoop2.7/examples/src/main/python/mllib/latent_dirichlet_allocation_example.py\n",
            "spark-3.1.1-bin-hadoop2.7/examples/src/main/python/mllib/tf_idf_example.py\n",
            "spark-3.1.1-bin-hadoop2.7/examples/src/main/python/mllib/correlations.py\n",
            "spark-3.1.1-bin-hadoop2.7/examples/src/main/python/mllib/random_forest_regression_example.py\n",
            "spark-3.1.1-bin-hadoop2.7/examples/src/main/python/mllib/normalizer_example.py\n",
            "spark-3.1.1-bin-hadoop2.7/examples/src/main/python/mllib/logistic_regression.py\n",
            "spark-3.1.1-bin-hadoop2.7/examples/src/main/python/mllib/multi_label_metrics_example.py\n",
            "spark-3.1.1-bin-hadoop2.7/examples/src/main/python/mllib/gradient_boosting_regression_example.py\n",
            "spark-3.1.1-bin-hadoop2.7/examples/src/main/python/mllib/random_forest_classification_example.py\n",
            "spark-3.1.1-bin-hadoop2.7/examples/src/main/python/mllib/streaming_linear_regression_example.py\n",
            "spark-3.1.1-bin-hadoop2.7/examples/src/main/python/mllib/sampled_rdds.py\n",
            "spark-3.1.1-bin-hadoop2.7/examples/src/main/python/mllib/bisecting_k_means_example.py\n",
            "spark-3.1.1-bin-hadoop2.7/examples/src/main/python/mllib/logistic_regression_with_lbfgs_example.py\n",
            "spark-3.1.1-bin-hadoop2.7/examples/src/main/python/mllib/k_means_example.py\n",
            "spark-3.1.1-bin-hadoop2.7/examples/src/main/python/mllib/streaming_k_means_example.py\n",
            "spark-3.1.1-bin-hadoop2.7/examples/src/main/python/mllib/word2vec_example.py\n",
            "spark-3.1.1-bin-hadoop2.7/examples/src/main/python/mllib/multi_class_metrics_example.py\n",
            "spark-3.1.1-bin-hadoop2.7/examples/src/main/python/mllib/decision_tree_classification_example.py\n",
            "spark-3.1.1-bin-hadoop2.7/examples/src/main/python/mllib/summary_statistics_example.py\n",
            "spark-3.1.1-bin-hadoop2.7/examples/src/main/python/mllib/binary_classification_metrics_example.py\n",
            "spark-3.1.1-bin-hadoop2.7/examples/src/main/python/mllib/standard_scaler_example.py\n",
            "spark-3.1.1-bin-hadoop2.7/examples/src/main/python/mllib/power_iteration_clustering_example.py\n",
            "spark-3.1.1-bin-hadoop2.7/examples/src/main/python/mllib/gaussian_mixture_model.py\n",
            "spark-3.1.1-bin-hadoop2.7/examples/src/main/python/mllib/regression_metrics_example.py\n",
            "spark-3.1.1-bin-hadoop2.7/examples/src/main/python/mllib/naive_bayes_example.py\n",
            "spark-3.1.1-bin-hadoop2.7/examples/src/main/python/mllib/elementwise_product_example.py\n",
            "spark-3.1.1-bin-hadoop2.7/examples/src/main/python/mllib/linear_regression_with_sgd_example.py\n",
            "spark-3.1.1-bin-hadoop2.7/examples/src/main/python/mllib/pca_rowmatrix_example.py\n",
            "spark-3.1.1-bin-hadoop2.7/examples/src/main/python/mllib/hypothesis_testing_kolmogorov_smirnov_test_example.py\n",
            "spark-3.1.1-bin-hadoop2.7/examples/src/main/python/mllib/random_rdd_generation.py\n",
            "spark-3.1.1-bin-hadoop2.7/examples/src/main/python/mllib/decision_tree_regression_example.py\n",
            "spark-3.1.1-bin-hadoop2.7/examples/src/main/python/mllib/gaussian_mixture_example.py\n",
            "spark-3.1.1-bin-hadoop2.7/examples/src/main/python/mllib/recommendation_example.py\n",
            "spark-3.1.1-bin-hadoop2.7/examples/src/main/python/mllib/fpgrowth_example.py\n",
            "spark-3.1.1-bin-hadoop2.7/examples/src/main/python/mllib/ranking_metrics_example.py\n",
            "spark-3.1.1-bin-hadoop2.7/examples/src/main/python/mllib/svm_with_sgd_example.py\n",
            "spark-3.1.1-bin-hadoop2.7/examples/src/main/python/mllib/isotonic_regression_example.py\n",
            "spark-3.1.1-bin-hadoop2.7/examples/src/main/python/mllib/stratified_sampling_example.py\n",
            "spark-3.1.1-bin-hadoop2.7/examples/src/main/python/wordcount.py\n",
            "spark-3.1.1-bin-hadoop2.7/examples/src/main/python/status_api_demo.py\n",
            "spark-3.1.1-bin-hadoop2.7/examples/src/main/python/pagerank.py\n",
            "spark-3.1.1-bin-hadoop2.7/examples/src/main/python/sort.py\n",
            "spark-3.1.1-bin-hadoop2.7/examples/src/main/python/transitive_closure.py\n",
            "spark-3.1.1-bin-hadoop2.7/examples/src/main/python/avro_inputformat.py\n",
            "spark-3.1.1-bin-hadoop2.7/examples/src/main/python/pi.py\n",
            "spark-3.1.1-bin-hadoop2.7/examples/src/main/python/streaming/\n",
            "spark-3.1.1-bin-hadoop2.7/examples/src/main/python/streaming/queue_stream.py\n",
            "spark-3.1.1-bin-hadoop2.7/examples/src/main/python/streaming/stateful_network_wordcount.py\n",
            "spark-3.1.1-bin-hadoop2.7/examples/src/main/python/streaming/network_wordjoinsentiments.py\n",
            "spark-3.1.1-bin-hadoop2.7/examples/src/main/python/streaming/sql_network_wordcount.py\n",
            "spark-3.1.1-bin-hadoop2.7/examples/src/main/python/streaming/network_wordcount.py\n",
            "spark-3.1.1-bin-hadoop2.7/examples/src/main/python/streaming/hdfs_wordcount.py\n",
            "spark-3.1.1-bin-hadoop2.7/examples/src/main/python/streaming/recoverable_network_wordcount.py\n",
            "spark-3.1.1-bin-hadoop2.7/examples/src/main/python/sql/\n",
            "spark-3.1.1-bin-hadoop2.7/examples/src/main/python/sql/datasource.py\n",
            "spark-3.1.1-bin-hadoop2.7/examples/src/main/python/sql/hive.py\n",
            "spark-3.1.1-bin-hadoop2.7/examples/src/main/python/sql/arrow.py\n",
            "spark-3.1.1-bin-hadoop2.7/examples/src/main/python/sql/streaming/\n",
            "spark-3.1.1-bin-hadoop2.7/examples/src/main/python/sql/streaming/structured_network_wordcount_windowed.py\n",
            "spark-3.1.1-bin-hadoop2.7/examples/src/main/python/sql/streaming/structured_network_wordcount.py\n",
            "spark-3.1.1-bin-hadoop2.7/examples/src/main/python/sql/streaming/structured_kafka_wordcount.py\n",
            "spark-3.1.1-bin-hadoop2.7/examples/src/main/python/sql/basic.py\n",
            "spark-3.1.1-bin-hadoop2.7/examples/src/main/python/parquet_inputformat.py\n",
            "spark-3.1.1-bin-hadoop2.7/examples/jars/\n",
            "spark-3.1.1-bin-hadoop2.7/examples/jars/spark-examples_2.12-3.1.1.jar\n",
            "spark-3.1.1-bin-hadoop2.7/examples/jars/scopt_2.12-3.7.1.jar\n",
            "spark-3.1.1-bin-hadoop2.7/conf/\n",
            "spark-3.1.1-bin-hadoop2.7/conf/metrics.properties.template\n",
            "spark-3.1.1-bin-hadoop2.7/conf/workers.template\n",
            "spark-3.1.1-bin-hadoop2.7/conf/fairscheduler.xml.template\n",
            "spark-3.1.1-bin-hadoop2.7/conf/log4j.properties.template\n",
            "spark-3.1.1-bin-hadoop2.7/conf/spark-defaults.conf.template\n",
            "spark-3.1.1-bin-hadoop2.7/conf/spark-env.sh.template\n",
            "spark-3.1.1-bin-hadoop2.7/bin/\n",
            "spark-3.1.1-bin-hadoop2.7/bin/sparkR.cmd\n",
            "spark-3.1.1-bin-hadoop2.7/bin/sparkR\n",
            "spark-3.1.1-bin-hadoop2.7/bin/spark-submit\n",
            "spark-3.1.1-bin-hadoop2.7/bin/pyspark2.cmd\n",
            "spark-3.1.1-bin-hadoop2.7/bin/spark-class\n",
            "spark-3.1.1-bin-hadoop2.7/bin/pyspark.cmd\n",
            "spark-3.1.1-bin-hadoop2.7/bin/spark-submit2.cmd\n",
            "spark-3.1.1-bin-hadoop2.7/bin/load-spark-env.cmd\n",
            "spark-3.1.1-bin-hadoop2.7/bin/spark-sql\n",
            "spark-3.1.1-bin-hadoop2.7/bin/docker-image-tool.sh\n",
            "spark-3.1.1-bin-hadoop2.7/bin/find-spark-home.cmd\n",
            "spark-3.1.1-bin-hadoop2.7/bin/load-spark-env.sh\n",
            "spark-3.1.1-bin-hadoop2.7/bin/pyspark\n",
            "spark-3.1.1-bin-hadoop2.7/bin/spark-shell.cmd\n",
            "spark-3.1.1-bin-hadoop2.7/bin/spark-shell2.cmd\n",
            "spark-3.1.1-bin-hadoop2.7/bin/spark-submit.cmd\n",
            "spark-3.1.1-bin-hadoop2.7/bin/beeline.cmd\n",
            "spark-3.1.1-bin-hadoop2.7/bin/find-spark-home\n",
            "spark-3.1.1-bin-hadoop2.7/bin/spark-class.cmd\n",
            "spark-3.1.1-bin-hadoop2.7/bin/sparkR2.cmd\n",
            "spark-3.1.1-bin-hadoop2.7/bin/beeline\n",
            "spark-3.1.1-bin-hadoop2.7/bin/spark-class2.cmd\n",
            "spark-3.1.1-bin-hadoop2.7/bin/spark-sql.cmd\n",
            "spark-3.1.1-bin-hadoop2.7/bin/run-example\n",
            "spark-3.1.1-bin-hadoop2.7/bin/spark-shell\n",
            "spark-3.1.1-bin-hadoop2.7/bin/run-example.cmd\n",
            "spark-3.1.1-bin-hadoop2.7/bin/spark-sql2.cmd\n",
            "spark-3.1.1-bin-hadoop2.7/python/\n",
            "spark-3.1.1-bin-hadoop2.7/python/.gitignore\n",
            "spark-3.1.1-bin-hadoop2.7/python/run-tests-with-coverage\n",
            "spark-3.1.1-bin-hadoop2.7/python/mypy.ini\n",
            "spark-3.1.1-bin-hadoop2.7/python/pylintrc\n",
            "spark-3.1.1-bin-hadoop2.7/python/MANIFEST.in\n",
            "spark-3.1.1-bin-hadoop2.7/python/README.md\n",
            "spark-3.1.1-bin-hadoop2.7/python/test_coverage/\n",
            "spark-3.1.1-bin-hadoop2.7/python/test_coverage/coverage_daemon.py\n",
            "spark-3.1.1-bin-hadoop2.7/python/test_coverage/conf/\n",
            "spark-3.1.1-bin-hadoop2.7/python/test_coverage/conf/spark-defaults.conf\n",
            "spark-3.1.1-bin-hadoop2.7/python/test_coverage/sitecustomize.py\n",
            "spark-3.1.1-bin-hadoop2.7/python/run-tests.py\n",
            "spark-3.1.1-bin-hadoop2.7/python/setup.py\n",
            "spark-3.1.1-bin-hadoop2.7/python/test_support/\n",
            "spark-3.1.1-bin-hadoop2.7/python/test_support/userlibrary.py\n",
            "spark-3.1.1-bin-hadoop2.7/python/test_support/hello/\n",
            "spark-3.1.1-bin-hadoop2.7/python/test_support/hello/sub_hello/\n",
            "spark-3.1.1-bin-hadoop2.7/python/test_support/hello/sub_hello/sub_hello.txt\n",
            "spark-3.1.1-bin-hadoop2.7/python/test_support/hello/hello.txt\n",
            "spark-3.1.1-bin-hadoop2.7/python/test_support/userlib-0.1.zip\n",
            "spark-3.1.1-bin-hadoop2.7/python/test_support/SimpleHTTPServer.py\n",
            "spark-3.1.1-bin-hadoop2.7/python/test_support/sql/\n",
            "spark-3.1.1-bin-hadoop2.7/python/test_support/sql/people.json\n",
            "spark-3.1.1-bin-hadoop2.7/python/test_support/sql/people_array.json\n",
            "spark-3.1.1-bin-hadoop2.7/python/test_support/sql/people_array_utf16le.json\n",
            "spark-3.1.1-bin-hadoop2.7/python/test_support/sql/text-test.txt\n",
            "spark-3.1.1-bin-hadoop2.7/python/test_support/sql/ages.csv\n",
            "spark-3.1.1-bin-hadoop2.7/python/test_support/sql/parquet_partitioned/\n",
            "spark-3.1.1-bin-hadoop2.7/python/test_support/sql/parquet_partitioned/year=2015/\n",
            "spark-3.1.1-bin-hadoop2.7/python/test_support/sql/parquet_partitioned/year=2015/month=10/\n",
            "spark-3.1.1-bin-hadoop2.7/python/test_support/sql/parquet_partitioned/year=2015/month=10/day=26/\n",
            "spark-3.1.1-bin-hadoop2.7/python/test_support/sql/parquet_partitioned/year=2015/month=10/day=26/.part-r-00005.gz.parquet.crc\n",
            "spark-3.1.1-bin-hadoop2.7/python/test_support/sql/parquet_partitioned/year=2015/month=10/day=26/part-r-00005.gz.parquet\n",
            "spark-3.1.1-bin-hadoop2.7/python/test_support/sql/parquet_partitioned/year=2015/month=10/day=25/\n",
            "spark-3.1.1-bin-hadoop2.7/python/test_support/sql/parquet_partitioned/year=2015/month=10/day=25/.part-r-00002.gz.parquet.crc\n",
            "spark-3.1.1-bin-hadoop2.7/python/test_support/sql/parquet_partitioned/year=2015/month=10/day=25/.part-r-00004.gz.parquet.crc\n",
            "spark-3.1.1-bin-hadoop2.7/python/test_support/sql/parquet_partitioned/year=2015/month=10/day=25/part-r-00004.gz.parquet\n",
            "spark-3.1.1-bin-hadoop2.7/python/test_support/sql/parquet_partitioned/year=2015/month=10/day=25/part-r-00002.gz.parquet\n",
            "spark-3.1.1-bin-hadoop2.7/python/test_support/sql/parquet_partitioned/year=2015/month=9/\n",
            "spark-3.1.1-bin-hadoop2.7/python/test_support/sql/parquet_partitioned/year=2015/month=9/day=1/\n",
            "spark-3.1.1-bin-hadoop2.7/python/test_support/sql/parquet_partitioned/year=2015/month=9/day=1/.part-r-00007.gz.parquet.crc\n",
            "spark-3.1.1-bin-hadoop2.7/python/test_support/sql/parquet_partitioned/year=2015/month=9/day=1/part-r-00007.gz.parquet\n",
            "spark-3.1.1-bin-hadoop2.7/python/test_support/sql/parquet_partitioned/_metadata\n",
            "spark-3.1.1-bin-hadoop2.7/python/test_support/sql/parquet_partitioned/year=2014/\n",
            "spark-3.1.1-bin-hadoop2.7/python/test_support/sql/parquet_partitioned/year=2014/month=9/\n",
            "spark-3.1.1-bin-hadoop2.7/python/test_support/sql/parquet_partitioned/year=2014/month=9/day=1/\n",
            "spark-3.1.1-bin-hadoop2.7/python/test_support/sql/parquet_partitioned/year=2014/month=9/day=1/.part-r-00008.gz.parquet.crc\n",
            "spark-3.1.1-bin-hadoop2.7/python/test_support/sql/parquet_partitioned/year=2014/month=9/day=1/part-r-00008.gz.parquet\n",
            "spark-3.1.1-bin-hadoop2.7/python/test_support/sql/parquet_partitioned/_common_metadata\n",
            "spark-3.1.1-bin-hadoop2.7/python/test_support/sql/parquet_partitioned/_SUCCESS\n",
            "spark-3.1.1-bin-hadoop2.7/python/test_support/sql/orc_partitioned/\n",
            "spark-3.1.1-bin-hadoop2.7/python/test_support/sql/orc_partitioned/b=1/\n",
            "spark-3.1.1-bin-hadoop2.7/python/test_support/sql/orc_partitioned/b=1/c=1/\n",
            "spark-3.1.1-bin-hadoop2.7/python/test_support/sql/orc_partitioned/b=1/c=1/part-r-00000-829af031-b970-49d6-ad39-30460a0be2c8.orc\n",
            "spark-3.1.1-bin-hadoop2.7/python/test_support/sql/orc_partitioned/b=1/c=1/.part-r-00000-829af031-b970-49d6-ad39-30460a0be2c8.orc.crc\n",
            "spark-3.1.1-bin-hadoop2.7/python/test_support/sql/orc_partitioned/b=0/\n",
            "spark-3.1.1-bin-hadoop2.7/python/test_support/sql/orc_partitioned/b=0/c=0/\n",
            "spark-3.1.1-bin-hadoop2.7/python/test_support/sql/orc_partitioned/b=0/c=0/part-r-00000-829af031-b970-49d6-ad39-30460a0be2c8.orc\n",
            "spark-3.1.1-bin-hadoop2.7/python/test_support/sql/orc_partitioned/b=0/c=0/.part-r-00000-829af031-b970-49d6-ad39-30460a0be2c8.orc.crc\n",
            "spark-3.1.1-bin-hadoop2.7/python/test_support/sql/orc_partitioned/_SUCCESS\n",
            "spark-3.1.1-bin-hadoop2.7/python/test_support/sql/ages_newlines.csv\n",
            "spark-3.1.1-bin-hadoop2.7/python/test_support/sql/streaming/\n",
            "spark-3.1.1-bin-hadoop2.7/python/test_support/sql/streaming/text-test.txt\n",
            "spark-3.1.1-bin-hadoop2.7/python/test_support/sql/people1.json\n",
            "spark-3.1.1-bin-hadoop2.7/python/pyspark/\n",
            "spark-3.1.1-bin-hadoop2.7/python/pyspark/tests/\n",
            "spark-3.1.1-bin-hadoop2.7/python/pyspark/tests/test_rddbarrier.py\n",
            "spark-3.1.1-bin-hadoop2.7/python/pyspark/tests/test_worker.py\n",
            "spark-3.1.1-bin-hadoop2.7/python/pyspark/tests/test_serializers.py\n",
            "spark-3.1.1-bin-hadoop2.7/python/pyspark/tests/test_util.py\n",
            "spark-3.1.1-bin-hadoop2.7/python/pyspark/tests/test_rdd.py\n",
            "spark-3.1.1-bin-hadoop2.7/python/pyspark/tests/__init__.py\n",
            "spark-3.1.1-bin-hadoop2.7/python/pyspark/tests/test_broadcast.py\n",
            "spark-3.1.1-bin-hadoop2.7/python/pyspark/tests/test_appsubmit.py\n",
            "spark-3.1.1-bin-hadoop2.7/python/pyspark/tests/test_profiler.py\n",
            "spark-3.1.1-bin-hadoop2.7/python/pyspark/tests/test_pin_thread.py\n",
            "spark-3.1.1-bin-hadoop2.7/python/pyspark/tests/test_install_spark.py\n",
            "spark-3.1.1-bin-hadoop2.7/python/pyspark/tests/test_shuffle.py\n",
            "spark-3.1.1-bin-hadoop2.7/python/pyspark/tests/test_join.py\n",
            "spark-3.1.1-bin-hadoop2.7/python/pyspark/tests/test_taskcontext.py\n",
            "spark-3.1.1-bin-hadoop2.7/python/pyspark/tests/test_context.py\n",
            "spark-3.1.1-bin-hadoop2.7/python/pyspark/tests/test_readwrite.py\n",
            "spark-3.1.1-bin-hadoop2.7/python/pyspark/tests/test_conf.py\n",
            "spark-3.1.1-bin-hadoop2.7/python/pyspark/tests/test_daemon.py\n",
            "spark-3.1.1-bin-hadoop2.7/python/pyspark/__init__.pyi\n",
            "spark-3.1.1-bin-hadoop2.7/python/pyspark/_typing.pyi\n",
            "spark-3.1.1-bin-hadoop2.7/python/pyspark/testing/\n",
            "spark-3.1.1-bin-hadoop2.7/python/pyspark/testing/mlutils.py\n",
            "spark-3.1.1-bin-hadoop2.7/python/pyspark/testing/__init__.py\n",
            "spark-3.1.1-bin-hadoop2.7/python/pyspark/testing/mllibutils.py\n",
            "spark-3.1.1-bin-hadoop2.7/python/pyspark/testing/utils.py\n",
            "spark-3.1.1-bin-hadoop2.7/python/pyspark/testing/sqlutils.py\n",
            "spark-3.1.1-bin-hadoop2.7/python/pyspark/testing/streamingutils.py\n",
            "spark-3.1.1-bin-hadoop2.7/python/pyspark/accumulators.py\n",
            "spark-3.1.1-bin-hadoop2.7/python/pyspark/rddsampler.py\n",
            "spark-3.1.1-bin-hadoop2.7/python/pyspark/install.py\n",
            "spark-3.1.1-bin-hadoop2.7/python/pyspark/status.pyi\n",
            "spark-3.1.1-bin-hadoop2.7/python/pyspark/ml/\n",
            "spark-3.1.1-bin-hadoop2.7/python/pyspark/ml/tests/\n",
            "spark-3.1.1-bin-hadoop2.7/python/pyspark/ml/tests/test_algorithms.py\n",
            "spark-3.1.1-bin-hadoop2.7/python/pyspark/ml/tests/test_evaluation.py\n",
            "spark-3.1.1-bin-hadoop2.7/python/pyspark/ml/tests/test_util.py\n",
            "spark-3.1.1-bin-hadoop2.7/python/pyspark/ml/tests/test_feature.py\n",
            "spark-3.1.1-bin-hadoop2.7/python/pyspark/ml/tests/test_pipeline.py\n",
            "spark-3.1.1-bin-hadoop2.7/python/pyspark/ml/tests/test_wrapper.py\n",
            "spark-3.1.1-bin-hadoop2.7/python/pyspark/ml/tests/__init__.py\n",
            "spark-3.1.1-bin-hadoop2.7/python/pyspark/ml/tests/test_tuning.py\n",
            "spark-3.1.1-bin-hadoop2.7/python/pyspark/ml/tests/test_persistence.py\n",
            "spark-3.1.1-bin-hadoop2.7/python/pyspark/ml/tests/test_param.py\n",
            "spark-3.1.1-bin-hadoop2.7/python/pyspark/ml/tests/test_training_summary.py\n",
            "spark-3.1.1-bin-hadoop2.7/python/pyspark/ml/tests/test_linalg.py\n",
            "spark-3.1.1-bin-hadoop2.7/python/pyspark/ml/tests/test_image.py\n",
            "spark-3.1.1-bin-hadoop2.7/python/pyspark/ml/tests/test_stat.py\n",
            "spark-3.1.1-bin-hadoop2.7/python/pyspark/ml/tests/test_base.py\n",
            "spark-3.1.1-bin-hadoop2.7/python/pyspark/ml/evaluation.pyi\n",
            "spark-3.1.1-bin-hadoop2.7/python/pyspark/ml/_typing.pyi\n",
            "spark-3.1.1-bin-hadoop2.7/python/pyspark/ml/functions.py\n",
            "spark-3.1.1-bin-hadoop2.7/python/pyspark/ml/recommendation.pyi\n",
            "spark-3.1.1-bin-hadoop2.7/python/pyspark/ml/tuning.py\n",
            "spark-3.1.1-bin-hadoop2.7/python/pyspark/ml/fpm.pyi\n",
            "spark-3.1.1-bin-hadoop2.7/python/pyspark/ml/pipeline.py\n",
            "spark-3.1.1-bin-hadoop2.7/python/pyspark/ml/base.py\n",
            "spark-3.1.1-bin-hadoop2.7/python/pyspark/ml/feature.py\n",
            "spark-3.1.1-bin-hadoop2.7/python/pyspark/ml/wrapper.pyi\n",
            "spark-3.1.1-bin-hadoop2.7/python/pyspark/ml/__init__.py\n",
            "spark-3.1.1-bin-hadoop2.7/python/pyspark/ml/stat.pyi\n",
            "spark-3.1.1-bin-hadoop2.7/python/pyspark/ml/stat.py\n",
            "spark-3.1.1-bin-hadoop2.7/python/pyspark/ml/image.py\n",
            "spark-3.1.1-bin-hadoop2.7/python/pyspark/ml/classification.py\n",
            "spark-3.1.1-bin-hadoop2.7/python/pyspark/ml/common.pyi\n",
            "spark-3.1.1-bin-hadoop2.7/python/pyspark/ml/pipeline.pyi\n",
            "spark-3.1.1-bin-hadoop2.7/python/pyspark/ml/recommendation.py\n",
            "spark-3.1.1-bin-hadoop2.7/python/pyspark/ml/clustering.pyi\n",
            "spark-3.1.1-bin-hadoop2.7/python/pyspark/ml/regression.py\n",
            "spark-3.1.1-bin-hadoop2.7/python/pyspark/ml/param/\n",
            "spark-3.1.1-bin-hadoop2.7/python/pyspark/ml/param/__init__.pyi\n",
            "spark-3.1.1-bin-hadoop2.7/python/pyspark/ml/param/_shared_params_code_gen.py\n",
            "spark-3.1.1-bin-hadoop2.7/python/pyspark/ml/param/__init__.py\n",
            "spark-3.1.1-bin-hadoop2.7/python/pyspark/ml/param/shared.py\n",
            "spark-3.1.1-bin-hadoop2.7/python/pyspark/ml/param/_shared_params_code_gen.pyi\n",
            "spark-3.1.1-bin-hadoop2.7/python/pyspark/ml/param/shared.pyi\n",
            "spark-3.1.1-bin-hadoop2.7/python/pyspark/ml/feature.pyi\n",
            "spark-3.1.1-bin-hadoop2.7/python/pyspark/ml/classification.pyi\n",
            "spark-3.1.1-bin-hadoop2.7/python/pyspark/ml/tree.py\n",
            "spark-3.1.1-bin-hadoop2.7/python/pyspark/ml/util.pyi\n",
            "spark-3.1.1-bin-hadoop2.7/python/pyspark/ml/tuning.pyi\n",
            "spark-3.1.1-bin-hadoop2.7/python/pyspark/ml/fpm.py\n",
            "spark-3.1.1-bin-hadoop2.7/python/pyspark/ml/regression.pyi\n",
            "spark-3.1.1-bin-hadoop2.7/python/pyspark/ml/functions.pyi\n",
            "spark-3.1.1-bin-hadoop2.7/python/pyspark/ml/base.pyi\n",
            "spark-3.1.1-bin-hadoop2.7/python/pyspark/ml/wrapper.py\n",
            "spark-3.1.1-bin-hadoop2.7/python/pyspark/ml/image.pyi\n",
            "spark-3.1.1-bin-hadoop2.7/python/pyspark/ml/tree.pyi\n",
            "spark-3.1.1-bin-hadoop2.7/python/pyspark/ml/clustering.py\n",
            "spark-3.1.1-bin-hadoop2.7/python/pyspark/ml/common.py\n",
            "spark-3.1.1-bin-hadoop2.7/python/pyspark/ml/linalg/\n",
            "spark-3.1.1-bin-hadoop2.7/python/pyspark/ml/linalg/__init__.pyi\n",
            "spark-3.1.1-bin-hadoop2.7/python/pyspark/ml/linalg/__init__.py\n",
            "spark-3.1.1-bin-hadoop2.7/python/pyspark/ml/evaluation.py\n",
            "spark-3.1.1-bin-hadoop2.7/python/pyspark/ml/util.py\n",
            "spark-3.1.1-bin-hadoop2.7/python/pyspark/context.pyi\n",
            "spark-3.1.1-bin-hadoop2.7/python/pyspark/find_spark_home.py\n",
            "spark-3.1.1-bin-hadoop2.7/python/pyspark/serializers.py\n",
            "spark-3.1.1-bin-hadoop2.7/python/pyspark/java_gateway.py\n",
            "spark-3.1.1-bin-hadoop2.7/python/pyspark/traceback_utils.py\n",
            "spark-3.1.1-bin-hadoop2.7/python/pyspark/resource/\n",
            "spark-3.1.1-bin-hadoop2.7/python/pyspark/resource/tests/\n",
            "spark-3.1.1-bin-hadoop2.7/python/pyspark/resource/tests/__init__.py\n",
            "spark-3.1.1-bin-hadoop2.7/python/pyspark/resource/tests/test_resources.py\n",
            "spark-3.1.1-bin-hadoop2.7/python/pyspark/resource/profile.py\n",
            "spark-3.1.1-bin-hadoop2.7/python/pyspark/resource/__init__.py\n",
            "spark-3.1.1-bin-hadoop2.7/python/pyspark/resource/information.py\n",
            "spark-3.1.1-bin-hadoop2.7/python/pyspark/resource/requests.pyi\n",
            "spark-3.1.1-bin-hadoop2.7/python/pyspark/resource/information.pyi\n",
            "spark-3.1.1-bin-hadoop2.7/python/pyspark/resource/requests.py\n",
            "spark-3.1.1-bin-hadoop2.7/python/pyspark/resource/profile.pyi\n",
            "spark-3.1.1-bin-hadoop2.7/python/pyspark/conf.py\n",
            "spark-3.1.1-bin-hadoop2.7/python/pyspark/resultiterable.pyi\n",
            "spark-3.1.1-bin-hadoop2.7/python/pyspark/version.pyi\n",
            "spark-3.1.1-bin-hadoop2.7/python/pyspark/__init__.py\n",
            "spark-3.1.1-bin-hadoop2.7/python/pyspark/files.pyi\n",
            "spark-3.1.1-bin-hadoop2.7/python/pyspark/mllib/\n",
            "spark-3.1.1-bin-hadoop2.7/python/pyspark/mllib/tests/\n",
            "spark-3.1.1-bin-hadoop2.7/python/pyspark/mllib/tests/test_algorithms.py\n",
            "spark-3.1.1-bin-hadoop2.7/python/pyspark/mllib/tests/test_streaming_algorithms.py\n",
            "spark-3.1.1-bin-hadoop2.7/python/pyspark/mllib/tests/test_util.py\n",
            "spark-3.1.1-bin-hadoop2.7/python/pyspark/mllib/tests/test_feature.py\n",
            "spark-3.1.1-bin-hadoop2.7/python/pyspark/mllib/tests/__init__.py\n",
            "spark-3.1.1-bin-hadoop2.7/python/pyspark/mllib/tests/test_linalg.py\n",
            "spark-3.1.1-bin-hadoop2.7/python/pyspark/mllib/tests/test_stat.py\n",
            "spark-3.1.1-bin-hadoop2.7/python/pyspark/mllib/evaluation.pyi\n",
            "spark-3.1.1-bin-hadoop2.7/python/pyspark/mllib/_typing.pyi\n",
            "spark-3.1.1-bin-hadoop2.7/python/pyspark/mllib/recommendation.pyi\n",
            "spark-3.1.1-bin-hadoop2.7/python/pyspark/mllib/fpm.pyi\n",
            "spark-3.1.1-bin-hadoop2.7/python/pyspark/mllib/feature.py\n",
            "spark-3.1.1-bin-hadoop2.7/python/pyspark/mllib/__init__.py\n",
            "spark-3.1.1-bin-hadoop2.7/python/pyspark/mllib/classification.py\n",
            "spark-3.1.1-bin-hadoop2.7/python/pyspark/mllib/common.pyi\n",
            "spark-3.1.1-bin-hadoop2.7/python/pyspark/mllib/random.pyi\n",
            "spark-3.1.1-bin-hadoop2.7/python/pyspark/mllib/recommendation.py\n",
            "spark-3.1.1-bin-hadoop2.7/python/pyspark/mllib/clustering.pyi\n",
            "spark-3.1.1-bin-hadoop2.7/python/pyspark/mllib/regression.py\n",
            "spark-3.1.1-bin-hadoop2.7/python/pyspark/mllib/feature.pyi\n",
            "spark-3.1.1-bin-hadoop2.7/python/pyspark/mllib/classification.pyi\n",
            "spark-3.1.1-bin-hadoop2.7/python/pyspark/mllib/tree.py\n",
            "spark-3.1.1-bin-hadoop2.7/python/pyspark/mllib/util.pyi\n",
            "spark-3.1.1-bin-hadoop2.7/python/pyspark/mllib/fpm.py\n",
            "spark-3.1.1-bin-hadoop2.7/python/pyspark/mllib/regression.pyi\n",
            "spark-3.1.1-bin-hadoop2.7/python/pyspark/mllib/random.py\n",
            "spark-3.1.1-bin-hadoop2.7/python/pyspark/mllib/stat/\n",
            "spark-3.1.1-bin-hadoop2.7/python/pyspark/mllib/stat/__init__.pyi\n",
            "spark-3.1.1-bin-hadoop2.7/python/pyspark/mllib/stat/distribution.py\n",
            "spark-3.1.1-bin-hadoop2.7/python/pyspark/mllib/stat/__init__.py\n",
            "spark-3.1.1-bin-hadoop2.7/python/pyspark/mllib/stat/KernelDensity.py\n",
            "spark-3.1.1-bin-hadoop2.7/python/pyspark/mllib/stat/_statistics.pyi\n",
            "spark-3.1.1-bin-hadoop2.7/python/pyspark/mllib/stat/distribution.pyi\n",
            "spark-3.1.1-bin-hadoop2.7/python/pyspark/mllib/stat/test.pyi\n",
            "spark-3.1.1-bin-hadoop2.7/python/pyspark/mllib/stat/test.py\n",
            "spark-3.1.1-bin-hadoop2.7/python/pyspark/mllib/stat/_statistics.py\n",
            "spark-3.1.1-bin-hadoop2.7/python/pyspark/mllib/stat/KernelDensity.pyi\n",
            "spark-3.1.1-bin-hadoop2.7/python/pyspark/mllib/tree.pyi\n",
            "spark-3.1.1-bin-hadoop2.7/python/pyspark/mllib/clustering.py\n",
            "spark-3.1.1-bin-hadoop2.7/python/pyspark/mllib/common.py\n",
            "spark-3.1.1-bin-hadoop2.7/python/pyspark/mllib/linalg/\n",
            "spark-3.1.1-bin-hadoop2.7/python/pyspark/mllib/linalg/__init__.pyi\n",
            "spark-3.1.1-bin-hadoop2.7/python/pyspark/mllib/linalg/__init__.py\n",
            "spark-3.1.1-bin-hadoop2.7/python/pyspark/mllib/linalg/distributed.py\n",
            "spark-3.1.1-bin-hadoop2.7/python/pyspark/mllib/linalg/distributed.pyi\n",
            "spark-3.1.1-bin-hadoop2.7/python/pyspark/mllib/evaluation.py\n",
            "spark-3.1.1-bin-hadoop2.7/python/pyspark/mllib/util.py\n",
            "spark-3.1.1-bin-hadoop2.7/python/pyspark/resultiterable.py\n",
            "spark-3.1.1-bin-hadoop2.7/python/pyspark/profiler.py\n",
            "spark-3.1.1-bin-hadoop2.7/python/pyspark/statcounter.py\n",
            "spark-3.1.1-bin-hadoop2.7/python/pyspark/join.py\n",
            "spark-3.1.1-bin-hadoop2.7/python/pyspark/daemon.py\n",
            "spark-3.1.1-bin-hadoop2.7/python/pyspark/rdd.py\n",
            "spark-3.1.1-bin-hadoop2.7/python/pyspark/context.py\n",
            "spark-3.1.1-bin-hadoop2.7/python/pyspark/cloudpickle/\n",
            "spark-3.1.1-bin-hadoop2.7/python/pyspark/cloudpickle/cloudpickle_fast.py\n",
            "spark-3.1.1-bin-hadoop2.7/python/pyspark/cloudpickle/__init__.py\n",
            "spark-3.1.1-bin-hadoop2.7/python/pyspark/cloudpickle/compat.py\n",
            "spark-3.1.1-bin-hadoop2.7/python/pyspark/cloudpickle/cloudpickle.py\n",
            "spark-3.1.1-bin-hadoop2.7/python/pyspark/storagelevel.pyi\n",
            "spark-3.1.1-bin-hadoop2.7/python/pyspark/version.py\n",
            "spark-3.1.1-bin-hadoop2.7/python/pyspark/py.typed\n",
            "spark-3.1.1-bin-hadoop2.7/python/pyspark/files.py\n",
            "spark-3.1.1-bin-hadoop2.7/python/pyspark/worker.py\n",
            "spark-3.1.1-bin-hadoop2.7/python/pyspark/statcounter.pyi\n",
            "spark-3.1.1-bin-hadoop2.7/python/pyspark/conf.pyi\n",
            "spark-3.1.1-bin-hadoop2.7/python/pyspark/shell.py\n",
            "spark-3.1.1-bin-hadoop2.7/python/pyspark/streaming/\n",
            "spark-3.1.1-bin-hadoop2.7/python/pyspark/streaming/tests/\n",
            "spark-3.1.1-bin-hadoop2.7/python/pyspark/streaming/tests/test_listener.py\n",
            "spark-3.1.1-bin-hadoop2.7/python/pyspark/streaming/tests/test_kinesis.py\n",
            "spark-3.1.1-bin-hadoop2.7/python/pyspark/streaming/tests/__init__.py\n",
            "spark-3.1.1-bin-hadoop2.7/python/pyspark/streaming/tests/test_dstream.py\n",
            "spark-3.1.1-bin-hadoop2.7/python/pyspark/streaming/tests/test_context.py\n",
            "spark-3.1.1-bin-hadoop2.7/python/pyspark/streaming/dstream.pyi\n",
            "spark-3.1.1-bin-hadoop2.7/python/pyspark/streaming/kinesis.pyi\n",
            "spark-3.1.1-bin-hadoop2.7/python/pyspark/streaming/context.pyi\n",
            "spark-3.1.1-bin-hadoop2.7/python/pyspark/streaming/dstream.py\n",
            "spark-3.1.1-bin-hadoop2.7/python/pyspark/streaming/listener.pyi\n",
            "spark-3.1.1-bin-hadoop2.7/python/pyspark/streaming/__init__.py\n",
            "spark-3.1.1-bin-hadoop2.7/python/pyspark/streaming/kinesis.py\n",
            "spark-3.1.1-bin-hadoop2.7/python/pyspark/streaming/listener.py\n",
            "spark-3.1.1-bin-hadoop2.7/python/pyspark/streaming/context.py\n",
            "spark-3.1.1-bin-hadoop2.7/python/pyspark/streaming/util.py\n",
            "spark-3.1.1-bin-hadoop2.7/python/pyspark/accumulators.pyi\n",
            "spark-3.1.1-bin-hadoop2.7/python/pyspark/profiler.pyi\n",
            "spark-3.1.1-bin-hadoop2.7/python/pyspark/status.py\n",
            "spark-3.1.1-bin-hadoop2.7/python/pyspark/broadcast.pyi\n",
            "spark-3.1.1-bin-hadoop2.7/python/pyspark/sql/\n",
            "spark-3.1.1-bin-hadoop2.7/python/pyspark/sql/tests/\n",
            "spark-3.1.1-bin-hadoop2.7/python/pyspark/sql/tests/test_functions.py\n",
            "spark-3.1.1-bin-hadoop2.7/python/pyspark/sql/tests/test_readwriter.py\n",
            "spark-3.1.1-bin-hadoop2.7/python/pyspark/sql/tests/test_utils.py\n",
            "spark-3.1.1-bin-hadoop2.7/python/pyspark/sql/tests/test_pandas_grouped_map.py\n",
            "spark-3.1.1-bin-hadoop2.7/python/pyspark/sql/tests/test_dataframe.py\n",
            "spark-3.1.1-bin-hadoop2.7/python/pyspark/sql/tests/test_pandas_map.py\n",
            "spark-3.1.1-bin-hadoop2.7/python/pyspark/sql/tests/test_udf.py\n",
            "spark-3.1.1-bin-hadoop2.7/python/pyspark/sql/tests/test_streaming.py\n",
            "spark-3.1.1-bin-hadoop2.7/python/pyspark/sql/tests/__init__.py\n",
            "spark-3.1.1-bin-hadoop2.7/python/pyspark/sql/tests/test_serde.py\n",
            "spark-3.1.1-bin-hadoop2.7/python/pyspark/sql/tests/test_pandas_udf_window.py\n",
            "spark-3.1.1-bin-hadoop2.7/python/pyspark/sql/tests/test_group.py\n",
            "spark-3.1.1-bin-hadoop2.7/python/pyspark/sql/tests/test_pandas_udf.py\n",
            "spark-3.1.1-bin-hadoop2.7/python/pyspark/sql/tests/test_pandas_cogrouped_map.py\n",
            "spark-3.1.1-bin-hadoop2.7/python/pyspark/sql/tests/test_pandas_udf_grouped_agg.py\n",
            "spark-3.1.1-bin-hadoop2.7/python/pyspark/sql/tests/test_pandas_udf_scalar.py\n",
            "spark-3.1.1-bin-hadoop2.7/python/pyspark/sql/tests/test_catalog.py\n",
            "spark-3.1.1-bin-hadoop2.7/python/pyspark/sql/tests/test_datasources.py\n",
            "spark-3.1.1-bin-hadoop2.7/python/pyspark/sql/tests/test_pandas_udf_typehints.py\n",
            "spark-3.1.1-bin-hadoop2.7/python/pyspark/sql/tests/test_types.py\n",
            "spark-3.1.1-bin-hadoop2.7/python/pyspark/sql/tests/test_column.py\n",
            "spark-3.1.1-bin-hadoop2.7/python/pyspark/sql/tests/test_context.py\n",
            "spark-3.1.1-bin-hadoop2.7/python/pyspark/sql/tests/test_conf.py\n",
            "spark-3.1.1-bin-hadoop2.7/python/pyspark/sql/tests/test_arrow.py\n",
            "spark-3.1.1-bin-hadoop2.7/python/pyspark/sql/tests/test_session.py\n",
            "spark-3.1.1-bin-hadoop2.7/python/pyspark/sql/__init__.pyi\n",
            "spark-3.1.1-bin-hadoop2.7/python/pyspark/sql/pandas/\n",
            "spark-3.1.1-bin-hadoop2.7/python/pyspark/sql/pandas/map_ops.pyi\n",
            "spark-3.1.1-bin-hadoop2.7/python/pyspark/sql/pandas/functions.py\n",
            "spark-3.1.1-bin-hadoop2.7/python/pyspark/sql/pandas/serializers.py\n",
            "spark-3.1.1-bin-hadoop2.7/python/pyspark/sql/pandas/__init__.py\n",
            "spark-3.1.1-bin-hadoop2.7/python/pyspark/sql/pandas/typehints.py\n",
            "spark-3.1.1-bin-hadoop2.7/python/pyspark/sql/pandas/group_ops.pyi\n",
            "spark-3.1.1-bin-hadoop2.7/python/pyspark/sql/pandas/map_ops.py\n",
            "spark-3.1.1-bin-hadoop2.7/python/pyspark/sql/pandas/types.py\n",
            "spark-3.1.1-bin-hadoop2.7/python/pyspark/sql/pandas/conversion.pyi\n",
            "spark-3.1.1-bin-hadoop2.7/python/pyspark/sql/pandas/group_ops.py\n",
            "spark-3.1.1-bin-hadoop2.7/python/pyspark/sql/pandas/functions.pyi\n",
            "spark-3.1.1-bin-hadoop2.7/python/pyspark/sql/pandas/utils.py\n",
            "spark-3.1.1-bin-hadoop2.7/python/pyspark/sql/pandas/conversion.py\n",
            "spark-3.1.1-bin-hadoop2.7/python/pyspark/sql/pandas/_typing/\n",
            "spark-3.1.1-bin-hadoop2.7/python/pyspark/sql/pandas/_typing/__init__.pyi\n",
            "spark-3.1.1-bin-hadoop2.7/python/pyspark/sql/pandas/_typing/protocols/\n",
            "spark-3.1.1-bin-hadoop2.7/python/pyspark/sql/pandas/_typing/protocols/__init__.pyi\n",
            "spark-3.1.1-bin-hadoop2.7/python/pyspark/sql/pandas/_typing/protocols/series.pyi\n",
            "spark-3.1.1-bin-hadoop2.7/python/pyspark/sql/pandas/_typing/protocols/frame.pyi\n",
            "spark-3.1.1-bin-hadoop2.7/python/pyspark/sql/_typing.pyi\n",
            "spark-3.1.1-bin-hadoop2.7/python/pyspark/sql/functions.py\n",
            "spark-3.1.1-bin-hadoop2.7/python/pyspark/sql/readwriter.py\n",
            "spark-3.1.1-bin-hadoop2.7/python/pyspark/sql/streaming.pyi\n",
            "spark-3.1.1-bin-hadoop2.7/python/pyspark/sql/context.pyi\n",
            "spark-3.1.1-bin-hadoop2.7/python/pyspark/sql/column.pyi\n",
            "spark-3.1.1-bin-hadoop2.7/python/pyspark/sql/catalog.py\n",
            "spark-3.1.1-bin-hadoop2.7/python/pyspark/sql/types.pyi\n",
            "spark-3.1.1-bin-hadoop2.7/python/pyspark/sql/window.py\n",
            "spark-3.1.1-bin-hadoop2.7/python/pyspark/sql/udf.py\n",
            "spark-3.1.1-bin-hadoop2.7/python/pyspark/sql/conf.py\n",
            "spark-3.1.1-bin-hadoop2.7/python/pyspark/sql/__init__.py\n",
            "spark-3.1.1-bin-hadoop2.7/python/pyspark/sql/session.py\n",
            "spark-3.1.1-bin-hadoop2.7/python/pyspark/sql/column.py\n",
            "spark-3.1.1-bin-hadoop2.7/python/pyspark/sql/group.py\n",
            "spark-3.1.1-bin-hadoop2.7/python/pyspark/sql/catalog.pyi\n",
            "spark-3.1.1-bin-hadoop2.7/python/pyspark/sql/group.pyi\n",
            "spark-3.1.1-bin-hadoop2.7/python/pyspark/sql/context.py\n",
            "spark-3.1.1-bin-hadoop2.7/python/pyspark/sql/dataframe.pyi\n",
            "spark-3.1.1-bin-hadoop2.7/python/pyspark/sql/types.py\n",
            "spark-3.1.1-bin-hadoop2.7/python/pyspark/sql/functions.pyi\n",
            "spark-3.1.1-bin-hadoop2.7/python/pyspark/sql/conf.pyi\n",
            "spark-3.1.1-bin-hadoop2.7/python/pyspark/sql/udf.pyi\n",
            "spark-3.1.1-bin-hadoop2.7/python/pyspark/sql/dataframe.py\n",
            "spark-3.1.1-bin-hadoop2.7/python/pyspark/sql/avro/\n",
            "spark-3.1.1-bin-hadoop2.7/python/pyspark/sql/avro/functions.py\n",
            "spark-3.1.1-bin-hadoop2.7/python/pyspark/sql/avro/__init__.py\n",
            "spark-3.1.1-bin-hadoop2.7/python/pyspark/sql/avro/functions.pyi\n",
            "spark-3.1.1-bin-hadoop2.7/python/pyspark/sql/utils.py\n",
            "spark-3.1.1-bin-hadoop2.7/python/pyspark/sql/readwriter.pyi\n",
            "spark-3.1.1-bin-hadoop2.7/python/pyspark/sql/window.pyi\n",
            "spark-3.1.1-bin-hadoop2.7/python/pyspark/sql/session.pyi\n",
            "spark-3.1.1-bin-hadoop2.7/python/pyspark/sql/streaming.py\n",
            "spark-3.1.1-bin-hadoop2.7/python/pyspark/shuffle.py\n",
            "spark-3.1.1-bin-hadoop2.7/python/pyspark/rdd.pyi\n",
            "spark-3.1.1-bin-hadoop2.7/python/pyspark/taskcontext.pyi\n",
            "spark-3.1.1-bin-hadoop2.7/python/pyspark/taskcontext.py\n",
            "spark-3.1.1-bin-hadoop2.7/python/pyspark/_globals.py\n",
            "spark-3.1.1-bin-hadoop2.7/python/pyspark/broadcast.py\n",
            "spark-3.1.1-bin-hadoop2.7/python/pyspark/util.py\n",
            "spark-3.1.1-bin-hadoop2.7/python/pyspark/storagelevel.py\n",
            "spark-3.1.1-bin-hadoop2.7/python/.coveragerc\n",
            "spark-3.1.1-bin-hadoop2.7/python/docs/\n",
            "spark-3.1.1-bin-hadoop2.7/python/docs/make2.bat\n",
            "spark-3.1.1-bin-hadoop2.7/python/docs/source/\n",
            "spark-3.1.1-bin-hadoop2.7/python/docs/source/reference/\n",
            "spark-3.1.1-bin-hadoop2.7/python/docs/source/reference/pyspark.ss.rst\n",
            "spark-3.1.1-bin-hadoop2.7/python/docs/source/reference/index.rst\n",
            "spark-3.1.1-bin-hadoop2.7/python/docs/source/reference/pyspark.ml.rst\n",
            "spark-3.1.1-bin-hadoop2.7/python/docs/source/reference/pyspark.rst\n",
            "spark-3.1.1-bin-hadoop2.7/python/docs/source/reference/pyspark.mllib.rst\n",
            "spark-3.1.1-bin-hadoop2.7/python/docs/source/reference/pyspark.streaming.rst\n",
            "spark-3.1.1-bin-hadoop2.7/python/docs/source/reference/pyspark.sql.rst\n",
            "spark-3.1.1-bin-hadoop2.7/python/docs/source/reference/pyspark.resource.rst\n",
            "spark-3.1.1-bin-hadoop2.7/python/docs/source/index.rst\n",
            "spark-3.1.1-bin-hadoop2.7/python/docs/source/getting_started/\n",
            "spark-3.1.1-bin-hadoop2.7/python/docs/source/getting_started/index.rst\n",
            "spark-3.1.1-bin-hadoop2.7/python/docs/source/getting_started/quickstart.ipynb\n",
            "spark-3.1.1-bin-hadoop2.7/python/docs/source/getting_started/install.rst\n",
            "spark-3.1.1-bin-hadoop2.7/python/docs/source/conf.py\n",
            "spark-3.1.1-bin-hadoop2.7/python/docs/source/_templates/\n",
            "spark-3.1.1-bin-hadoop2.7/python/docs/source/_templates/autosummary/\n",
            "spark-3.1.1-bin-hadoop2.7/python/docs/source/_templates/autosummary/class.rst\n",
            "spark-3.1.1-bin-hadoop2.7/python/docs/source/_templates/autosummary/class_with_docs.rst\n",
            "spark-3.1.1-bin-hadoop2.7/python/docs/source/_static/\n",
            "spark-3.1.1-bin-hadoop2.7/python/docs/source/_static/copybutton.js\n",
            "spark-3.1.1-bin-hadoop2.7/python/docs/source/_static/css/\n",
            "spark-3.1.1-bin-hadoop2.7/python/docs/source/_static/css/pyspark.css\n",
            "spark-3.1.1-bin-hadoop2.7/python/docs/source/development/\n",
            "spark-3.1.1-bin-hadoop2.7/python/docs/source/development/setting_ide.rst\n",
            "spark-3.1.1-bin-hadoop2.7/python/docs/source/development/index.rst\n",
            "spark-3.1.1-bin-hadoop2.7/python/docs/source/development/debugging.rst\n",
            "spark-3.1.1-bin-hadoop2.7/python/docs/source/development/testing.rst\n",
            "spark-3.1.1-bin-hadoop2.7/python/docs/source/development/contributing.rst\n",
            "spark-3.1.1-bin-hadoop2.7/python/docs/source/user_guide/\n",
            "spark-3.1.1-bin-hadoop2.7/python/docs/source/user_guide/arrow_pandas.rst\n",
            "spark-3.1.1-bin-hadoop2.7/python/docs/source/user_guide/index.rst\n",
            "spark-3.1.1-bin-hadoop2.7/python/docs/source/user_guide/python_packaging.rst\n",
            "spark-3.1.1-bin-hadoop2.7/python/docs/source/migration_guide/\n",
            "spark-3.1.1-bin-hadoop2.7/python/docs/source/migration_guide/pyspark_2.3.0_to_2.3.1_above.rst\n",
            "spark-3.1.1-bin-hadoop2.7/python/docs/source/migration_guide/index.rst\n",
            "spark-3.1.1-bin-hadoop2.7/python/docs/source/migration_guide/pyspark_2.4_to_3.0.rst\n",
            "spark-3.1.1-bin-hadoop2.7/python/docs/source/migration_guide/pyspark_1.0_1.2_to_1.3.rst\n",
            "spark-3.1.1-bin-hadoop2.7/python/docs/source/migration_guide/pyspark_2.3_to_2.4.rst\n",
            "spark-3.1.1-bin-hadoop2.7/python/docs/source/migration_guide/pyspark_1.4_to_1.5.rst\n",
            "spark-3.1.1-bin-hadoop2.7/python/docs/source/migration_guide/pyspark_2.2_to_2.3.rst\n",
            "spark-3.1.1-bin-hadoop2.7/python/docs/make.bat\n",
            "spark-3.1.1-bin-hadoop2.7/python/docs/Makefile\n",
            "spark-3.1.1-bin-hadoop2.7/python/lib/\n",
            "spark-3.1.1-bin-hadoop2.7/python/lib/PY4J_LICENSE.txt\n",
            "spark-3.1.1-bin-hadoop2.7/python/lib/py4j-0.10.9-src.zip\n",
            "spark-3.1.1-bin-hadoop2.7/python/lib/pyspark.zip\n",
            "spark-3.1.1-bin-hadoop2.7/python/run-tests\n",
            "spark-3.1.1-bin-hadoop2.7/python/setup.cfg\n",
            "spark-3.1.1-bin-hadoop2.7/licenses/\n",
            "spark-3.1.1-bin-hadoop2.7/licenses/LICENSE-respond.txt\n",
            "spark-3.1.1-bin-hadoop2.7/licenses/LICENSE-sbt-launch-lib.txt\n",
            "spark-3.1.1-bin-hadoop2.7/licenses/LICENSE-antlr.txt\n",
            "spark-3.1.1-bin-hadoop2.7/licenses/LICENSE-dagre-d3.txt\n",
            "spark-3.1.1-bin-hadoop2.7/licenses/LICENSE-pyrolite.txt\n",
            "spark-3.1.1-bin-hadoop2.7/licenses/LICENSE-sorttable.js.txt\n",
            "spark-3.1.1-bin-hadoop2.7/licenses/LICENSE-janino.txt\n",
            "spark-3.1.1-bin-hadoop2.7/licenses/LICENSE-protobuf.txt\n",
            "spark-3.1.1-bin-hadoop2.7/licenses/LICENSE-jquery.txt\n",
            "spark-3.1.1-bin-hadoop2.7/licenses/LICENSE-scopt.txt\n",
            "spark-3.1.1-bin-hadoop2.7/licenses/LICENSE-netlib.txt\n",
            "spark-3.1.1-bin-hadoop2.7/licenses/LICENSE-d3.min.js.txt\n",
            "spark-3.1.1-bin-hadoop2.7/licenses/LICENSE-graphlib-dot.txt\n",
            "spark-3.1.1-bin-hadoop2.7/licenses/LICENSE-AnchorJS.txt\n",
            "spark-3.1.1-bin-hadoop2.7/licenses/LICENSE-datatables.txt\n",
            "spark-3.1.1-bin-hadoop2.7/licenses/LICENSE-pmml-model.txt\n",
            "spark-3.1.1-bin-hadoop2.7/licenses/LICENSE-paranamer.txt\n",
            "spark-3.1.1-bin-hadoop2.7/licenses/LICENSE-jakarta-ws-rs-api\n",
            "spark-3.1.1-bin-hadoop2.7/licenses/LICENSE-dnsjava.txt\n",
            "spark-3.1.1-bin-hadoop2.7/licenses/LICENSE-jakarta.xml.bind-api.txt\n",
            "spark-3.1.1-bin-hadoop2.7/licenses/LICENSE-jakarta-annotation-api\n",
            "spark-3.1.1-bin-hadoop2.7/licenses/LICENSE-CC0.txt\n",
            "spark-3.1.1-bin-hadoop2.7/licenses/LICENSE-jodd.txt\n",
            "spark-3.1.1-bin-hadoop2.7/licenses/LICENSE-f2j.txt\n",
            "spark-3.1.1-bin-hadoop2.7/licenses/LICENSE-machinist.txt\n",
            "spark-3.1.1-bin-hadoop2.7/licenses/LICENSE-javolution.txt\n",
            "spark-3.1.1-bin-hadoop2.7/licenses/LICENSE-modernizr.txt\n",
            "spark-3.1.1-bin-hadoop2.7/licenses/LICENSE-spire.txt\n",
            "spark-3.1.1-bin-hadoop2.7/licenses/LICENSE-leveldbjni.txt\n",
            "spark-3.1.1-bin-hadoop2.7/licenses/LICENSE-join.txt\n",
            "spark-3.1.1-bin-hadoop2.7/licenses/LICENSE-zstd-jni.txt\n",
            "spark-3.1.1-bin-hadoop2.7/licenses/LICENSE-slf4j.txt\n",
            "spark-3.1.1-bin-hadoop2.7/licenses/LICENSE-arpack.txt\n",
            "spark-3.1.1-bin-hadoop2.7/licenses/LICENSE-jsp-api.txt\n",
            "spark-3.1.1-bin-hadoop2.7/licenses/LICENSE-JTransforms.txt\n",
            "spark-3.1.1-bin-hadoop2.7/licenses/LICENSE-JLargeArrays.txt\n",
            "spark-3.1.1-bin-hadoop2.7/licenses/LICENSE-bootstrap.txt\n",
            "spark-3.1.1-bin-hadoop2.7/licenses/LICENSE-reflectasm.txt\n",
            "spark-3.1.1-bin-hadoop2.7/licenses/LICENSE-javassist.html\n",
            "spark-3.1.1-bin-hadoop2.7/licenses/LICENSE-zstd.txt\n",
            "spark-3.1.1-bin-hadoop2.7/licenses/LICENSE-json-formatter.txt\n",
            "spark-3.1.1-bin-hadoop2.7/licenses/LICENSE-matchMedia-polyfill.txt\n",
            "spark-3.1.1-bin-hadoop2.7/licenses/LICENSE-scala.txt\n",
            "spark-3.1.1-bin-hadoop2.7/licenses/LICENSE-jakarta.activation-api.txt\n",
            "spark-3.1.1-bin-hadoop2.7/licenses/LICENSE-automaton.txt\n",
            "spark-3.1.1-bin-hadoop2.7/licenses/LICENSE-javax-transaction-transaction-api.txt\n",
            "spark-3.1.1-bin-hadoop2.7/licenses/LICENSE-jaxb-runtime.txt\n",
            "spark-3.1.1-bin-hadoop2.7/licenses/LICENSE-minlog.txt\n",
            "spark-3.1.1-bin-hadoop2.7/licenses/LICENSE-mustache.txt\n",
            "spark-3.1.1-bin-hadoop2.7/licenses/LICENSE-xmlenc.txt\n",
            "spark-3.1.1-bin-hadoop2.7/licenses/LICENSE-jline.txt\n",
            "spark-3.1.1-bin-hadoop2.7/licenses/LICENSE-istack-commons-runtime.txt\n",
            "spark-3.1.1-bin-hadoop2.7/licenses/LICENSE-py4j.txt\n",
            "spark-3.1.1-bin-hadoop2.7/licenses/LICENSE-vis-timeline.txt\n",
            "spark-3.1.1-bin-hadoop2.7/licenses/LICENSE-re2j.txt\n",
            "spark-3.1.1-bin-hadoop2.7/licenses/LICENSE-kryo.txt\n",
            "spark-3.1.1-bin-hadoop2.7/licenses/LICENSE-cloudpickle.txt\n",
            "Requirement already satisfied: pyspark in /usr/local/lib/python3.7/dist-packages (3.1.2)\n",
            "Requirement already satisfied: py4j==0.10.9 in /usr/local/lib/python3.7/dist-packages (from pyspark) (0.10.9)\n"
          ],
          "name": "stdout"
        }
      ]
    },
    {
      "cell_type": "code",
      "metadata": {
        "id": "hgYqhj807big"
      },
      "source": [
        "#setting up environment variables\n",
        "import os\n",
        "os.environ[\"JAVA_HOME\"] = \"/usr/lib/jvm/java-8-openjdk-amd64\"\n",
        "os.environ[\"SPARK_HOME\"] = \"/content/spark-3.1.1-bin-hadoop2.7\""
      ],
      "execution_count": null,
      "outputs": []
    },
    {
      "cell_type": "code",
      "metadata": {
        "colab": {
          "base_uri": "https://localhost:8080/"
        },
        "id": "J3dlO7UZ7eFr",
        "outputId": "e6bcbcdf-d5da-4c51-d47f-689d5106388f"
      },
      "source": [
        "#setting up pyspark and other prerequisites\n",
        "import findspark\n",
        "import pandas as pd\n",
        "import numpy as np\n",
        "import matplotlib.pyplot as plt\n",
        "findspark.init()\n",
        "from pyspark.sql import SparkSession\n",
        "#creating the spark session\n",
        "spark = SparkSession.builder.master(\"local[*]\").getOrCreate()\n",
        "# verify that Spark is running\n",
        "print(\"The created SparkSession object:\", spark)\n",
        "print(\"Spark version:\",spark.version)"
      ],
      "execution_count": null,
      "outputs": [
        {
          "output_type": "stream",
          "text": [
            "The created SparkSession object: <pyspark.sql.session.SparkSession object at 0x7f67f871d3d0>\n",
            "Spark version: 3.1.1\n"
          ],
          "name": "stdout"
        }
      ]
    },
    {
      "cell_type": "markdown",
      "metadata": {
        "id": "cbie6WBNNHM9"
      },
      "source": [
        "## Part I\n",
        "### 1. Load the Dataframe"
      ]
    },
    {
      "cell_type": "code",
      "metadata": {
        "colab": {
          "base_uri": "https://localhost:8080/"
        },
        "id": "K-DSGVyKNN7A",
        "outputId": "7b0d62a2-7875-4e96-d5de-6a4c67bdb916"
      },
      "source": [
        "file_path = \"/content/drive/MyDrive/BDA_A2/Medical_info.csv\"\n",
        "file_schema = \"id LONG, age INT, BMI DOUBLE, PSA DOUBLE, TG DOUBLE,  Cholesterol DOUBLE, LDLChole DOUBLE, HDLChole DOUBLE, Glucose DOUBLE, Testosterone DOUBLE , BP_1 INT\"\n",
        "\n",
        "#loading the dataframe from the csv file\n",
        "df = spark.read.csv(file_path, header=True, schema=file_schema)\n",
        "\n",
        "#printing the actually loaded schema\n",
        "df.printSchema()\n",
        "#showing the first 20 rows of the loaded spark dataframe\n",
        "df.show()\n",
        "#calculating the total number of observations(rows) in the dataframe\n",
        "print(\"Total number of rows:\", df.count())"
      ],
      "execution_count": null,
      "outputs": [
        {
          "output_type": "stream",
          "text": [
            "root\n",
            " |-- id: long (nullable = true)\n",
            " |-- age: integer (nullable = true)\n",
            " |-- BMI: double (nullable = true)\n",
            " |-- PSA: double (nullable = true)\n",
            " |-- TG: double (nullable = true)\n",
            " |-- Cholesterol: double (nullable = true)\n",
            " |-- LDLChole: double (nullable = true)\n",
            " |-- HDLChole: double (nullable = true)\n",
            " |-- Glucose: double (nullable = true)\n",
            " |-- Testosterone: double (nullable = true)\n",
            " |-- BP_1: integer (nullable = true)\n",
            "\n",
            "+--------+---+------+----+-----+-----------+--------+--------+-------+------------+----+\n",
            "|      id|age|   BMI| PSA|   TG|Cholesterol|LDLChole|HDLChole|Glucose|Testosterone|BP_1|\n",
            "+--------+---+------+----+-----+-----------+--------+--------+-------+------------+----+\n",
            "|19782173| 59|28.378|0.34|204.0|      196.0|   132.0|    49.0|   92.0|         7.7|   1|\n",
            "|32613511| 59|24.968| 1.0|147.0|      181.0|   129.0|    34.0|   96.0|        4.09|   1|\n",
            "|32723850| 48|31.307|0.62|155.0|      185.0|   127.0|    41.0|  139.0|         4.5|   1|\n",
            "|22913531| 47|27.837|0.38|488.0|      254.0|   158.0|    55.0|  250.0|         5.3|   2|\n",
            "|32628551| 55|22.662|0.49| 87.0|      175.0|   120.0|    44.0|   99.0|         6.9|   1|\n",
            "|32678037| 68|23.985| 1.2| 96.0|      193.0|   135.0|    48.0|  125.0|         7.9|   2|\n",
            "|11858247| 58|22.096|0.09| 70.0|      200.0|   133.0|    60.0|  154.0|         7.0|   2|\n",
            "|32675456| 48|28.577|0.12|139.0|      151.0|    95.0|    37.0|  102.0|         5.6|   1|\n",
            "|14681268| 63|25.034|null|243.0|      195.0|   129.0|    45.0|   91.0|         6.9|   1|\n",
            "|23541720| 53|27.253| 1.3| 93.0|      151.0|    91.0|    55.0|  100.0|        9.19|   2|\n",
            "|32653689| 57|30.538| 5.1|194.0|      250.0|   178.0|    51.0|   93.0|        13.5|   2|\n",
            "|12036329| 65|24.309| 1.6| 74.0|      173.0|   121.0|    43.0|  114.0|         6.4|   2|\n",
            "|22714347| 68|22.888|0.77| 87.0|      196.0|   129.0|    55.0|  144.0|         9.8|   2|\n",
            "|22978521| 68|  28.3|0.97|152.0|      180.0|   125.0|    37.0|   88.0|         4.3|   2|\n",
            "|32638806| 64|25.852| 2.3| 93.0|      187.0|   136.0|    40.0|   99.0|        8.69|   2|\n",
            "|11586838| 67|20.716| 0.5|112.0|      219.0|   137.0|    69.0|   98.0|         8.5|   1|\n",
            "|28201553| 61|24.204| 1.5|140.0|      208.0|   149.0|    38.0|  136.0|        11.5|   1|\n",
            "|22269296| 51|25.829| 2.6| 79.0|      248.0|   185.0|    44.0|  105.0|         7.8|   1|\n",
            "|32698613| 33|24.843| 1.2|149.0|      191.0|   132.0|    41.0|   87.0|        14.1|   1|\n",
            "|28522748| 46|25.501| 1.1|109.0|      200.0|   129.0|    55.0|   97.0|        9.69|   1|\n",
            "+--------+---+------+----+-----+-----------+--------+--------+-------+------------+----+\n",
            "only showing top 20 rows\n",
            "\n",
            "Total number of rows: 6967\n"
          ],
          "name": "stdout"
        }
      ]
    },
    {
      "cell_type": "markdown",
      "metadata": {
        "id": "abU3gx3WRXj1"
      },
      "source": [
        "The Medical_info DataFrame has a shape of (6967,11) So it has the id collumn, 10 feature collumns (age, BMI, PSA, TG, Cholesterol, LDLChole, HDLChole, Glucose, Testosterone, BP_1).\n",
        "It consists of 6967 rows (observations)."
      ]
    },
    {
      "cell_type": "markdown",
      "metadata": {
        "id": "WLiLi5O-STxx"
      },
      "source": [
        "### 2. Create a new DataFrame without the null/missing values "
      ]
    },
    {
      "cell_type": "code",
      "metadata": {
        "colab": {
          "base_uri": "https://localhost:8080/"
        },
        "id": "qzGGqWcySRt5",
        "outputId": "91c394c7-d13f-4466-b078-021896826f16"
      },
      "source": [
        "#count before drop\n",
        "print(\"Count of rows: \", df.count())\n",
        "#replacing the zeroes with numpy NaN objects\n",
        "df = df.replace(0, np.nan)\n",
        "#dropping the rows which have a NaN\n",
        "df_dropped = df.dropna()\n",
        "#count after drop\n",
        "print(\"Shape of the dataframe after the drop: \", df_dropped.count())\n"
      ],
      "execution_count": null,
      "outputs": [
        {
          "output_type": "stream",
          "text": [
            "Count of rows:  6967\n",
            "Shape of the dataframe after the drop:  6907\n"
          ],
          "name": "stdout"
        }
      ]
    },
    {
      "cell_type": "code",
      "metadata": {
        "colab": {
          "base_uri": "https://localhost:8080/"
        },
        "id": "c_I0hHdUbYbV",
        "outputId": "8add0702-4cb6-496f-dfdf-d677085db828"
      },
      "source": [
        "#calculating number of dropped rows:\n",
        "print(\"All in all\", df.count()-df_dropped.count(), \"rows were dropped.\\nThere are\", df_dropped.count(), \"rows left in the dataframe.\")"
      ],
      "execution_count": null,
      "outputs": [
        {
          "output_type": "stream",
          "text": [
            "All in all 60 rows were dropped.\n",
            "There are 6907 rows left in the dataframe.\n"
          ],
          "name": "stdout"
        }
      ]
    },
    {
      "cell_type": "markdown",
      "metadata": {
        "id": "PbzQaKWRkZyF"
      },
      "source": [
        "### 3. Summary statistics of the 'age' feature, histogram for the 'age' feature\n"
      ]
    },
    {
      "cell_type": "code",
      "metadata": {
        "colab": {
          "base_uri": "https://localhost:8080/"
        },
        "id": "uBeEZMaGkomG",
        "outputId": "b13105f9-f4dd-4117-ee83-2a10a6201b8d"
      },
      "source": [
        "#converting to pandas dataframe\n",
        "pd_df = df_dropped.toPandas()\n",
        "#printing statistics of the 'age' column\n",
        "print(pd_df[\"age\"].describe())\n",
        "#calculating the variance of the 'age' feature\n",
        "print(\"Variance of age column \", pd_df[\"age\"].var())"
      ],
      "execution_count": null,
      "outputs": [
        {
          "output_type": "stream",
          "text": [
            "count    6907.000000\n",
            "mean       53.341538\n",
            "std         8.711644\n",
            "min        21.000000\n",
            "25%        48.000000\n",
            "50%        53.000000\n",
            "75%        59.000000\n",
            "max        90.000000\n",
            "Name: age, dtype: float64\n",
            "Variance of age column  75.89274730249846\n"
          ],
          "name": "stdout"
        }
      ]
    },
    {
      "cell_type": "code",
      "metadata": {
        "colab": {
          "base_uri": "https://localhost:8080/",
          "height": 312
        },
        "id": "21G9pyXZlB3Z",
        "outputId": "b83a4e66-bbca-493c-cab0-83b23db72119"
      },
      "source": [
        "\n",
        "# plotting the histogram of the age \n",
        "pd_df.hist(column = \"age\", bins=18)\n",
        "\n",
        "plt.xlabel('Age')\n",
        "plt.ylabel('Frequency')\n",
        "plt.title('Histogram of \"age\" column')"
      ],
      "execution_count": null,
      "outputs": [
        {
          "output_type": "execute_result",
          "data": {
            "text/plain": [
              "Text(0.5, 1.0, 'Histogram of \"age\" column')"
            ]
          },
          "metadata": {
            "tags": []
          },
          "execution_count": 45
        },
        {
          "output_type": "display_data",
          "data": {
            "image/png": "[encoded data removed]",
            "text/plain": [
              "<Figure size 432x288 with 1 Axes>"
            ]
          },
          "metadata": {
            "tags": [],
            "needs_background": "light"
          }
        }
      ]
    },
    {
      "cell_type": "markdown",
      "metadata": {
        "id": "zB64hOcdq4TP"
      },
      "source": [
        "### 4. Display the quartile Information of the \"BMI\" feature"
      ]
    },
    {
      "cell_type": "code",
      "metadata": {
        "colab": {
          "base_uri": "https://localhost:8080/"
        },
        "id": "zb_Y65vGgv0a",
        "outputId": "009d7fc7-7418-4269-b9cb-9639649c691b"
      },
      "source": [
        "#printing the statistics f the 'BMI' column\n",
        "print(pd_df[\"BMI\"].describe())"
      ],
      "execution_count": null,
      "outputs": [
        {
          "output_type": "stream",
          "text": [
            "count    6907.000000\n",
            "mean       24.762561\n",
            "std         2.803643\n",
            "min        13.747000\n",
            "25%        22.975500\n",
            "50%        24.705000\n",
            "75%        26.435000\n",
            "max        43.261000\n",
            "Name: BMI, dtype: float64\n"
          ],
          "name": "stdout"
        }
      ]
    },
    {
      "cell_type": "code",
      "metadata": {
        "colab": {
          "base_uri": "https://localhost:8080/",
          "height": 624
        },
        "id": "1OYwNKb22WCT",
        "outputId": "25022468-aee9-4138-ee85-da8d6727007c"
      },
      "source": [
        "#generating the boxplot\n",
        "pd_df.boxplot(\"BMI\", showmeans=True, figsize=(10,10))\n",
        "#annotating the plot\n",
        "plt.ylabel('Value')\n",
        "plt.title('BMI Boxplot')"
      ],
      "execution_count": null,
      "outputs": [
        {
          "output_type": "execute_result",
          "data": {
            "text/plain": [
              "Text(0.5, 1.0, 'BMI Boxplot')"
            ]
          },
          "metadata": {
            "tags": []
          },
          "execution_count": 47
        },
        {
          "output_type": "display_data",
          "data": {
            "image/png": "[encoded data removed]",
            "text/plain": [
              "<Figure size 720x720 with 1 Axes>"
            ]
          },
          "metadata": {
            "tags": [],
            "needs_background": "light"
          }
        }
      ]
    },
    {
      "cell_type": "code",
      "metadata": {
        "colab": {
          "base_uri": "https://localhost:8080/",
          "height": 285
        },
        "id": "xbpuvUuIVnCV",
        "outputId": "e9467a90-0d9b-4fb5-b0fe-ae9ec36575e0"
      },
      "source": [
        "pd_df['BMI'].hist(bins=20)"
      ],
      "execution_count": null,
      "outputs": [
        {
          "output_type": "execute_result",
          "data": {
            "text/plain": [
              "<matplotlib.axes._subplots.AxesSubplot at 0x7f67def98310>"
            ]
          },
          "metadata": {
            "tags": []
          },
          "execution_count": 48
        },
        {
          "output_type": "display_data",
          "data": {
            "image/png": "[encoded data removed]",
            "text/plain": [
              "<Figure size 432x288 with 1 Axes>"
            ]
          },
          "metadata": {
            "tags": [],
            "needs_background": "light"
          }
        }
      ]
    },
    {
      "cell_type": "markdown",
      "metadata": {
        "id": "RTl_1kbI5P-t"
      },
      "source": [
        "### 5. Use Spark DataFrame API to count the number of rows where 'age' is greater than 50 and 'BP_1' equals 1"
      ]
    },
    {
      "cell_type": "code",
      "metadata": {
        "colab": {
          "base_uri": "https://localhost:8080/"
        },
        "id": "Hajm18PN4DRd",
        "outputId": "a5935289-321b-4064-e64f-1c7246c390c9"
      },
      "source": [
        "import pyspark.sql.functions as f\n",
        "\n",
        "filter_50_BP1 = df_dropped.filter((f.col(\"age\")>50) & (f.col(\"BP_1\")==1))\n",
        "\n",
        "print(\"There are\", filter_50_BP1.count(), \"rows where age > 50 and BP_1 equals 1.\")"
      ],
      "execution_count": null,
      "outputs": [
        {
          "output_type": "stream",
          "text": [
            "There are 2165 rows where age > 50 and BP_1 equals 1.\n"
          ],
          "name": "stdout"
        }
      ]
    },
    {
      "cell_type": "markdown",
      "metadata": {
        "id": "83J8LiMZ66aX"
      },
      "source": [
        "### 6. Build to classification models with 'BP_1' as target label and evaluate the performance"
      ]
    },
    {
      "cell_type": "markdown",
      "metadata": {
        "id": "yjLRMB2OG-OD"
      },
      "source": [
        "#### A"
      ]
    },
    {
      "cell_type": "code",
      "metadata": {
        "colab": {
          "base_uri": "https://localhost:8080/"
        },
        "id": "hH3j7YK_7MKr",
        "outputId": "f569c31a-4f23-47c9-b5a0-e6d27ca2ee3b"
      },
      "source": [
        "from pyspark.ml import Pipeline\n",
        "from pyspark.ml.classification import DecisionTreeClassifier\n",
        "from pyspark.ml.feature import VectorAssembler\n",
        "\n",
        "# transforming BP_1 to 0 for low and 1 for high Blood Pressure\n",
        "df_dropped = df_dropped.withColumn('label', (df_dropped.BP_1== 2).cast('integer'))\n",
        "\n",
        "#set up of the VectorAssembler\n",
        "VecAss = VectorAssembler(inputCols=[\n",
        " 'age', 'BMI', 'PSA', 'TG', 'Cholesterol', 'LDLChole', 'HDLChole', 'Glucose', 'Testosterone'\n",
        "], outputCol='features')\n",
        "\n",
        "#assembling features\n",
        "assembled_df = VecAss.transform(df_dropped)\n",
        "\n",
        "#printing the first ten rows pf only predictor features and outcome column\n",
        "assembled_df.select(\"features\", \"label\").show(10, truncate=False)"
      ],
      "execution_count": null,
      "outputs": [
        {
          "output_type": "stream",
          "text": [
            "+---------------------------------------------------+-----+\n",
            "|features                                           |label|\n",
            "+---------------------------------------------------+-----+\n",
            "|[59.0,28.378,0.34,204.0,196.0,132.0,49.0,92.0,7.7] |0    |\n",
            "|[59.0,24.968,1.0,147.0,181.0,129.0,34.0,96.0,4.09] |0    |\n",
            "|[48.0,31.307,0.62,155.0,185.0,127.0,41.0,139.0,4.5]|0    |\n",
            "|[47.0,27.837,0.38,488.0,254.0,158.0,55.0,250.0,5.3]|1    |\n",
            "|[55.0,22.662,0.49,87.0,175.0,120.0,44.0,99.0,6.9]  |0    |\n",
            "|[68.0,23.985,1.2,96.0,193.0,135.0,48.0,125.0,7.9]  |1    |\n",
            "|[58.0,22.096,0.09,70.0,200.0,133.0,60.0,154.0,7.0] |1    |\n",
            "|[48.0,28.577,0.12,139.0,151.0,95.0,37.0,102.0,5.6] |0    |\n",
            "|[53.0,27.253,1.3,93.0,151.0,91.0,55.0,100.0,9.19]  |1    |\n",
            "|[57.0,30.538,5.1,194.0,250.0,178.0,51.0,93.0,13.5] |1    |\n",
            "+---------------------------------------------------+-----+\n",
            "only showing top 10 rows\n",
            "\n"
          ],
          "name": "stdout"
        }
      ]
    },
    {
      "cell_type": "code",
      "metadata": {
        "colab": {
          "base_uri": "https://localhost:8080/"
        },
        "id": "I96519DyHgsQ",
        "outputId": "f63641a4-b3d6-45c8-a564-545c278fbc82"
      },
      "source": [
        "#Splitting the data\n",
        "data_train, data_test = assembled_df.randomSplit([0.7, 0.3], seed=42)\n",
        "\n",
        "#creating and running the decision tree classifier\n",
        "dtc = DecisionTreeClassifier(featuresCol='features', labelCol='label', maxDepth=3, maxBins=16).fit(data_train)\n",
        "\n",
        "#testing the trained classifier\n",
        "dtc_prediction = dtc.transform(data_test)\n",
        "dtc_prediction.select(\"features\", \"label\", \"prediction\").show(10, truncate=False)"
      ],
      "execution_count": null,
      "outputs": [
        {
          "output_type": "stream",
          "text": [
            "+---------------------------------------------------+-----+----------+\n",
            "|features                                           |label|prediction|\n",
            "+---------------------------------------------------+-----+----------+\n",
            "|[65.0,24.007,0.12,75.0,141.0,89.0,52.0,100.0,2.29] |1    |1.0       |\n",
            "|[59.0,29.997,1.7,134.0,136.0,81.0,33.0,102.0,3.6]  |1    |1.0       |\n",
            "|[38.0,31.427,0.29,177.0,219.0,158.0,40.0,100.0,4.5]|1    |1.0       |\n",
            "|[57.0,27.278,2.3,140.0,174.0,120.0,33.0,108.0,5.8] |1    |1.0       |\n",
            "|[78.0,21.43,1.6,117.0,153.0,99.0,40.0,96.0,1.7]    |1    |1.0       |\n",
            "|[49.0,25.0,0.22,115.0,200.0,132.0,45.0,116.0,3.3]  |0    |0.0       |\n",
            "|[51.0,22.791,0.8,71.0,195.0,118.0,54.0,87.0,4.0]   |1    |0.0       |\n",
            "|[56.0,23.668,0.89,151.0,203.0,138.0,59.0,96.0,4.0] |1    |0.0       |\n",
            "|[72.0,23.395,1.2,81.0,212.0,146.0,62.0,104.0,3.9]  |0    |1.0       |\n",
            "|[48.0,23.26,1.3,132.0,159.0,104.0,46.0,86.0,4.4]   |0    |0.0       |\n",
            "+---------------------------------------------------+-----+----------+\n",
            "only showing top 10 rows\n",
            "\n"
          ],
          "name": "stdout"
        }
      ]
    },
    {
      "cell_type": "code",
      "metadata": {
        "colab": {
          "base_uri": "https://localhost:8080/"
        },
        "id": "9NkjA6JLBnwH",
        "outputId": "b321f0cf-7730-49e2-80bf-eafcb38f04f8"
      },
      "source": [
        "# GBT classification\n",
        "from pyspark.ml.classification import GBTClassifier\n",
        "gbt = GBTClassifier(labelCol='label', maxDepth=5, maxBins=16, maxIter=10).fit(data_train)\n",
        "\n",
        "# testing the trained classifier\n",
        "gbt_prediction = gbt.transform(data_test)\n",
        "gbt_prediction.select(\"features\", \"label\", \"prediction\").show(10, truncate=False)"
      ],
      "execution_count": null,
      "outputs": [
        {
          "output_type": "stream",
          "text": [
            "+---------------------------------------------------+-----+----------+\n",
            "|features                                           |label|prediction|\n",
            "+---------------------------------------------------+-----+----------+\n",
            "|[65.0,24.007,0.12,75.0,141.0,89.0,52.0,100.0,2.29] |1    |1.0       |\n",
            "|[59.0,29.997,1.7,134.0,136.0,81.0,33.0,102.0,3.6]  |1    |1.0       |\n",
            "|[38.0,31.427,0.29,177.0,219.0,158.0,40.0,100.0,4.5]|1    |0.0       |\n",
            "|[57.0,27.278,2.3,140.0,174.0,120.0,33.0,108.0,5.8] |1    |1.0       |\n",
            "|[78.0,21.43,1.6,117.0,153.0,99.0,40.0,96.0,1.7]    |1    |1.0       |\n",
            "|[49.0,25.0,0.22,115.0,200.0,132.0,45.0,116.0,3.3]  |0    |1.0       |\n",
            "|[51.0,22.791,0.8,71.0,195.0,118.0,54.0,87.0,4.0]   |1    |0.0       |\n",
            "|[56.0,23.668,0.89,151.0,203.0,138.0,59.0,96.0,4.0] |1    |0.0       |\n",
            "|[72.0,23.395,1.2,81.0,212.0,146.0,62.0,104.0,3.9]  |0    |0.0       |\n",
            "|[48.0,23.26,1.3,132.0,159.0,104.0,46.0,86.0,4.4]   |0    |0.0       |\n",
            "+---------------------------------------------------+-----+----------+\n",
            "only showing top 10 rows\n",
            "\n"
          ],
          "name": "stdout"
        }
      ]
    },
    {
      "cell_type": "code",
      "metadata": {
        "colab": {
          "base_uri": "https://localhost:8080/"
        },
        "id": "k7dMDBER_Oo4",
        "outputId": "308b5b50-5cb6-4fa9-8d09-16ec55a674f3"
      },
      "source": [
        "from pyspark.ml.evaluation import BinaryClassificationEvaluator\n",
        "\n",
        "BinEval = BinaryClassificationEvaluator()\n",
        "\n",
        "# scores of the two classifiers\n",
        "print(\"Score for Decision Tree Classifier\", BinEval.evaluate(dtc_prediction))\n",
        "print(\"Score for Gradient Boost Tree\", BinEval.evaluate(gbt_prediction))\n",
        "\n"
      ],
      "execution_count": null,
      "outputs": [
        {
          "output_type": "stream",
          "text": [
            "Score for Decision Tree Classifier 0.5655838491255765\n",
            "Score for Gradient Boost Tree 0.6741037677065599\n"
          ],
          "name": "stdout"
        }
      ]
    },
    {
      "cell_type": "code",
      "metadata": {
        "colab": {
          "base_uri": "https://localhost:8080/",
          "height": 347
        },
        "id": "sPGnIcKwGZZ2",
        "outputId": "29ed28a7-1d23-4a15-d0cd-37fe66eb3c76"
      },
      "source": [
        "import seaborn as sns\n",
        "\n",
        "# Confusion Matrices\n",
        "# Decision Tree Classifier\n",
        "\n",
        "df_dtc = dtc_prediction.toPandas()\n",
        "conf_mat_dtc = pd.crosstab(df_dtc['label'], df_dtc['prediction'], rownames=['Actual'], colnames=['Predicted'])\n",
        "\n",
        "sns.heatmap(conf_mat_dtc, annot=True, fmt=\".0f\", cmap='YlGnBu')\n",
        "plt.show()\n",
        "\n",
        "#needs to be rewritten... don't know how to get numbers of heatmap yet.\n",
        "# True Negative\n",
        "TN = dtc_prediction.filter('prediction = 0 AND label = prediction').count()\n",
        "# True Positive\n",
        "TP = dtc_prediction.filter('prediction = 1 AND label = prediction').count()\n",
        "# False Negative \n",
        "FN = dtc_prediction.filter('prediction = 0 AND label != prediction').count()\n",
        "# False Positive\n",
        "FP = dtc_prediction.filter('prediction = 1 AND label != prediction').count()\n",
        " \n",
        "# The accuracy is the ratio of correct predictions (TP and TN) to all predictions (TP, TN, FP and FN)\n",
        "accuracy = (TN + TP) / (TN + TP + FN + FP)\n",
        " \n",
        "#precise\n",
        "precise = TP/(TP+TN)\n",
        " \n",
        "#recall\n",
        "recall = TP/(TP + FN)\n",
        "print(\"Decision Tree Model\\nAccuracy: {:.2f}\\nPrecision:  {:.2f}\\nRecall:   {:.2f}\"\\\n",
        "      .format(accuracy, precise, recall))"
      ],
      "execution_count": null,
      "outputs": [
        {
          "output_type": "display_data",
          "data": {
            "image/png": "[encoded data removed]",
            "text/plain": [
              "<Figure size 432x288 with 2 Axes>"
            ]
          },
          "metadata": {
            "tags": [],
            "needs_background": "light"
          }
        },
        {
          "output_type": "stream",
          "text": [
            "Decision Tree Model\n",
            "Accuracy: 0.63\n",
            "Precision:  0.48\n",
            "Recall:   0.65\n"
          ],
          "name": "stdout"
        }
      ]
    },
    {
      "cell_type": "code",
      "metadata": {
        "colab": {
          "base_uri": "https://localhost:8080/",
          "height": 351
        },
        "id": "W9ZMn5mPIDH5",
        "outputId": "4f5d879e-edc6-4804-bc6a-27891cf1e334"
      },
      "source": [
        "# Confusion Matrices\n",
        "# Gradient Boost Tree Classifier\n",
        "\n",
        "df_gbt = gbt_prediction.toPandas()\n",
        "conf_mat_gbt = pd.crosstab(df_gbt['label'], df_gbt['prediction'], rownames=['Actual'], colnames=['Predicted'])\n",
        "\n",
        "sns.heatmap(conf_mat_gbt, annot=True, fmt=\".0f\", cmap='YlGnBu')\n",
        "plt.show()\n",
        "\n",
        "#needs to be rewritten... don't know how to get numbers of heatmap yet.\n",
        "# True Negative\n",
        "TN = gbt_prediction.filter('prediction = 0 AND label = prediction').count()\n",
        "# True Positive\n",
        "TP = gbt_prediction.filter('prediction = 1 AND label = prediction').count()\n",
        "# False Negative \n",
        "FN = gbt_prediction.filter('prediction = 0 AND label != prediction').count()\n",
        "# False Positive\n",
        "FP = gbt_prediction.filter('prediction = 1 AND label != prediction').count()\n",
        " \n",
        "# The accuracy is the ratio of correct predictions (TP and TN) to all predictions (TP, TN, FP and FN)\n",
        "accuracy = (TN + TP) / (TN + TP + FN + FP)\n",
        " \n",
        "#precise\n",
        "precise = TP/(TP+TN)\n",
        " \n",
        "#recall\n",
        "recall = TP/(TP + FN)\n",
        "print(\"Gradient Boost Tree Model\\nAccuracy: {:.2f}\\nPrecision:  {:.2f}\\nRecall:   {:.2f}\"\\\n",
        "      .format(accuracy, precise, recall))\n"
      ],
      "execution_count": null,
      "outputs": [
        {
          "output_type": "display_data",
          "data": {
            "image/png": "[encoded data removed]",
            "text/plain": [
              "<Figure size 432x288 with 2 Axes>"
            ]
          },
          "metadata": {
            "tags": [],
            "needs_background": "light"
          }
        },
        {
          "output_type": "stream",
          "text": [
            "Gradient Boost Tree Model\n",
            "Accuracy: 0.64\n",
            "Precision:  0.37\n",
            "Recall:   0.51\n"
          ],
          "name": "stdout"
        }
      ]
    },
    {
      "cell_type": "markdown",
      "metadata": {
        "id": "SlSZjh9_nBit"
      },
      "source": [
        "## Part II\n",
        "### 1. Load the Dataframe"
      ]
    },
    {
      "cell_type": "code",
      "metadata": {
        "colab": {
          "base_uri": "https://localhost:8080/"
        },
        "id": "FRwplRUPnEpm",
        "outputId": "a3ae818e-b4bd-4966-8771-081823f553dc"
      },
      "source": [
        "file_path = \"/content/drive/MyDrive/BDA_A2/Region_info.csv\"\n",
        "df = spark.read.csv(file_path, header=True, schema= \"population DOUBLE, fertility DOUBLE, HIV DOUBLE, CO2 DOUBLE, BMI_male DOUBLE, GDP DOUBLE, BMI_female DOUBLE, life DOUBLE, child_mortality DOUBLE, region STRING\")\n",
        "\n",
        "df.printSchema()\n",
        "df.show(truncate=False)\n",
        "print(\"Total number of rows:\", df.count())"
      ],
      "execution_count": null,
      "outputs": [
        {
          "output_type": "stream",
          "text": [
            "root\n",
            " |-- population: double (nullable = true)\n",
            " |-- fertility: double (nullable = true)\n",
            " |-- HIV: double (nullable = true)\n",
            " |-- CO2: double (nullable = true)\n",
            " |-- BMI_male: double (nullable = true)\n",
            " |-- GDP: double (nullable = true)\n",
            " |-- BMI_female: double (nullable = true)\n",
            " |-- life: double (nullable = true)\n",
            " |-- child_mortality: double (nullable = true)\n",
            " |-- region: string (nullable = true)\n",
            "\n",
            "+------------+---------+----+-------------------+------------------+-------+----------+----+---------------+--------------------------+\n",
            "|population  |fertility|HIV |CO2                |BMI_male          |GDP    |BMI_female|life|child_mortality|region                    |\n",
            "+------------+---------+----+-------------------+------------------+-------+----------+----+---------------+--------------------------+\n",
            "|3.4811059E7 |2.73     |0.1 |3.328944661018629  |24.5962           |12314.0|129.9049  |75.3|29.5           |Middle East & North Africa|\n",
            "|1.9842251E7 |6.43     |2.0 |1.4743533878509398 |22.25083          |7103.0 |130.1247  |58.3|192.0          |Sub-Saharan Africa        |\n",
            "|4.038186E7  |2.24     |0.5 |4.78516998252535   |27.5017           |14646.0|118.8915  |75.5|15.4           |America                   |\n",
            "|2975029.0   |1.4      |0.1 |1.8041062172001    |25.35542          |7383.0 |132.8108  |72.5|20.0           |Europe & Central Asia     |\n",
            "|2.1370348E7 |1.96     |0.1 |18.0163132681972   |27.56373          |41312.0|117.3755  |81.5|5.2            |East Asia & Pacific       |\n",
            "|8331465.0   |1.41     |0.3 |8.18316001754696   |26.46741          |43952.0|124.1394  |80.4|4.6            |Europe & Central Asia     |\n",
            "|8868713.0   |1.99     |0.1 |5.10953829181389   |25.65117          |14365.0|128.6024  |70.6|43.3           |Europe & Central Asia     |\n",
            "|348587.0    |1.89     |3.1 |3.13192132134112   |27.24594          |24373.0|124.3862  |72.2|14.5           |America                   |\n",
            "|1.48252473E8|2.38     |0.06|0.31916100201885805|20.39742          |2265.0 |125.0307  |68.4|55.9           |South Asia                |\n",
            "|277315.0    |1.83     |1.3 |6.00827883508462   |26.384390000000003|16075.0|126.394   |75.3|15.4           |America                   |\n",
            "|9526453.0   |1.42     |0.2 |6.48817388016763   |26.16443          |14488.0|129.7968  |70.1|7.2            |Europe & Central Asia     |\n",
            "|1.0779155E7 |1.82     |0.2 |9.79733671427737   |26.75915          |41641.0|121.8227  |79.4|4.7            |Europe & Central Asia     |\n",
            "|306165.0    |2.91     |2.4 |1.3601259202571898 |27.02255          |8293.0 |120.9224  |70.7|20.1           |America                   |\n",
            "|8973525.0   |5.27     |1.2 |0.5375391835148801 |22.41835          |1646.0 |130.2723  |63.2|116.3          |Sub-Saharan Africa        |\n",
            "|694990.0    |2.51     |0.2 |0.601210310020156  |22.8218           |5663.0 |125.1258  |67.6|48.1           |South Asia                |\n",
            "|9599916.0   |3.48     |0.2 |1.43182915030318   |24.43335          |5066.0 |122.4155  |70.9|52.0           |America                   |\n",
            "|1967866.0   |2.86     |24.9|2.5472054915144904 |22.12984          |13858.0|133.1307  |61.2|63.8           |Sub-Saharan Africa        |\n",
            "|1.94769696E8|1.9      |0.45|2.02377283620826   |25.78623          |13906.0|124.8745  |73.9|18.6           |America                   |\n",
            "|7513646.0   |1.43     |0.1 |6.69013908249446   |26.54286          |15368.0|128.4721  |73.2|13.7           |Europe & Central Asia     |\n",
            "|1.4709011E7 |6.04     |1.2 |0.109419170900456  |21.27157          |1358.0 |130.6651  |59.4|130.4          |Sub-Saharan Africa        |\n",
            "+------------+---------+----+-------------------+------------------+-------+----------+----+---------------+--------------------------+\n",
            "only showing top 20 rows\n",
            "\n",
            "Total number of rows: 139\n"
          ],
          "name": "stdout"
        }
      ]
    },
    {
      "cell_type": "markdown",
      "metadata": {
        "id": "4YkNRruIHfHp"
      },
      "source": [
        "### 2. Create the second dataframe with 'region' column dropped"
      ]
    },
    {
      "cell_type": "code",
      "metadata": {
        "colab": {
          "base_uri": "https://localhost:8080/"
        },
        "id": "e8Ue7eFnoqFh",
        "outputId": "39263e5a-4fee-477e-a1a0-0058f74c10cd"
      },
      "source": [
        "df_dropped = df.drop(\"region\")\n",
        "df_dropped.show(truncate=False)"
      ],
      "execution_count": null,
      "outputs": [
        {
          "output_type": "stream",
          "text": [
            "+------------+---------+----+-------------------+------------------+-------+----------+----+---------------+\n",
            "|population  |fertility|HIV |CO2                |BMI_male          |GDP    |BMI_female|life|child_mortality|\n",
            "+------------+---------+----+-------------------+------------------+-------+----------+----+---------------+\n",
            "|3.4811059E7 |2.73     |0.1 |3.328944661018629  |24.5962           |12314.0|129.9049  |75.3|29.5           |\n",
            "|1.9842251E7 |6.43     |2.0 |1.4743533878509398 |22.25083          |7103.0 |130.1247  |58.3|192.0          |\n",
            "|4.038186E7  |2.24     |0.5 |4.78516998252535   |27.5017           |14646.0|118.8915  |75.5|15.4           |\n",
            "|2975029.0   |1.4      |0.1 |1.8041062172001    |25.35542          |7383.0 |132.8108  |72.5|20.0           |\n",
            "|2.1370348E7 |1.96     |0.1 |18.0163132681972   |27.56373          |41312.0|117.3755  |81.5|5.2            |\n",
            "|8331465.0   |1.41     |0.3 |8.18316001754696   |26.46741          |43952.0|124.1394  |80.4|4.6            |\n",
            "|8868713.0   |1.99     |0.1 |5.10953829181389   |25.65117          |14365.0|128.6024  |70.6|43.3           |\n",
            "|348587.0    |1.89     |3.1 |3.13192132134112   |27.24594          |24373.0|124.3862  |72.2|14.5           |\n",
            "|1.48252473E8|2.38     |0.06|0.31916100201885805|20.39742          |2265.0 |125.0307  |68.4|55.9           |\n",
            "|277315.0    |1.83     |1.3 |6.00827883508462   |26.384390000000003|16075.0|126.394   |75.3|15.4           |\n",
            "|9526453.0   |1.42     |0.2 |6.48817388016763   |26.16443          |14488.0|129.7968  |70.1|7.2            |\n",
            "|1.0779155E7 |1.82     |0.2 |9.79733671427737   |26.75915          |41641.0|121.8227  |79.4|4.7            |\n",
            "|306165.0    |2.91     |2.4 |1.3601259202571898 |27.02255          |8293.0 |120.9224  |70.7|20.1           |\n",
            "|8973525.0   |5.27     |1.2 |0.5375391835148801 |22.41835          |1646.0 |130.2723  |63.2|116.3          |\n",
            "|694990.0    |2.51     |0.2 |0.601210310020156  |22.8218           |5663.0 |125.1258  |67.6|48.1           |\n",
            "|9599916.0   |3.48     |0.2 |1.43182915030318   |24.43335          |5066.0 |122.4155  |70.9|52.0           |\n",
            "|1967866.0   |2.86     |24.9|2.5472054915144904 |22.12984          |13858.0|133.1307  |61.2|63.8           |\n",
            "|1.94769696E8|1.9      |0.45|2.02377283620826   |25.78623          |13906.0|124.8745  |73.9|18.6           |\n",
            "|7513646.0   |1.43     |0.1 |6.69013908249446   |26.54286          |15368.0|128.4721  |73.2|13.7           |\n",
            "|1.4709011E7 |6.04     |1.2 |0.109419170900456  |21.27157          |1358.0 |130.6651  |59.4|130.4          |\n",
            "+------------+---------+----+-------------------+------------------+-------+----------+----+---------------+\n",
            "only showing top 20 rows\n",
            "\n"
          ],
          "name": "stdout"
        }
      ]
    },
    {
      "cell_type": "markdown",
      "metadata": {
        "id": "vKJRNoj8Hllb"
      },
      "source": [
        "### 3. Visualising the relationship betweeen 'fertility' and 'life' features"
      ]
    },
    {
      "cell_type": "code",
      "metadata": {
        "colab": {
          "base_uri": "https://localhost:8080/",
          "height": 282
        },
        "id": "2-PbK8Lktlhd",
        "outputId": "3fa77bb0-d969-4d1d-c8d2-7936ea872a02"
      },
      "source": [
        "#lineplot to get an idea about the data\n",
        "df_dropped.select('fertility', 'life').toPandas().plot()\n"
      ],
      "execution_count": null,
      "outputs": [
        {
          "output_type": "execute_result",
          "data": {
            "text/plain": [
              "<matplotlib.axes._subplots.AxesSubplot at 0x7f67da6ef410>"
            ]
          },
          "metadata": {
            "tags": []
          },
          "execution_count": 139
        },
        {
          "output_type": "display_data",
          "data": {
            "image/png": "[encoded data removed]",
            "text/plain": [
              "<Figure size 432x288 with 1 Axes>"
            ]
          },
          "metadata": {
            "tags": [],
            "needs_background": "light"
          }
        }
      ]
    },
    {
      "cell_type": "code",
      "metadata": {
        "colab": {
          "base_uri": "https://localhost:8080/",
          "height": 312
        },
        "id": "lpq13Gk1uNOA",
        "outputId": "22c598a1-f6cb-457a-b94d-7707469b7b49"
      },
      "source": [
        "#scatterplot so see the tendency, that the lower the fertility, the higher the life expectancy\n",
        "plt.scatter(df_dropped.select('fertility').toPandas(), df_dropped.select('life').toPandas(), alpha=0.5)\n",
        "plt.xlabel('fertility')\n",
        "plt.ylabel('life expectancy')\n",
        "plt.title('Relationship between fertility and life expectancy')"
      ],
      "execution_count": null,
      "outputs": [
        {
          "output_type": "execute_result",
          "data": {
            "text/plain": [
              "Text(0.5, 1.0, 'Relationship between fertility and life expectancy')"
            ]
          },
          "metadata": {
            "tags": []
          },
          "execution_count": 138
        },
        {
          "output_type": "display_data",
          "data": {
            "image/png": "[encoded data removed]",
            "text/plain": [
              "<Figure size 432x288 with 1 Axes>"
            ]
          },
          "metadata": {
            "tags": [],
            "needs_background": "light"
          }
        }
      ]
    },
    {
      "cell_type": "markdown",
      "metadata": {
        "id": "qkgmK68UHvgU"
      },
      "source": [
        "### 4. Using Spark SQL query the dtataframe where fertility is greater than 1.0 and life is greater than 70"
      ]
    },
    {
      "cell_type": "code",
      "metadata": {
        "colab": {
          "base_uri": "https://localhost:8080/"
        },
        "id": "PeQevKVMFC0j",
        "outputId": "14a653eb-7b8f-4723-fd65-7c494c0a5f62"
      },
      "source": [
        "# Create a temporary table \n",
        "df_dropped.createOrReplaceTempView(\"region\")\n",
        "#building the sql query\n",
        "query = \"SELECT * FROM region WHERE fertility>1.0 AND life>70\"\n",
        "\n",
        "#running the sql query\n",
        "flt = spark.sql(query)\n",
        "\n",
        "print(\"There are\", flt.count(), \"rows where fertility > 1.0 and life > 70.\")\n",
        "\n",
        "flt.show()"
      ],
      "execution_count": null,
      "outputs": [
        {
          "output_type": "stream",
          "text": [
            "There are 78 rows where fertility > 1.0 and life > 70.\n",
            "+------------+---------+----+------------------+------------------+-------+----------+----+---------------+\n",
            "|  population|fertility| HIV|               CO2|          BMI_male|    GDP|BMI_female|life|child_mortality|\n",
            "+------------+---------+----+------------------+------------------+-------+----------+----+---------------+\n",
            "| 3.4811059E7|     2.73| 0.1| 3.328944661018629|           24.5962|12314.0|  129.9049|75.3|           29.5|\n",
            "|  4.038186E7|     2.24| 0.5|  4.78516998252535|           27.5017|14646.0|  118.8915|75.5|           15.4|\n",
            "|   2975029.0|      1.4| 0.1|   1.8041062172001|          25.35542| 7383.0|  132.8108|72.5|           20.0|\n",
            "| 2.1370348E7|     1.96| 0.1|  18.0163132681972|          27.56373|41312.0|  117.3755|81.5|            5.2|\n",
            "|   8331465.0|     1.41| 0.3|  8.18316001754696|          26.46741|43952.0|  124.1394|80.4|            4.6|\n",
            "|   8868713.0|     1.99| 0.1|  5.10953829181389|          25.65117|14365.0|  128.6024|70.6|           43.3|\n",
            "|    348587.0|     1.89| 3.1|  3.13192132134112|          27.24594|24373.0|  124.3862|72.2|           14.5|\n",
            "|    277315.0|     1.83| 1.3|  6.00827883508462|26.384390000000003|16075.0|   126.394|75.3|           15.4|\n",
            "|   9526453.0|     1.42| 0.2|  6.48817388016763|          26.16443|14488.0|  129.7968|70.1|            7.2|\n",
            "| 1.0779155E7|     1.82| 0.2|  9.79733671427737|          26.75915|41641.0|  121.8227|79.4|            4.7|\n",
            "|    306165.0|     2.91| 2.4|1.3601259202571898|          27.02255| 8293.0|  120.9224|70.7|           20.1|\n",
            "|   9599916.0|     3.48| 0.2|  1.43182915030318|          24.43335| 5066.0|  122.4155|70.9|           52.0|\n",
            "|1.94769696E8|      1.9|0.45|  2.02377283620826|          25.78623|13906.0|  124.8745|73.9|           18.6|\n",
            "|   7513646.0|     1.43| 0.1|  6.69013908249446|          26.54286|15368.0|  128.4721|73.2|           13.7|\n",
            "| 3.3363256E7|     1.68| 0.2|16.350398627330502|           27.4521|41468.0|  118.0571|80.7|            5.8|\n",
            "|  1.664594E7|     1.89| 0.4|  4.24025913623095|          27.01542|18698.0|  125.5417|78.9|            8.9|\n",
            "|  4.490166E7|     2.43| 0.5|1.4760918200836202|          24.94041|10489.0|  124.0235|75.1|           19.7|\n",
            "|   4429506.0|     1.91| 0.3|1.9119334188978503|          26.47897|12219.0|    121.35|79.7|           10.3|\n",
            "|   4344151.0|     1.43|0.06|  5.28790257621164|26.596290000000003|21873.0|  130.3921|76.5|            5.9|\n",
            "| 1.1290239E7|      1.5| 0.1|   2.7017771665481|          25.06867|17765.0|  126.0594|77.8|            6.3|\n",
            "+------------+---------+----+------------------+------------------+-------+----------+----+---------------+\n",
            "only showing top 20 rows\n",
            "\n"
          ],
          "name": "stdout"
        }
      ]
    },
    {
      "cell_type": "markdown",
      "metadata": {
        "id": "jrGJLA9HJth8"
      },
      "source": [
        "### 5. Building a Linear Regression Model to predict life expectancy based on fertility "
      ]
    },
    {
      "cell_type": "code",
      "metadata": {
        "id": "kZZufbf4JdFx"
      },
      "source": [
        "#preparation for linear regression, feature assembly\n",
        "from pyspark.ml.regression import LinearRegression\n",
        "from pyspark.ml.feature import VectorAssembler\n",
        "\n",
        "#assembling the feature vectors\n",
        "VecAss = VectorAssembler(inputCols=['fertility'], outputCol='features') \n",
        "df_assembled = VecAss.transform(df_dropped)\n",
        "\n",
        "#setting up the linear regressor\n",
        "lr = LinearRegression(featuresCol='features', labelCol='life',maxIter=10)\n",
        "\n",
        "#splitting the data\n",
        "(df_train, df_test) = df_assembled.randomSplit([0.8, 0.2])\n",
        "\n",
        "#training the model\n",
        "lr_model = lr.fit(df_train)"
      ],
      "execution_count": null,
      "outputs": []
    },
    {
      "cell_type": "code",
      "metadata": {
        "colab": {
          "base_uri": "https://localhost:8080/"
        },
        "id": "P54jybEq2BtG",
        "outputId": "f430b172-648a-4941-efa7-f42f26d23b8d"
      },
      "source": [
        "#checking the stats. with a standard deviation of around 9.12 the RMSE of 5.82 is quite good.\n",
        "trainingSummary = lr_model.summary\n",
        "print(\"RMSE: %f\" % trainingSummary.rootMeanSquaredError)\n",
        "print(\"r2: %f\" % trainingSummary.r2)\n",
        "\n",
        "df_dropped.select(['life']).describe().show()"
      ],
      "execution_count": null,
      "outputs": [
        {
          "output_type": "stream",
          "text": [
            "RMSE: 5.829036\n",
            "r2: 0.609171\n",
            "+-------+-----------------+\n",
            "|summary|             life|\n",
            "+-------+-----------------+\n",
            "|  count|              139|\n",
            "|   mean|69.60287769784175|\n",
            "| stddev|9.122189401943691|\n",
            "|    min|             45.2|\n",
            "|    max|             82.6|\n",
            "+-------+-----------------+\n",
            "\n"
          ],
          "name": "stdout"
        }
      ]
    },
    {
      "cell_type": "code",
      "metadata": {
        "colab": {
          "base_uri": "https://localhost:8080/"
        },
        "id": "dS52JUGZ2UU4",
        "outputId": "8631f11c-3b6e-46ee-fb1d-dd21b096622c"
      },
      "source": [
        "#evaluation using the testing data and calculating the RMSE\n",
        "test_result = lr_model.evaluate(df_test)\n",
        "print(\"Root Mean Squared Error (RMSE) on test data = %g\" % test_result.rootMeanSquaredError)"
      ],
      "execution_count": null,
      "outputs": [
        {
          "output_type": "stream",
          "text": [
            "Root Mean Squared Error (RMSE) on test data = 4.68335\n"
          ],
          "name": "stdout"
        }
      ]
    },
    {
      "cell_type": "code",
      "metadata": {
        "colab": {
          "base_uri": "https://localhost:8080/"
        },
        "id": "jBKQw_7t34dw",
        "outputId": "17789531-6fef-4761-db0c-043ce6fd2ebc"
      },
      "source": [
        "#making predictions and evaluating\n",
        "lr_predictions = lr_model.transform(df_test)\n",
        "lr_predictions.select(\"prediction\",\"life\",\"features\").show(5)\n",
        "from pyspark.ml.evaluation import RegressionEvaluator\n",
        "lr_evaluator = RegressionEvaluator(predictionCol=\"prediction\", \\\n",
        "                 labelCol=\"life\",metricName=\"r2\")\n",
        "print(\"R Squared (R2) on test data = %g\" % lr_evaluator.evaluate(lr_predictions))"
      ],
      "execution_count": null,
      "outputs": [
        {
          "output_type": "stream",
          "text": [
            "+-----------------+----+--------+\n",
            "|       prediction|life|features|\n",
            "+-----------------+----+--------+\n",
            "|74.65289031714732|72.2|  [1.89]|\n",
            "|76.92036762111263|81.4|  [1.38]|\n",
            "|70.87376147720512|63.0|  [2.74]|\n",
            "|70.87376147720512|65.7|  [2.74]|\n",
            "|76.03116083524388|72.1|  [1.58]|\n",
            "+-----------------+----+--------+\n",
            "only showing top 5 rows\n",
            "\n",
            "R Squared (R2) on test data = 0.664761\n"
          ],
          "name": "stdout"
        }
      ]
    },
    {
      "cell_type": "markdown",
      "metadata": {
        "id": "fc1gRdUv5xbo"
      },
      "source": [
        "### 6. Lasso Regression for 'life' using all other columns as predictor"
      ]
    },
    {
      "cell_type": "code",
      "metadata": {
        "id": "DzI1zE_4Q2l8"
      },
      "source": [
        "from pyspark.ml.regression import LinearRegression\n",
        "from pyspark.ml.feature import VectorAssembler\n",
        "#preparing the data\n",
        "VecAss = VectorAssembler(inputCols=['population', 'fertility', 'HIV', \n",
        "                                    'CO2', 'BMI_male', 'GDP', \n",
        "                                    'BMI_female', 'child_mortality'], outputCol='features') \n",
        "df_assembled = VecAss.transform(df_dropped)\n",
        "\n",
        "#preparing the regressor (elasticNetParam = 1 for Lasso Regression)\n",
        "lr = LinearRegression(featuresCol='features', labelCol='life',maxIter=10, elasticNetParam=1, regParam=0.1)\n",
        "#splitting the data\n",
        "(df_train, df_test) = df_assembled.randomSplit([0.7, 0.3])\n",
        "#training the model\n",
        "lr_model = lr.fit(df_train)"
      ],
      "execution_count": null,
      "outputs": []
    },
    {
      "cell_type": "code",
      "metadata": {
        "colab": {
          "base_uri": "https://localhost:8080/"
        },
        "id": "MiCFLTEORCZq",
        "outputId": "eb0e3baf-40ac-439b-c155-cb14027da994"
      },
      "source": [
        "#checking the stats. with a standard deviation of around 9.01 the RMSE of 3.01 is very good.\n",
        "trainingSummary = lr_model.summary\n",
        "print(\"RMSE: %f\" % trainingSummary.rootMeanSquaredError)\n",
        "print(\"r2: %f\" % trainingSummary.r2)\n",
        "\n",
        "df_train.select(['life']).describe().show()"
      ],
      "execution_count": null,
      "outputs": [
        {
          "output_type": "stream",
          "text": [
            "RMSE: 2.525198\n",
            "r2: 0.918562\n",
            "+-------+-----------------+\n",
            "|summary|             life|\n",
            "+-------+-----------------+\n",
            "|  count|              105|\n",
            "|   mean|69.73047619047617|\n",
            "| stddev|8.891170250586162|\n",
            "|    min|             45.2|\n",
            "|    max|             82.0|\n",
            "+-------+-----------------+\n",
            "\n"
          ],
          "name": "stdout"
        }
      ]
    },
    {
      "cell_type": "code",
      "metadata": {
        "colab": {
          "base_uri": "https://localhost:8080/"
        },
        "id": "cj8AWX-UXOOa",
        "outputId": "f4882923-3fe5-48b8-8034-4d750d3493c7"
      },
      "source": [
        "#making predictions and evaluating\n",
        "lr_predictions = lr_model.transform(df_test)\n",
        "lr_predictions.select(\"prediction\",\"life\",\"features\").show(10, truncate=False)\n",
        "test_result = lr_model.evaluate(df_test)\n",
        "print(\"Root Mean Squared Error (RMSE) on test data = %g\" % test_result.rootMeanSquaredError)\n",
        "from pyspark.ml.evaluation import RegressionEvaluator\n",
        "lr_evaluator = RegressionEvaluator(predictionCol=\"prediction\", \\\n",
        "                 labelCol=\"life\",metricName=\"r2\")\n",
        "print(\"R Squared (R2) on test data = %g\" % lr_evaluator.evaluate(lr_predictions))\n"
      ],
      "execution_count": null,
      "outputs": [
        {
          "output_type": "stream",
          "text": [
            "+-----------------+----+-----------------------------------------------------------------------+\n",
            "|prediction       |life|features                                                               |\n",
            "+-----------------+----+-----------------------------------------------------------------------+\n",
            "|74.46228810780472|72.2|[348587.0,1.89,3.1,3.13192132134112,27.24594,24373.0,124.3862,14.5]    |\n",
            "|72.58932524703279|65.7|[843206.0,2.74,0.1,1.27777955576417,26.53078,7129.0,127.4768,24.0]     |\n",
            "|58.01824840428609|51.3|[1561293.0,5.25,2.5,0.156376432466591,21.64338,1326.0,130.7627,127.6]  |\n",
            "|48.46510017123357|61.2|[1967866.0,2.86,24.9,2.5472054915144904,22.12984,13858.0,133.1307,63.8]|\n",
            "|74.3063865923123 |72.3|[2144215.0,1.5,0.6,3.34184866312845,26.45693,20977.0,129.5746,10.5]    |\n",
            "|71.08070018417743|72.5|[2975029.0,1.4,0.1,1.8041062172001,25.35542,7383.0,132.8108,20.0]      |\n",
            "|74.74583658077024|77.6|[4109389.0,1.57,0.1,3.996721795381,27.20117,14158.0,127.5037,11.3]     |\n",
            "|71.6352608298047 |72.1|[4343290.0,1.79,0.1,1.4194297793045,25.54942,5900.0,130.5789,19.3]     |\n",
            "|75.94194280603963|79.7|[4429506.0,1.91,0.3,1.9119334188978503,26.47897,12219.0,121.35,10.3]   |\n",
            "|72.75480347488917|73.6|[6047131.0,3.06,0.3,0.6985817458348059,25.54223,6684.0,123.615,25.7]   |\n",
            "+-----------------+----+-----------------------------------------------------------------------+\n",
            "only showing top 10 rows\n",
            "\n",
            "Root Mean Squared Error (RMSE) on test data = 4.16644\n",
            "R Squared (R2) on test data = 0.81868\n"
          ],
          "name": "stdout"
        }
      ]
    },
    {
      "cell_type": "code",
      "metadata": {
        "id": "RaW8jNvO276Q"
      },
      "source": [
        ""
      ],
      "execution_count": null,
      "outputs": []
    }
  ]
}